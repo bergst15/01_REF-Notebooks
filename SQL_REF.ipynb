{
 "cells": [
  {
   "cell_type": "markdown",
   "metadata": {},
   "source": [
    "# SQL Reference Notebook"
   ]
  },
  {
   "cell_type": "markdown",
   "metadata": {},
   "source": [
    "General pointers:\n",
    "- a semicolon denotes the end of a query (optional)\n",
    "- SQL assumes if you divide an integer by an integer, you want an integer back, so be cognisant of decimal points"
   ]
  },
  {
   "cell_type": "markdown",
   "metadata": {},
   "source": [
    "## Common Keywords\n",
    "\n",
    "- DISTINCT - returns unique values\n",
    "- COUNT - returns the number of records\n",
    "- WHERE - allows filtering (text and numeric), always after FROM\n",
    "- AND/OR - logical chains\n",
    "- BETWEEN - upper and lower limit\n",
    "- IN - specify multiple values in a WHERE clause\n",
    "- NULL - represents missing or unknown value\n",
    "- LIKE - search for text pattern\n",
    "- AS - aliasing\n",
    "- ORDER BY - sorts results by values in a column  (default ascending)\n",
    "- GROUP BY - groups results by one or more columns\n",
    "- JOIN - combine tables on common columns (keys)\n",
    "- USING - when joining on columns with the same name, sub `USING(id)` for `ON`\n",
    "- CASE - allows multiple `IF-THEN-ELSE` statements in a simplified way (calculated column)\n",
    "- INTO - allows placement of query results into a new table"
   ]
  },
  {
   "cell_type": "markdown",
   "metadata": {},
   "source": [
    "## Aggregate Functions\n",
    "\n",
    "- AVG - average\n",
    "- MAX - max\n",
    "- SUM - sum\n",
    "- MIN - min"
   ]
  },
  {
   "cell_type": "markdown",
   "metadata": {},
   "source": [
    "## COUNT\n",
    "`COUNT(*)` returns the number of rows in a table, `COUNT(column_name)` returns the number of non-missing values in the selected column."
   ]
  },
  {
   "cell_type": "code",
   "execution_count": null,
   "metadata": {},
   "outputs": [],
   "source": [
    "# example 1\n",
    "SELECT COUNT(*)\n",
    "FROM people;\n",
    "\n",
    "# example 2\n",
    "SELECT COUNT(birthdate)\n",
    "FROM people;\n",
    "\n",
    "# example 3\n",
    "SELECT COUNT(DISTINCT birthdate)\n",
    "FROM people;"
   ]
  },
  {
   "cell_type": "markdown",
   "metadata": {},
   "source": [
    "## WHERE\n",
    "\n",
    "Note, when combining `AND` and `OR` be sure to enclose the individual clauses in parentheses."
   ]
  },
  {
   "cell_type": "code",
   "execution_count": null,
   "metadata": {},
   "outputs": [],
   "source": [
    "# example 1\n",
    "SELECT title\n",
    "FROM films\n",
    "WHERE release_year > 1994\n",
    "AND release_year < 2000;\n",
    "\n",
    "# example 2\n",
    "SELECT *\n",
    "FROM films\n",
    "WHERE language = 'Spanish'\n",
    "AND release_year > 2000;\n",
    "\n",
    "# example 3\n",
    "SELECT title\n",
    "FROM films\n",
    "WHERE release_year = 1994\n",
    "OR release_year = 2000;\n",
    "\n",
    "# example 4\n",
    "SELECT title\n",
    "FROM films\n",
    "WHERE (release_year = 1994 OR release_year = 1995)\n",
    "AND (certification = 'PG' OR certification = 'R');"
   ]
  },
  {
   "cell_type": "markdown",
   "metadata": {},
   "source": [
    "## BETWEEN\n",
    "\n",
    "Note that `BETWEEN` is inclusive."
   ]
  },
  {
   "cell_type": "code",
   "execution_count": null,
   "metadata": {},
   "outputs": [],
   "source": [
    "# example 1\n",
    "SELECT title\n",
    "FROM films\n",
    "WHERE release_year\n",
    "BETWEEN 1994 AND 2000;\n",
    "\n",
    "# example 2\n",
    "SELECT name\n",
    "FROM kids\n",
    "WHERE age BETWEEN 2 AND 12\n",
    "AND nationality = 'USA';"
   ]
  },
  {
   "cell_type": "markdown",
   "metadata": {},
   "source": [
    "## IN"
   ]
  },
  {
   "cell_type": "code",
   "execution_count": null,
   "metadata": {},
   "outputs": [],
   "source": [
    "# example 1\n",
    "SELECT name\n",
    "FROM kids\n",
    "WHERE age IN (2, 4, 6, 8, 10);"
   ]
  },
  {
   "cell_type": "markdown",
   "metadata": {},
   "source": [
    "## NULL, IS NULL, IS NOT NULL"
   ]
  },
  {
   "cell_type": "code",
   "execution_count": null,
   "metadata": {},
   "outputs": [],
   "source": [
    "# example 1\n",
    "SELECT COUNT(*)\n",
    "FROM people\n",
    "WHERE birthdate IS NULL;\n",
    "\n",
    "# example 2\n",
    "SELECT name\n",
    "FROM people\n",
    "WHERE birthdate IS NOT NULL;"
   ]
  },
  {
   "cell_type": "markdown",
   "metadata": {},
   "source": [
    "## LIKE, NOT LIKE\n",
    "\n",
    "Here, `%` represents a wildcard matching any zero, one, or many characters and `_` represents a wildcard matching a *single* character."
   ]
  },
  {
   "cell_type": "code",
   "execution_count": null,
   "metadata": {},
   "outputs": [],
   "source": [
    "# example 1\n",
    "SELECT name\n",
    "FROM companies\n",
    "WHERE name LIKE 'Data%';\n",
    "\n",
    "# example 2\n",
    "SELECT name\n",
    "FROM companies\n",
    "WHERE name LIKE 'DataC_mp';"
   ]
  },
  {
   "cell_type": "markdown",
   "metadata": {},
   "source": [
    "## Aggregate Functions"
   ]
  },
  {
   "cell_type": "code",
   "execution_count": null,
   "metadata": {},
   "outputs": [],
   "source": [
    "# example 1\n",
    "SELECT AVG(budget)\n",
    "FROM films;\n",
    "\n",
    "# example 2\n",
    "SELECT MAX(budget)\n",
    "FROM films;\n",
    "\n",
    "# example 3\n",
    "SELECT SUM(budget)\n",
    "FROM films\n",
    "WHERE release_year >= 2010;"
   ]
  },
  {
   "cell_type": "markdown",
   "metadata": {},
   "source": [
    "## AS and arithmetic"
   ]
  },
  {
   "cell_type": "code",
   "execution_count": null,
   "metadata": {},
   "outputs": [],
   "source": [
    "# example 1\n",
    "SELECT MAX(budget) AS max_budget,\n",
    "       MAX(duration) AS max_duration\n",
    "FROM films;\n",
    "\n",
    "# example 2\n",
    "SELECT\n",
    "title, (gross - budget) AS net_profit\n",
    "FROM\n",
    "films;\n",
    "\n",
    "# example 3\n",
    "SELECT\n",
    "title, (duration/60.0) AS duration_hours\n",
    "FROM\n",
    "films;"
   ]
  },
  {
   "cell_type": "markdown",
   "metadata": {},
   "source": [
    "## ORDER BY"
   ]
  },
  {
   "cell_type": "code",
   "execution_count": null,
   "metadata": {},
   "outputs": [],
   "source": [
    "# example 1 - DESC = descending\n",
    "SELECT title\n",
    "FROM films\n",
    "ORDER BY release_year DESC;\n",
    "\n",
    "# example 2\n",
    "SELECT title\n",
    "FROM films\n",
    "WHERE (release_year = 2000 OR release_year = 2012)\n",
    "ORDER BY release_year;\n",
    "\n",
    "# example 3\n",
    "SELECT birthdate, name\n",
    "FROM people\n",
    "ORDER BY birthdate, name;"
   ]
  },
  {
   "cell_type": "markdown",
   "metadata": {},
   "source": [
    "## GROUP BY\n",
    "\n",
    "As with pandas, `GROUP BY` is commonly used in conjunction with an aggregate function such as `COUNT()` or `MAX()` and is always applied after the `FROM` clause. Also note that you need to `GROUP BY` all fields that aren't aggregated in your `SELECT` clause."
   ]
  },
  {
   "cell_type": "code",
   "execution_count": null,
   "metadata": {},
   "outputs": [],
   "source": [
    "# example 1\n",
    "SELECT sex, count(*)\n",
    "FROM employees\n",
    "GROUP BY sex;\n",
    "\n",
    "# example 2\n",
    "# see Left JOIN, example 2"
   ]
  },
  {
   "cell_type": "markdown",
   "metadata": {},
   "source": [
    "## JOIN\n",
    "\n",
    "`JOIN` is a powerful tool to combine data from different tables. There are several different options that determine how the data is combined.\n",
    "\n",
    "Note that `LEFT JOIN`, `RIGHT JOIN`, and `FULL JOIN` are all classified as outer joins."
   ]
  },
  {
   "cell_type": "markdown",
   "metadata": {},
   "source": [
    "### Inner JOIN\n",
    "\n",
    "Select all records from Table A and Table B where join condition is met.\n",
    "<p></p><img src=\"images/inner_join.png\"><p></p>"
   ]
  },
  {
   "cell_type": "code",
   "execution_count": null,
   "metadata": {},
   "outputs": [],
   "source": [
    "# example 1\n",
    "SELECT *\n",
    "FROM left_table\n",
    "INNER JOIN right_table\n",
    "ON left_table.id = right_table.id;\n",
    "\n",
    "# example 2 - multiple inner JOIN\n",
    "SELECT *\n",
    "FROM left_table\n",
    "INNER JOIN right_table\n",
    "ON left_table.id = right_table.id\n",
    "INNER JOIN table1\n",
    "ON left_table.id = table1.id;\n",
    "\n",
    "# example 3 - also adding calculated field\n",
    "SELECT p1.country_code, \n",
    "       p1.size AS size2010,\n",
    "       p2.size AS size2015,\n",
    "       (p2.size-p1.size)/p1.size * 100.0 AS growth_perc\n",
    "FROM populations AS p1\n",
    "INNER JOIN populations AS p2\n",
    "ON  p1.country_code = p2.country_code\n",
    "AND p1.year = p2.year-5;"
   ]
  },
  {
   "cell_type": "markdown",
   "metadata": {},
   "source": [
    "### Left JOIN\n",
    "\n",
    "Select all records from Talbe A along with records from Table B for which the join condition is met (if at all).\n",
    "<p></p><img src=\"images/left_join.png\"><p></p>"
   ]
  },
  {
   "cell_type": "code",
   "execution_count": null,
   "metadata": {},
   "outputs": [],
   "source": [
    "# example 1\n",
    "SELECT c.name AS country, local_name, l.name AS language, percent\n",
    "FROM countries AS c\n",
    "LEFT JOIN languages AS l\n",
    "ON c.code = l.code\n",
    "ORDER BY country DESC;\n",
    "\n",
    "# example 2\n",
    "SELECT region, AVG(gdp_percapita) AS avg_gdp\n",
    "FROM countries AS c\n",
    "LEFT JOIN economies AS e\n",
    "USING(code)\n",
    "WHERE year = 2010\n",
    "GROUP BY c.region\n",
    "ORDER BY avg_gdp;\n",
    "\n",
    "# example 3 - see Right JOIN example 1 for equivalent\n",
    "SELECT cities.name AS city, urbanarea_pop, countries.name AS country,\n",
    "       indep_year, languages.name AS language, percent\n",
    "FROM cities\n",
    "LEFT JOIN countries\n",
    "ON cities.country_code = countries.code\n",
    "LEFT JOIN languages\n",
    "ON countries.code = languages.code\n",
    "ORDER BY city, language;"
   ]
  },
  {
   "cell_type": "markdown",
   "metadata": {},
   "source": [
    "### Right JOIN\n",
    "\n",
    "Select all records from Table B, along with records from Table A for which the join condition is met (if at all). Right joins are not as common as left joins, mostly because you can always write a right join as a left join.\n",
    "<p></p><img src=\"images/right_join.png\"><p></p>"
   ]
  },
  {
   "cell_type": "code",
   "execution_count": null,
   "metadata": {},
   "outputs": [],
   "source": [
    "# example 1 - see Left JOIN example 3 for equivalent\n",
    "SELECT cities.name AS city, urbanarea_pop, countries.name AS country,\n",
    "       indep_year, languages.name AS language, percent\n",
    "FROM languages\n",
    "RIGHT JOIN countries\n",
    "ON languages.code = countries.code\n",
    "RIGHT JOIN cities\n",
    "ON countries.code = cities.country_code\n",
    "ORDER BY city, language;"
   ]
  },
  {
   "cell_type": "markdown",
   "metadata": {},
   "source": [
    "### Full JOIN\n",
    "\n",
    "Select all records from Table A and Table B, regardless of whether the join condition is met or not.\n",
    "<p></p><img src=\"images/full_join.png\"><p></p>"
   ]
  },
  {
   "cell_type": "code",
   "execution_count": null,
   "metadata": {},
   "outputs": [],
   "source": [
    "# example 1\n",
    "SELECT name AS country, code, region, basic_unit\n",
    "FROM countries AS c1\n",
    "FULL JOIN currencies AS c2\n",
    "USING (code)\n",
    "WHERE c1.region = 'North America' OR c1.region IS NULL\n",
    "ORDER BY region;\n",
    "\n",
    "# example 2\n",
    "SELECT c.name, code, l.name AS language\n",
    "FROM languages AS l\n",
    "FULL JOIN countries AS c\n",
    "USING (code)\n",
    "WHERE c.name LIKE 'V%' OR c.name IS NULL\n",
    "ORDER BY name;\n",
    "\n",
    "# example 3 - double full join\n",
    "SELECT c1.name AS country, region, l.name AS language,\n",
    "       c2.basic_unit, c2.frac_unit\n",
    "FROM countries AS c1\n",
    "FULL JOIN languages AS l\n",
    "USING (code)\n",
    "FULL JOIN currencies AS c2\n",
    "USING (code)\n",
    "WHERE c1.region LIKE 'M%esia';"
   ]
  },
  {
   "cell_type": "markdown",
   "metadata": {},
   "source": [
    "### Cross JOIN\n",
    "\n",
    "Selects all possible combinations between `id`'s of both tables. Note that cross joins do **not** use `ON` or `USING`.\n",
    "<p></p><img src=\"images/cross_join.png\"><p></p>"
   ]
  },
  {
   "cell_type": "code",
   "execution_count": null,
   "metadata": {},
   "outputs": [],
   "source": [
    "# example 1\n",
    "SELECT c.name AS city, l.name AS language\n",
    "FROM cities AS c\n",
    "CROSS JOIN languages AS l\n",
    "WHERE c.name LIKE 'Hyder%';"
   ]
  },
  {
   "cell_type": "markdown",
   "metadata": {},
   "source": [
    "## CASE\n",
    "\n",
    "`CASE` allows for multiple logical statements to be entered in a simplified way. You can use `CASE` with `WHEN`, `THEN`, `ELSE`, and `END` to define a new goruping field."
   ]
  },
  {
   "cell_type": "code",
   "execution_count": null,
   "metadata": {},
   "outputs": [],
   "source": [
    "# example 1\n",
    "SELECT name, continent, code, surface_area,\n",
    "    CASE WHEN surface_area > 2000000\n",
    "            THEN 'large'\n",
    "       WHEN surface_area > 350000\n",
    "            THEN 'medium'\n",
    "       ELSE 'small' END\n",
    "       AS geosize_group\n",
    "FROM countries;\n",
    "\n",
    "# example 2\n"
   ]
  },
  {
   "cell_type": "markdown",
   "metadata": {},
   "source": [
    "## INTO\n",
    "\n",
    "`INTO` allows placement of query results into a new table."
   ]
  },
  {
   "cell_type": "code",
   "execution_count": null,
   "metadata": {},
   "outputs": [],
   "source": [
    "# example 1\n",
    "SELECT name, continent, code, surface_area,\n",
    "    CASE WHEN surface_area > 2000000\n",
    "            THEN 'large'\n",
    "       WHEN surface_area > 350000\n",
    "            THEN 'medium'\n",
    "       ELSE 'small' END\n",
    "       AS geosize_group\n",
    "INTO countries_plus\n",
    "FROM countries;"
   ]
  },
  {
   "cell_type": "markdown",
   "metadata": {},
   "source": [
    "## Set Theory\n",
    "\n",
    "In SQL, set theory is needed to fully understand the `UNION`, `UNION ALL`, `INTERSECT`, and `EXCEPT` keywords.\n",
    "\n",
    "A detailed explanation beginning from the mathematical foundations can be found here: <br>\n",
    "https://www.sqlshack.com/mathematics-sql-server-fast-introduction-set-theory/\n",
    "\n",
    "<p></p><img src=\"images/set_theory.png\"><p></p>\n",
    "\n",
    "Quick breakdown:\n",
    "- `UNION` - includes every record in both tables, but **does not** double count records in both tables\n",
    "- `UNION ALL` - includes every record in both tables, but **does** double count records in both tables\n",
    "- `INTERSECT` - includes every record found in both tables\n",
    "- `EXCEPT` - includes every record found in one table, but not the other"
   ]
  },
  {
   "cell_type": "markdown",
   "metadata": {},
   "source": [
    "### UNION\n",
    "\n",
    "`UNION` includes every record found in both tables, but does not double count records found in both tables. `UNION` can also be used to determine all occurrences of a field across multiple tables, see example 2. You can think of this as a `SELECT DISTINCT` for multiple tables.\n",
    "\n",
    "<p></p><img src=\"images/union.png\" width=\"150\"><p></p>"
   ]
  },
  {
   "cell_type": "code",
   "execution_count": null,
   "metadata": {},
   "outputs": [],
   "source": [
    "# example 1\n",
    "SELECT *\n",
    "FROM economies2010\n",
    "UNION\n",
    "SELECT *\n",
    "FROM economies2015\n",
    "ORDER BY code, year;\n",
    "\n",
    "# example 2\n",
    "SELECT code\n",
    "FROM currencies\n",
    "UNION \n",
    "SELECT country_code\n",
    "FROM cities\n",
    "ORDER BY code;"
   ]
  },
  {
   "cell_type": "markdown",
   "metadata": {},
   "source": [
    "### UNION ALL\n",
    "\n",
    "`UNION ALL` includes every record found in both tables and does double count records found in both tables.\n",
    "\n",
    "<p></p><img src=\"images/union_all.png\" width=\"150\"><p></p>"
   ]
  },
  {
   "cell_type": "code",
   "execution_count": null,
   "metadata": {},
   "outputs": [],
   "source": [
    "# example 1\n",
    "SELECT country_code AS code, year\n",
    "FROM populations\n",
    "UNION ALL\n",
    "SELECT code, year\n",
    "FROM economies\n",
    "ORDER BY code, year;"
   ]
  },
  {
   "cell_type": "markdown",
   "metadata": {},
   "source": [
    "### INTERSECT\n",
    "\n",
    "`INTERSECT` includes every record found in both tables. Note that if you select multiple columns, all columns will be evaluated together.\n",
    "<p></p><img src=\"images/intersect.png\" width=\"150\"><p></p>"
   ]
  },
  {
   "cell_type": "code",
   "execution_count": null,
   "metadata": {},
   "outputs": [],
   "source": [
    "# example 1\n",
    "SELECT code, year\n",
    "FROM economies\n",
    "INTERSECT\n",
    "SELECT country_code, year\n",
    "FROM populations\n",
    "ORDER BY code, year;\n",
    "\n",
    "# example 2 - which countries also have a city \n",
    "#             with the same name as their country?\n",
    "SELECT name\n",
    "FROM countries\n",
    "INTERSECT\n",
    "SELECT name\n",
    "FROM cities\n",
    "ORDER BY name;"
   ]
  },
  {
   "cell_type": "markdown",
   "metadata": {},
   "source": [
    "### EXCEPT\n",
    "\n",
    "`EXCEPT` includes every record found in one table but not the other.\n",
    "\n",
    "<p></p><img src=\"images/except.png\" width=\"150\"><p></p>"
   ]
  },
  {
   "cell_type": "code",
   "execution_count": null,
   "metadata": {},
   "outputs": [],
   "source": [
    "# example 1 - Get the names of cities in cities which are not noted as \n",
    "#             capital cities in countries as a single field result\n",
    "SELECT name\n",
    "FROM cities\n",
    "EXCEPT\n",
    "SELECT capital\n",
    "FROM countries\n",
    "ORDER BY name;\n",
    "\n",
    "# example 2 - reverse of example 1\n",
    "SELECT capital\n",
    "FROM countries\n",
    "EXCEPT\n",
    "SELECT name\n",
    "FROM cities\n",
    "ORDER BY capital;\n",
    "\n",
    "# for fun, note that example 1 showed 170 rows while example 2 showed\n",
    "# 136 rows - the tables contained 236 of the world's most populous cities"
   ]
  },
  {
   "cell_type": "markdown",
   "metadata": {},
   "source": [
    "### Semi-joins and Anti-joins\n",
    "\n",
    "Semi-joins and Anti-joins function similarly to `WHERE` clauses dependent on values in a second table. They are useful for filtering one tables records based on another tables records. This section will also touch on subqueries.\n",
    "\n",
    "Anti-joins are particularly useful in identifying which records are causing an incorrect number of records to appear in join queries.\n",
    "\n",
    "<p></p><img src=\"images/semi_anti_joins.png\" width=\"400\"><p></p>"
   ]
  },
  {
   "cell_type": "code",
   "execution_count": null,
   "metadata": {},
   "outputs": [],
   "source": [
    "# example 1 - semi-join\n",
    "SELECT DISTINCT name\n",
    "FROM languages\n",
    "WHERE code IN\n",
    "    (SELECT code\n",
    "    FROM countries\n",
    "    WHERE region = 'Middle East')\n",
    "ORDER BY name;\n",
    "\n",
    "# example 2 - anti-join\n",
    "SELECT code, name\n",
    "FROM countries\n",
    "WHERE continent = 'Oceania'\n",
    "    AND code NOT IN\n",
    "    (SELECT code\n",
    "    FROM currencies);"
   ]
  },
  {
   "cell_type": "markdown",
   "metadata": {},
   "source": [
    "### Complex Example\n",
    "\n",
    "This example accomplishes the following:\n",
    "- Identify the country codes that are included in either economies or currencies but not in populations\n",
    "- Use this result to determine the names of cities in the countries that match the specification in the previous instruction"
   ]
  },
  {
   "cell_type": "code",
   "execution_count": null,
   "metadata": {},
   "outputs": [],
   "source": [
    "# select the city name\n",
    "SELECT name\n",
    "# alias the table where city name resides\n",
    "FROM cities AS c1\n",
    "# choose only records matching the result of multiple set theory clauses\n",
    "WHERE country_code IN\n",
    "(\n",
    "    # select appropriate field from economies AS e\n",
    "    SELECT e.code\n",
    "    FROM economies AS e\n",
    "    # get all additional (unique) values of the field from currencies AS c2  \n",
    "    UNION\n",
    "    SELECT c2.code\n",
    "    FROM currencies AS c2\n",
    "    # exclude those appearing in populations AS p\n",
    "    EXCEPT\n",
    "    SELECT p.country_code\n",
    "    FROM populations AS p\n",
    ");"
   ]
  },
  {
   "cell_type": "markdown",
   "metadata": {},
   "source": [
    "## Subqueries\n",
    "\n",
    "Subqueries are most commonly found inside `WHERE` clauses. For instance, you may need to perform a `GROUP BY` and `AVG` query to determine a threshold used to filter in the `WHERE` clause of your primary query.\n",
    "\n",
    "Subqueries can also be found in `SELECT` clauses. Note that when placed within a `SELECT` clause, the subquery must be given an alias. A subquery used in a `SELECT` clause is essentially a new calculated column.\n",
    "\n",
    "Subqueries can also be found in `FROM` clauses. "
   ]
  },
  {
   "cell_type": "markdown",
   "metadata": {},
   "source": [
    "### Within `WHERE` clauses"
   ]
  },
  {
   "cell_type": "code",
   "execution_count": null,
   "metadata": {},
   "outputs": [],
   "source": [
    "# example 1\n",
    "SELECT *\n",
    "FROM populations\n",
    "WHERE life_expectancy > \n",
    "    1.15 * (SELECT AVG(life_expectancy)\n",
    "    FROM populations\n",
    "    WHERE year = 2015)\n",
    "AND year = 2015;\n",
    "\n",
    "# example 2 \n",
    "# select the urban area population for only capital cities\n",
    "SELECT name, country_code, urbanarea_pop\n",
    "FROM cities\n",
    "WHERE name IN\n",
    "  (SELECT capital\n",
    "   FROM countries)\n",
    "ORDER BY urbanarea_pop DESC;"
   ]
  },
  {
   "cell_type": "markdown",
   "metadata": {},
   "source": [
    "### Within `SELECT` clauses"
   ]
  },
  {
   "cell_type": "code",
   "execution_count": null,
   "metadata": {},
   "outputs": [],
   "source": [
    "# example 1\n",
    "SELECT countries.name AS country,\n",
    "  (SELECT COUNT(*)\n",
    "   FROM cities\n",
    "   WHERE countries.code = cities.country_code) AS cities_num\n",
    "FROM countries\n",
    "ORDER BY cities_num DESC, country\n",
    "LIMIT 9;\n",
    "\n",
    "# example 2 - same result as example 1, except using JOIN\n",
    "SELECT countries.name AS country, COUNT(*) AS cities_num\n",
    "FROM cities\n",
    "INNER JOIN countries\n",
    "ON countries.code = cities.country_code\n",
    "GROUP BY country\n",
    "ORDER BY cities_num DESC, country\n",
    "LIMIT 9;"
   ]
  },
  {
   "cell_type": "markdown",
   "metadata": {},
   "source": [
    "### Within `FROM` clauses"
   ]
  },
  {
   "cell_type": "code",
   "execution_count": null,
   "metadata": {},
   "outputs": [],
   "source": [
    "# example 1\n",
    "    # determine the number of languages spoken for reach country, \n",
    "    # identified by the country's local name\n",
    "SELECT local_name, subquery.lang_num\n",
    "FROM countries,\n",
    "    (SELECT code, COUNT(name) AS lang_num\n",
    "    FROM languages\n",
    "    GROUP BY code) AS subquery\n",
    "WHERE countries.code = subquery.code\n",
    "ORDER BY lang_num DESC;\n",
    "\n",
    "# example 2\n"
   ]
  },
  {
   "cell_type": "markdown",
   "metadata": {},
   "source": [
    "### Complex Subquery\n",
    "\n",
    "The following answers which country had the maximum inflation rate and how high it was."
   ]
  },
  {
   "cell_type": "code",
   "execution_count": null,
   "metadata": {},
   "outputs": [],
   "source": [
    "# example 1\n",
    "SELECT name, continent, inflation_rate\n",
    "FROM countries\n",
    "INNER JOIN economies\n",
    "ON countries.code = economies.code\n",
    "WHERE year = 2015\n",
    "    AND inflation_rate IN (\n",
    "        SELECT MAX(inflation_rate) AS max_inf\n",
    "        FROM (\n",
    "             SELECT name, continent, inflation_rate\n",
    "             FROM countries\n",
    "             INNER JOIN economies\n",
    "             ON countries.code = economies.code\n",
    "             WHERE year = 2015) AS subquery\n",
    "        GROUP BY continent);"
   ]
  }
 ],
 "metadata": {
  "kernelspec": {
   "display_name": "Python 3",
   "language": "python",
   "name": "python3"
  },
  "language_info": {
   "codemirror_mode": {
    "name": "ipython",
    "version": 3
   },
   "file_extension": ".py",
   "mimetype": "text/x-python",
   "name": "python",
   "nbconvert_exporter": "python",
   "pygments_lexer": "ipython3",
   "version": "3.6.5"
  }
 },
 "nbformat": 4,
 "nbformat_minor": 2
}
