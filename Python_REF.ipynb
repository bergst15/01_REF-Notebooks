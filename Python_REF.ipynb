{
 "cells": [
  {
   "cell_type": "markdown",
   "metadata": {},
   "source": [
    "# Python Reference Notebook"
   ]
  },
  {
   "cell_type": "markdown",
   "metadata": {},
   "source": [
    "## Lambda Functions\n",
    "\n",
    "Great for tweaking values as the input to another function or expression. It is commonly used within functions like `map`, `filter`, etc.\n",
    "\n",
    "General format: <br>\n",
    ">`lambda [arguments] : [expression]`"
   ]
  },
  {
   "cell_type": "code",
   "execution_count": 2,
   "metadata": {},
   "outputs": [
    {
     "name": "stdout",
     "output_type": "stream",
     "text": [
      "[2304, 36, 81, 441, 1]\n"
     ]
    }
   ],
   "source": [
    "nums = [48, 6, 9, 21, 1]\n",
    "square_all = map(lambda num: num**2, nums)\n",
    "\n",
    "print(list(square_all))"
   ]
  },
  {
   "cell_type": "markdown",
   "metadata": {},
   "source": [
    "## Enumerate\n",
    "\n",
    "When iterating, you can also return the index along with the label by using `enumerate`. \n",
    "\n",
    "General format: <br>\n",
    ">`for index, value in enumerate(var):`"
   ]
  },
  {
   "cell_type": "code",
   "execution_count": 52,
   "metadata": {},
   "outputs": [
    {
     "name": "stdout",
     "output_type": "stream",
     "text": [
      "0 hawkeye\n",
      "1 iron man\n",
      "2 thor\n",
      "3 quicksilver\n"
     ]
    }
   ],
   "source": [
    "avengers = ['hawkeye', 'iron man', 'thor', 'quicksilver']\n",
    "\n",
    "for index, value in enumerate(avengers):\n",
    "    print(index, value)"
   ]
  },
  {
   "cell_type": "markdown",
   "metadata": {},
   "source": [
    "## Zip\n",
    "\n",
    "Combine two values into tuples.\n",
    "\n",
    "General format:<br>\n",
    ">`result = zip(list1, list2)`"
   ]
  },
  {
   "cell_type": "code",
   "execution_count": 12,
   "metadata": {},
   "outputs": [
    {
     "name": "stdout",
     "output_type": "stream",
     "text": [
      "[('hawkeye', 'barton'), ('iron man', 'stark'), ('thor', 'odinson'), ('quicksilver', 'maximoff')]\n"
     ]
    }
   ],
   "source": [
    "avengers = ['hawkeye', 'iron man', 'thor', 'quicksilver']\n",
    "names = ['barton', 'stark', 'odinson', 'maximoff']\n",
    "z = zip(avengers, names)\n",
    "\n",
    "print(list(z))"
   ]
  },
  {
   "cell_type": "markdown",
   "metadata": {},
   "source": [
    "<br>\n",
    "You can also unpack or 'unzip' these tuples.\n",
    "\n",
    "General format:<br> \n",
    ">`list1, list2 = zip(*result)`"
   ]
  },
  {
   "cell_type": "code",
   "execution_count": 15,
   "metadata": {},
   "outputs": [
    {
     "name": "stdout",
     "output_type": "stream",
     "text": [
      "('hawkeye', 'iron man', 'thor', 'quicksilver')\n",
      "('barton', 'stark', 'odinson', 'maximoff')\n"
     ]
    }
   ],
   "source": [
    "z = zip(avengers, names)\n",
    "avengers_unzip, names_unzip = zip(*z)\n",
    "\n",
    "print(avengers_unzip)\n",
    "print(names_unzip)"
   ]
  },
  {
   "cell_type": "markdown",
   "metadata": {},
   "source": [
    "## List Comprehension and Generators\n",
    "\n",
    "### List Comprehension\n",
    "\n",
    "List comprehension essentially compacts for loops into a single line. It allows you modify lists very succinctly. \n",
    "\n",
    "General format:<br> \n",
    ">`[[output expession] for iterator variable in iterable]`"
   ]
  },
  {
   "cell_type": "code",
   "execution_count": 18,
   "metadata": {},
   "outputs": [
    {
     "name": "stdout",
     "output_type": "stream",
     "text": [
      "[0, 1, 2, 3, 4, 5, 6, 7, 8, 9]\n"
     ]
    }
   ],
   "source": [
    "result = [num for num in range(10)]\n",
    "print(result)"
   ]
  },
  {
   "cell_type": "code",
   "execution_count": 17,
   "metadata": {},
   "outputs": [
    {
     "name": "stdout",
     "output_type": "stream",
     "text": [
      "[0, 1, 4, 9, 16, 25, 36, 49, 64, 81]\n"
     ]
    }
   ],
   "source": [
    "squares = [i**2 for i in range(0,10)]\n",
    "print(squares)"
   ]
  },
  {
   "cell_type": "markdown",
   "metadata": {},
   "source": [
    "<br>\n",
    "You can even use list comprehension in a nested format. Below a list comprehension is used as the output expression for another list comprehension."
   ]
  },
  {
   "cell_type": "code",
   "execution_count": 19,
   "metadata": {},
   "outputs": [
    {
     "name": "stdout",
     "output_type": "stream",
     "text": [
      "[0, 1, 2, 3, 4]\n",
      "[0, 1, 2, 3, 4]\n",
      "[0, 1, 2, 3, 4]\n",
      "[0, 1, 2, 3, 4]\n",
      "[0, 1, 2, 3, 4]\n"
     ]
    }
   ],
   "source": [
    "matrix = [[col for col in range(0,5)] for row in range(0,5)]\n",
    "for row in matrix:\n",
    "    print(row)"
   ]
  },
  {
   "cell_type": "markdown",
   "metadata": {},
   "source": [
    "<br>\n",
    "Although you sacrifice readability, you can also nest comprehensions in sequence."
   ]
  },
  {
   "cell_type": "code",
   "execution_count": 20,
   "metadata": {},
   "outputs": [
    {
     "name": "stdout",
     "output_type": "stream",
     "text": [
      "[(0, 6), (0, 7), (1, 6), (1, 7)]\n"
     ]
    }
   ],
   "source": [
    "pairs = [(num1, num2) for num1 in range(0, 2) for num2 in range(6, 8)]\n",
    "print(pairs)"
   ]
  },
  {
   "cell_type": "markdown",
   "metadata": {},
   "source": [
    "<br>\n",
    "You can also use conditionals within comprehensions."
   ]
  },
  {
   "cell_type": "code",
   "execution_count": 21,
   "metadata": {},
   "outputs": [
    {
     "name": "stdout",
     "output_type": "stream",
     "text": [
      "[0, 4, 16, 36, 64]\n"
     ]
    }
   ],
   "source": [
    "result = [num ** 2 for num in range(10) if num % 2 == 0]\n",
    "print(result)"
   ]
  },
  {
   "cell_type": "markdown",
   "metadata": {},
   "source": [
    "<br>\n",
    "Another conditional example. The if-else conditional should be inserted inbetween the `output expression` and `for`.\n",
    "\n",
    "General format: <br>\n",
    ">`[[output expession] (if-else) for iterator_variable in iterable]`"
   ]
  },
  {
   "cell_type": "code",
   "execution_count": 23,
   "metadata": {},
   "outputs": [
    {
     "name": "stdout",
     "output_type": "stream",
     "text": [
      "['', 'samwise', '', 'aragorn', 'legolas', 'boromir', '']\n"
     ]
    }
   ],
   "source": [
    "fellowship = [\n",
    "    'frodo', 'samwise', 'merry', 'aragorn', 'legolas', 'boromir', 'gimli']\n",
    "new_fellowship = [\n",
    "    member if len(member) >=7 else '' for member in fellowship]\n",
    "print(new_fellowship)"
   ]
  },
  {
   "cell_type": "markdown",
   "metadata": {},
   "source": [
    "### Another List Comprehension Example\n",
    "\n",
    "Say we have a continuous string that is actually octets of bits representing ASCII characters. We can use the following to break the string up into chunks of 8 and store it as a list."
   ]
  },
  {
   "cell_type": "code",
   "execution_count": 2,
   "metadata": {},
   "outputs": [],
   "source": [
    "bbs = '''\n",
    "011100110010000001101110011011110010000000100000011010010010000001110011011\n",
    "011100010000001100101001000000010000001101000001000000010000001100101001000\n",
    "00011100100010000000100000011100000110110100100000011011110010000001100011\n",
    "'''"
   ]
  },
  {
   "cell_type": "code",
   "execution_count": 2,
   "metadata": {},
   "outputs": [
    {
     "name": "stdout",
     "output_type": "stream",
     "text": [
      "['01110011', '00100000', '01101110', '01101111', '00100000', '00100000', '01101001', '00100000', '01110011', '01101110', '00100000', '01100101', '00100000', '00100000', '01101000', '00100000', '00100000', '01100101', '00100000', '01110010', '00100000', '00100000', '01110000', '01101101', '00100000', '01101111', '00100000', '01100011']\n"
     ]
    }
   ],
   "source": [
    "octets = [bbs[i:i+8] for i in range(0, len(bbs), 8)]\n",
    "print(octets)"
   ]
  },
  {
   "cell_type": "markdown",
   "metadata": {},
   "source": [
    "Now that we have the string separated into octets we can use another comprehension to turn them into characters."
   ]
  },
  {
   "cell_type": "code",
   "execution_count": 3,
   "metadata": {},
   "outputs": [
    {
     "name": "stdout",
     "output_type": "stream",
     "text": [
      "['s', ' ', 'n', 'o', ' ', ' ', 'i', ' ', 's', 'n', ' ', 'e', ' ', ' ', 'h', ' ', ' ', 'e', ' ', 'r', ' ', ' ', 'p', 'm', ' ', 'o', ' ', 'c']\n"
     ]
    }
   ],
   "source": [
    "chrs = [chr(int(octet, 2)) for octet in octets]\n",
    "print(chrs)"
   ]
  },
  {
   "cell_type": "markdown",
   "metadata": {},
   "source": [
    "In order to remove all the `' '` we can use another comprehension:"
   ]
  },
  {
   "cell_type": "code",
   "execution_count": 4,
   "metadata": {},
   "outputs": [
    {
     "name": "stdout",
     "output_type": "stream",
     "text": [
      "['s', 'n', 'o', 'i', 's', 'n', 'e', 'h', 'e', 'r', 'p', 'm', 'o', 'c']\n"
     ]
    }
   ],
   "source": [
    "chrs = [c for c in chrs if c != ' ']\n",
    "print(chrs)"
   ]
  },
  {
   "cell_type": "markdown",
   "metadata": {},
   "source": [
    "Now we can join and reverse the individual letters:"
   ]
  },
  {
   "cell_type": "code",
   "execution_count": 5,
   "metadata": {},
   "outputs": [
    {
     "name": "stdout",
     "output_type": "stream",
     "text": [
      "comprehensions\n"
     ]
    }
   ],
   "source": [
    "message = ''.join(reversed(chrs))\n",
    "print(message)"
   ]
  },
  {
   "cell_type": "markdown",
   "metadata": {},
   "source": [
    "### List Generators\n",
    "\n",
    "List generators are very similar to list comprehensions except format-wise they use `()` instead of `[]`. Code-wise the generators similar to functions like `range` in that they do not explicitly store each value in memory, they only store the method of generating the list and allow you to iterate over it.\n",
    "\n",
    "Comprehension vs Generator example:"
   ]
  },
  {
   "cell_type": "code",
   "execution_count": 25,
   "metadata": {},
   "outputs": [
    {
     "name": "stdout",
     "output_type": "stream",
     "text": [
      "['samwise', 'aragorn', 'legolas', 'boromir']\n",
      "['samwise', 'aragorn', 'legolas', 'boromir']\n"
     ]
    }
   ],
   "source": [
    "fellowship = [\n",
    "    'frodo', 'samwise', 'merry', 'aragorn', 'legolas', 'boromir', 'gimli']\n",
    "\n",
    "# List comprehension\n",
    "fellow1 = [member for member in fellowship if len(member) >= 7]\n",
    "print(fellow1)\n",
    "\n",
    "# Generator expression\n",
    "fellow2 = (member for member in fellowship if len(member) >= 7)\n",
    "print(list(fellow2))"
   ]
  },
  {
   "cell_type": "markdown",
   "metadata": {},
   "source": [
    "### List Comprehension Print Statement"
   ]
  },
  {
   "cell_type": "code",
   "execution_count": null,
   "metadata": {},
   "outputs": [],
   "source": [
    "[print(x, 'has type', type(eval(x))) for x in [\n",
    "    'np_vals', 'np_vals_log10', 'df', 'df_log10']]"
   ]
  },
  {
   "cell_type": "markdown",
   "metadata": {},
   "source": [
    "### Generator Functions\n",
    "\n",
    "Generator functions are functions that, like generator expressions, yield a series of values, instead of returning a single value. A generator function is defined as you do a regular function, but whenever it generates a value, it uses the keyword `yield` instead of `return`."
   ]
  },
  {
   "cell_type": "code",
   "execution_count": 27,
   "metadata": {},
   "outputs": [
    {
     "name": "stdout",
     "output_type": "stream",
     "text": [
      "6\n",
      "5\n",
      "5\n",
      "6\n",
      "7\n"
     ]
    }
   ],
   "source": [
    "lannister = ['cersei', 'jaime', 'tywin', 'tyrion', 'joffrey']\n",
    "\n",
    "def get_lengths(input_list):\n",
    "    \"\"\"Generator function that yields the\n",
    "    length of the strings in input_list.\"\"\"\n",
    "\n",
    "    # Yield the length of a string\n",
    "    for person in input_list:\n",
    "        yield len(person)\n",
    "\n",
    "# Print the values generated by get_lengths()\n",
    "for value in get_lengths(lannister):\n",
    "    print(value)"
   ]
  },
  {
   "cell_type": "markdown",
   "metadata": {},
   "source": [
    "#### Example\n",
    "\n",
    "Real example of how to use list comprehension."
   ]
  },
  {
   "cell_type": "code",
   "execution_count": 49,
   "metadata": {},
   "outputs": [],
   "source": [
    "import pandas as pd\n",
    "tweets = [\n",
    "    'Tue Mar 29 23:40:17 +0000 2016', 'Tue Mar 29 23:40:17 +0000 2016',\n",
    "    'Tue Mar 29 23:40:17 +0000 2016', 'Tue Mar 29 23:40:17 +0000 2016',\n",
    "    'Tue Mar 29 23:40:17 +0000 2016', 'Tue Mar 29 23:40:17 +0000 2016',\n",
    "    'Tue Mar 29 23:40:18 +0000 2016', 'Tue Mar 29 23:40:17 +0000 2016',\n",
    "    'Tue Mar 29 23:40:18 +0000 2016', 'Tue Mar 29 23:40:18 +0000 2016',\n",
    "    'Tue Mar 29 23:40:18 +0000 2016', 'Tue Mar 29 23:40:17 +0000 2016',\n",
    "    'Tue Mar 29 23:40:18 +0000 2016', 'Tue Mar 29 23:40:18 +0000 2016',\n",
    "    'Tue Mar 29 23:40:17 +0000 2016', 'Tue Mar 29 23:40:18 +0000 2016',\n",
    "    'Tue Mar 29 23:40:18 +0000 2016', 'Tue Mar 29 23:40:17 +0000 2016',\n",
    "    'Tue Mar 29 23:40:18 +0000 2016', 'Tue Mar 29 23:40:17 +0000 2016',\n",
    "    'Tue Mar 29 23:40:18 +0000 2016', 'Tue Mar 29 23:40:18 +0000 2016',\n",
    "    'Tue Mar 29 23:40:18 +0000 2016', 'Tue Mar 29 23:40:18 +0000 2016',\n",
    "    'Tue Mar 29 23:40:17 +0000 2016', 'Tue Mar 29 23:40:18 +0000 2016',\n",
    "    'Tue Mar 29 23:40:18 +0000 2016', 'Tue Mar 29 23:40:17 +0000 2016',\n",
    "    'Tue Mar 29 23:40:18 +0000 2016', 'Tue Mar 29 23:40:18 +0000 2016']"
   ]
  },
  {
   "cell_type": "code",
   "execution_count": 50,
   "metadata": {},
   "outputs": [
    {
     "name": "stdout",
     "output_type": "stream",
     "text": [
      "['23:40:17', '23:40:17', '23:40:17', '23:40:17', '23:40:17', '23:40:17', '23:40:18', '23:40:17', '23:40:18', '23:40:18', '23:40:18', '23:40:17', '23:40:18', '23:40:18', '23:40:17', '23:40:18', '23:40:18', '23:40:17', '23:40:18', '23:40:17', '23:40:18', '23:40:18', '23:40:18', '23:40:18', '23:40:17', '23:40:18', '23:40:18', '23:40:17', '23:40:18', '23:40:18']\n"
     ]
    }
   ],
   "source": [
    "tweet_time = pd.Series(tweets)\n",
    "tweet_clock_time = [entry[11:19] for entry in tweet_time]\n",
    "print(tweet_clock_time)"
   ]
  },
  {
   "cell_type": "markdown",
   "metadata": {},
   "source": [
    "<br>\n",
    "With conditionals"
   ]
  },
  {
   "cell_type": "code",
   "execution_count": 51,
   "metadata": {},
   "outputs": [
    {
     "name": "stdout",
     "output_type": "stream",
     "text": [
      "['23:40:18', '23:40:18', '23:40:18', '23:40:18', '23:40:18', '23:40:18', '23:40:18', '23:40:18', '23:40:18', '23:40:18', '23:40:18', '23:40:18', '23:40:18', '23:40:18', '23:40:18', '23:40:18', '23:40:18']\n"
     ]
    }
   ],
   "source": [
    "tweet_clock_time_c = [\n",
    "    entry[11:19] for entry in tweet_time if entry[17:19] == '18']\n",
    "print(tweet_clock_time_c)"
   ]
  },
  {
   "cell_type": "markdown",
   "metadata": {},
   "source": [
    "## Context Manager\n",
    "\n",
    "A context manager ensures resources are efficiently allocated. \n",
    "\n",
    ">`with open('world_info.csv') as iworld`\n",
    "\n",
    "Here, the `with` statement is the context manager and it binds the csv file `'world_info.csv'` to `iworld`. This is useful if you intend to repeatedly access the file (i.e. reading it in line by line or in chunks)."
   ]
  },
  {
   "cell_type": "markdown",
   "metadata": {},
   "source": [
    "## SQL in Python - SQLAlchemy\n",
    "\n",
    "### Importing and getting Table Names\n",
    "\n",
    "The first step is to create and define an engine."
   ]
  },
  {
   "cell_type": "code",
   "execution_count": null,
   "metadata": {},
   "outputs": [],
   "source": [
    "from sqlalchemy import create_engine\n",
    "\n",
    "engine = create_engine('sqlite:///Chinook.sqlite')"
   ]
  },
  {
   "cell_type": "markdown",
   "metadata": {},
   "source": [
    "You can query table names with `engine.table_names()`"
   ]
  },
  {
   "cell_type": "code",
   "execution_count": null,
   "metadata": {},
   "outputs": [],
   "source": [
    "table_names = engine.table_names()\n",
    "print(table_names)"
   ]
  },
  {
   "cell_type": "markdown",
   "metadata": {},
   "source": [
    "### Establishing a connection and querying"
   ]
  },
  {
   "cell_type": "code",
   "execution_count": null,
   "metadata": {},
   "outputs": [],
   "source": [
    "# connection object\n",
    "con = engine.connect()\n",
    "\n",
    "# to query, apply .execute('query')\n",
    "rs = con.execute(\"SELECT * FROM Orders\")\n",
    "\n",
    "# to store as a pandas df\n",
    "df = pd.DataFrame(rs.fetchall())\n",
    "\n",
    "# to set columns\n",
    "df.columns = rs.keys()\n",
    "\n",
    "# close the connection\n",
    "con.close()"
   ]
  },
  {
   "cell_type": "markdown",
   "metadata": {},
   "source": [
    "You can also achieve this with the context manager to avoid forgetting to close the connection. To query directly with pandas, see Pandas_REF.ipynb."
   ]
  },
  {
   "cell_type": "code",
   "execution_count": null,
   "metadata": {},
   "outputs": [],
   "source": [
    "from sqlalchemy import create_engine\n",
    "import pandas as pd\n",
    "\n",
    "enine = create_engine('sqlite:///Chinook.sqlite')\n",
    "\n",
    "with engine.connect() as con:\n",
    "    rs = con.execute(\"SELECT OrderID, OrderDate, ShipName FROM Orders\")\n",
    "    df = pd.DataFrame(rs.fetchmany(size=5)) # import only 5 rows\n",
    "    df.columns = rs.keys()"
   ]
  },
  {
   "cell_type": "code",
   "execution_count": null,
   "metadata": {},
   "outputs": [],
   "source": []
  },
  {
   "cell_type": "code",
   "execution_count": null,
   "metadata": {},
   "outputs": [],
   "source": []
  },
  {
   "cell_type": "code",
   "execution_count": null,
   "metadata": {},
   "outputs": [],
   "source": []
  },
  {
   "cell_type": "code",
   "execution_count": null,
   "metadata": {},
   "outputs": [],
   "source": []
  }
 ],
 "metadata": {
  "kernelspec": {
   "display_name": "Python 3",
   "language": "python",
   "name": "python3"
  },
  "language_info": {
   "codemirror_mode": {
    "name": "ipython",
    "version": 3
   },
   "file_extension": ".py",
   "mimetype": "text/x-python",
   "name": "python",
   "nbconvert_exporter": "python",
   "pygments_lexer": "ipython3",
   "version": "3.6.5"
  }
 },
 "nbformat": 4,
 "nbformat_minor": 2
}
