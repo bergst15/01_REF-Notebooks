{
 "cells": [
  {
   "cell_type": "markdown",
   "metadata": {},
   "source": [
    "# Statistics Reference Notebook"
   ]
  },
  {
   "cell_type": "markdown",
   "metadata": {},
   "source": [
    "## Definitions\n",
    "\n",
    "- Discrete random variables:\n",
    "    - random variables that can only take on discrete values (coin toss)\n",
    "- Continuous random variables:\n",
    "    - random variables that can take on an infinite number of values (masses of rocks)\n",
    "- Probability distributions:\n",
    "    - a mathematical description of outcomes\n",
    "- Cumulative density function:\n",
    "    - the probability of observing any specific value, $x$, *or* any value less than $x$, hence 'cumulative'\n",
    "- Probability density function:\n",
    "    - for continuous random variables, probability of observing any specific value $x$\n",
    "    - note that this is the derivative of the CDF\n",
    "    - EX: exponential, gamma, pareto, normal, etc.\n",
    "- Probability mass function: \n",
    "    - the set of probabilities of discrete outcomes\n",
    "    - similar to PDF, but for discrete random variables, \n",
    "    - EX: binomial, hypergeometric, Poisson, geometric, etc."
   ]
  },
  {
   "cell_type": "markdown",
   "metadata": {},
   "source": [
    "## Summary Statistics\n",
    "\n",
    "When using `df.describe()` a statistical summary of the DataFrame is returned. \n",
    "<br>\n",
    "\n",
    "- Count:\n",
    "    - When used against a Series, returns a scalar integer of the number of non-null values\n",
    "    - When used against a DataFrame, returns a list of scalar integers as for Series \n",
    "- Mean:\n",
    "    - Computes the average, susceptible to influence from outliers\n",
    "- Median:\n",
    "    - The middle value of a dataset, immune to influence from outliers\n",
    "- Standard Deviation:\n",
    "    - Computes the standard deviation, a measure of the 'spread' of the data \n",
    "- Minimum:\n",
    "    - Computes the minimum. When used on a string, returns the first alphabetical \n",
    "- Maximum:\n",
    "    - Computes the maximum. When used on a string, returns the last alphabetical "
   ]
  },
  {
   "cell_type": "markdown",
   "metadata": {},
   "source": [
    "## Quantiles, Quartiles, Percentiles\n",
    "\n",
    "Percentiles and quartiles are examples of quantiles.\n",
    "\n",
    "A note on quantiles: the qth quantile of a dataset splits the data into two sets. One with the fraction q of smaller observations and one with larger observations.\n",
    "\n",
    "- 25%, first quartile:\n",
    "    - Computes the first quartile\n",
    "- 50%, median / second quartile:\n",
    "    - Computes the median\n",
    "- 75%, third quartile:\n",
    "    - Computes the third quartile\n",
    "    \n",
    "|   quartile   |   quantile    |   percentile   |\n",
    "|--------------|---------------|----------------|\n",
    "| 0 quartile   |  0   quantile |  0 percentile  |\n",
    "| 1 quartile   | 0.25 quantile | 25 percentile  |\n",
    "| 2 quartile   | 0.50 quantile | 50 percentile  |\n",
    "| 3 quartile   | 0.75 quantile | 75 percentile  |\n",
    "| 4 quartile   |  1 quantile   | 100 percentile |"
   ]
  },
  {
   "cell_type": "markdown",
   "metadata": {},
   "source": [
    "## Variance and Standard Deviation\n",
    "\n",
    "The variance and standard deviation quantify the 'spread' of the data. These are easily computable with numpy functions `np.var()` and `np.std()`."
   ]
  },
  {
   "cell_type": "code",
   "execution_count": 33,
   "metadata": {},
   "outputs": [
    {
     "name": "stdout",
     "output_type": "stream",
     "text": [
      "variance: \t\t0.21640000000000004\n",
      "standard deviation: \t0.4651881339845203\n"
     ]
    }
   ],
   "source": [
    "# works\n",
    "variance = np.var(petal_length)\n",
    "print(f'variance: \\t\\t{variance}')\n",
    "std = np.std(petal_length)\n",
    "print(f'standard deviation: \\t{std}')"
   ]
  },
  {
   "cell_type": "markdown",
   "metadata": {},
   "source": [
    "## Covariance and Pearson Coefficient\n",
    "\n",
    "Covariance is a measure of how two quantities vary *together*. If x is high when y is high, then x and y are positively correlated. If x is high when y is low (or vice-versa), then x and y are negatively correlated.\n",
    "\n",
    "<p></p><img src=\"images/covar.png\" width=\"350\"><p></p>\n",
    "\n",
    "The Pearson correlation coefficient is a dimensionless version of the covariance obtained by dividing the covariance by the standard deviation of both x and y. It has a value between +1 and -1, where 1 is total positive linear correlation, 0 is no linear correlation, and -1 is total negative linear correlation.\n",
    "\n",
    "$$ \\rho = \\frac{cov(x,y)}{\\sigma_x\\sigma_y } = \\frac{\\textrm{variability due to codependence}}{\\textrm{independent variability}} $$\n",
    "\n",
    "Here is an example showing different pearson coefficients:\n",
    "\n",
    "<p></p><img src=\"images/pearco.png\"><p></p>"
   ]
  },
  {
   "cell_type": "markdown",
   "metadata": {},
   "source": [
    "Covariance can be computed using the numpy function `np.cov()`. This function returns a covariance matrix identifying the self variance (`[0,0]` or `[1,1]`) and covariance (`[0,1]` or `[1,0]`). "
   ]
  },
  {
   "cell_type": "code",
   "execution_count": 29,
   "metadata": {},
   "outputs": [
    {
     "name": "stdout",
     "output_type": "stream",
     "text": [
      "covariance matrix: \n",
      "[[0.22081633 0.07310204]\n",
      " [0.07310204 0.03910612]]\n",
      "petal covariance: \n",
      "  0.07310204081632653\n"
     ]
    }
   ],
   "source": [
    "# works\n",
    "cov_mat = np.cov(petal_length, petal_width)\n",
    "print(f'covariance matrix: \\n{cov_mat}')\n",
    "petal_cov = covariance_matrix[0,1]\n",
    "print(f'petal covariance: \\n  {petal_cov}')"
   ]
  },
  {
   "cell_type": "markdown",
   "metadata": {},
   "source": [
    "The Pearson coefficient is often easier to interpret than the covariance and can be computed using the numpy function `np.corrcoef()`. This function returns a matrix similar to the covariance matrix. Here, the values at `[0,0]` and `[1,1]` must equal `1` as this is the variance with itself. The value at `[0,1]` is what we are interested in."
   ]
  },
  {
   "cell_type": "code",
   "execution_count": 30,
   "metadata": {},
   "outputs": [
    {
     "name": "stdout",
     "output_type": "stream",
     "text": [
      "Pearson coefficient: 0.7866680885228169\n"
     ]
    }
   ],
   "source": [
    "# works\n",
    "corr_mat = np.corrcoef(petal_length,petal_width)\n",
    "r = corr_mat[0,1]\n",
    "print(f'Pearson coefficient: {r}')"
   ]
  },
  {
   "cell_type": "markdown",
   "metadata": {},
   "source": [
    "## Z-Scores\n",
    "\n",
    "Using the zscore function, you can apply a `.transform()` method after grouping to apply a function to groups of data independently. The z-score is also useful to find outliers: a z-score value of +/- 3 is generally considered to be an outlier."
   ]
  },
  {
   "cell_type": "code",
   "execution_count": null,
   "metadata": {},
   "outputs": [],
   "source": [
    "# no working data\n",
    "from scipy.stats import zscore\n",
    "df.groupby('region')['life','fertility'].transform(zscore)"
   ]
  },
  {
   "cell_type": "markdown",
   "metadata": {},
   "source": [
    "## Histograms\n",
    "\n",
    "Histograms are useful for visualizing the distribution of data for a given measurement."
   ]
  },
  {
   "cell_type": "code",
   "execution_count": 61,
   "metadata": {},
   "outputs": [
    {
     "data": {
      "image/png": "[encoded data removed]",
      "text/plain": [
       "<Figure size 432x288 with 1 Axes>"
      ]
     },
     "metadata": {},
     "output_type": "display_data"
    }
   ],
   "source": [
    "np.random.seed(45)\n",
    "samples = np.random.binomial(100,0.5,1000000)\n",
    "\n",
    "_ = plt.hist(samples,bins=50)\n",
    "plt.xlabel('sample value')\n",
    "plt.ylabel('count')\n",
    "plt.show()"
   ]
  },
  {
   "cell_type": "markdown",
   "metadata": {},
   "source": [
    "### Bins\n",
    "\n",
    "Bins can make a significant difference on the representation of the data, this is referred to as 'binning bias'. The default number of bins in `matplotlib.pyplot` is 10.\n",
    "\n",
    "The 'square root rule' is a commonly used rule of thumb for choosing the number of bins: choose the number of bins to be the square root of the number of samples."
   ]
  },
  {
   "cell_type": "code",
   "execution_count": 69,
   "metadata": {},
   "outputs": [
    {
     "data": {
      "image/png": "[encoded data removed]",
      "text/plain": [
       "<Figure size 432x288 with 1 Axes>"
      ]
     },
     "metadata": {},
     "output_type": "display_data"
    }
   ],
   "source": [
    "np.random.seed(30)\n",
    "samples = np.random.binomial(100,0.5,1000000)\n",
    "\n",
    "_ = plt.hist(samples,bins=15,alpha=0.5)\n",
    "_ = plt.hist(samples,bins=30,alpha=0.5)\n",
    "_ = plt.hist(samples,bins=100,alpha=0.5)\n",
    "plt.xlabel('sample value')\n",
    "plt.ylabel('count')\n",
    "plt.legend(('15 bins','30 bins','100 bins'))\n",
    "plt.show()"
   ]
  },
  {
   "cell_type": "markdown",
   "metadata": {},
   "source": [
    "## Bee swarm plots\n",
    "\n",
    "In order to avoid binning bias, a bee swarm plot can be used to show the data 'as is'. Note that bee swarm plots can lose their value when the number of data points grows too large. In that case you can use a box plot or an ECDF."
   ]
  },
  {
   "cell_type": "code",
   "execution_count": null,
   "metadata": {},
   "outputs": [],
   "source": [
    "# no working data\n",
    "_ = sns.swarmplot(x='species',y='petal length (cm)',data=df)\n",
    "_ = plt.xlabel('species')\n",
    "_ = plt.ylabel('petal length (cm)')\n",
    "plt.show()"
   ]
  },
  {
   "cell_type": "markdown",
   "metadata": {},
   "source": [
    "<p></p><img src=\"images/bee_swarm.png\"><p></p>"
   ]
  },
  {
   "cell_type": "markdown",
   "metadata": {},
   "source": [
    "## ECDF\n",
    "\n",
    "The empirical cumulative distribution function (ECDF) is a CDF constructed from non-simulated data. The x-axis is the sorted data, the y-axis is a set of evenly spaced data points from 0 to 1. You can also plot multiple ECDFs to compare to each other by calling `plt.plot()` multiple times. A function to calculate the ECDF is given below, followed by an example."
   ]
  },
  {
   "cell_type": "code",
   "execution_count": 70,
   "metadata": {},
   "outputs": [],
   "source": [
    "def ecdf(data):\n",
    "    n = len(data)\n",
    "    x = np.sort(data)\n",
    "    y = np.arange(1,n+1)/n\n",
    "    return x,y"
   ]
  },
  {
   "cell_type": "code",
   "execution_count": null,
   "metadata": {},
   "outputs": [],
   "source": [
    "# no working data\n",
    "x = np.sort(df_swing['dem_share'])\n",
    "y = np.arrange(1, len(x)+1)/len(x)\n",
    "\n",
    "_ = plt.plot(x, y, marker='.', linestyle='none')\n",
    "_ = plt.xlabel('percent of vote for Obama')\n",
    "_ = plt.ylabel('ECDF')\n",
    "plt.margins(0.02) # padding\n",
    "plt.show()"
   ]
  },
  {
   "cell_type": "markdown",
   "metadata": {},
   "source": [
    "<p></p><img src=\"images/ecdf1.png\"><p></p>\n",
    "\n",
    "This plot can be read as: <br>\n",
    ">20% of counties had 36% or less vote for Obama"
   ]
  },
  {
   "cell_type": "markdown",
   "metadata": {},
   "source": [
    "## Box Plots\n",
    "\n",
    "Box plots are useful for summarizing a large amount of data by it's percentiles. Here is a summary of it's features:\n",
    "- the center of the box represents the median (50th percentile)\n",
    "- the upper end of the box represents the 75th percentile\n",
    "- the lower end of the box represents the 25th percentile\n",
    "- the total height of the box contains the middle 50% of the data and is called the interquartile range (IQR)\n",
    "- the whiskers extend 1.5 * IQR or to the extent of the data, whichever is less extreme\n",
    "- all data beyond the whiskers are plotted as points and referred to as outliers\n",
    "- data points > 2.0 * IQR are generally accepted as outliers\n",
    "\n",
    "<p></p><img src=\"images/box_plot.png\"><p></p>\n"
   ]
  },
  {
   "cell_type": "code",
   "execution_count": null,
   "metadata": {},
   "outputs": [],
   "source": [
    "# no working data\n",
    "_ = sns.boxplot(x='species',y='petal length (cm)',data=df)\n",
    "plt.xlabel('species')\n",
    "plt.ylabel('petal length (cm)')\n",
    "plt.show()"
   ]
  },
  {
   "cell_type": "markdown",
   "metadata": {},
   "source": [
    "## Data Simulation\n",
    "\n",
    "Hacker statistics uses simulated repeated measurements to compute probabilities as opposed to classical pen and paper statistics. This is similar to a numerical solution versus an analytical one.\n",
    "\n",
    "As an example, a binomial distribution with a probability of 50% was used to simulate 100 coin tosses 10,000 times returning an array with the number of successes for each iteration.\n",
    "\n",
    "**Remember**, *if you can simulate a story, you can get it's distribution.*"
   ]
  },
  {
   "cell_type": "code",
   "execution_count": 12,
   "metadata": {},
   "outputs": [
    {
     "data": {
      "image/png": "[encoded data removed]",
      "text/plain": [
       "<Figure size 432x288 with 1 Axes>"
      ]
     },
     "metadata": {},
     "output_type": "display_data"
    }
   ],
   "source": [
    "data = np.random.binomial(n=100,p=0.5,size=10000)\n",
    "x = np.sort(data)\n",
    "y = np.arange(1,len(data)+1)/len(data)\n",
    "\n",
    "_ = plt.plot(x,y,marker='.',linestyle='none')\n",
    "plt.show()"
   ]
  },
  {
   "cell_type": "markdown",
   "metadata": {},
   "source": [
    "### Binomial PMF\n",
    "\n",
    "Here we will use a histogram for simplicity."
   ]
  },
  {
   "cell_type": "code",
   "execution_count": 26,
   "metadata": {},
   "outputs": [
    {
     "data": {
      "image/png": "[encoded data removed]",
      "text/plain": [
       "<Figure size 432x288 with 1 Axes>"
      ]
     },
     "metadata": {},
     "output_type": "display_data"
    }
   ],
   "source": [
    "data = np.random.binomial(n=100,p=0.05,size=10000)\n",
    "# this bin setup allows centering on integers\n",
    "bins = np.arange(0, max(data)+1.5) - 0.5\n",
    "\n",
    "_ = plt.hist(data,bins=bins,density=True)\n",
    "_ = plt.xlabel('number of successes')\n",
    "_ = plt.ylabel('probability')\n",
    "plt.show()"
   ]
  },
  {
   "cell_type": "markdown",
   "metadata": {},
   "source": [
    "### Poisson CDF \n",
    "\n",
    "The timing of one event is completely independent from the timing of any other event. Examples would be meteor strikes and hits on a website - these can be described as an average per day, but predicting the time that any one will occur is independent of the last one.\n",
    "\n",
    "A more detailed explanation: <br>\n",
    "The Poisson distribution is a limit of the Binomial distribution for rare events. Say we do a Bernoulli trial every minute for an hour, each with a success probability of 0.1. We would do 60 trials, and the number of successes is Binomially distributed, so we would expect to get about 6 successes. This is similar to Poisson, where we get on average 6 hits on a website per hour. So, the Poisson distribution with arrival rate equal to $np$ approximates a Binomial distribution for $n$ Bernoulli trials with probability $p$ of success (with $n$ large and $p$ small)."
   ]
  },
  {
   "cell_type": "code",
   "execution_count": 30,
   "metadata": {},
   "outputs": [
    {
     "data": {
      "image/png": "[encoded data removed]",
      "text/plain": [
       "<Figure size 432x288 with 1 Axes>"
      ]
     },
     "metadata": {},
     "output_type": "display_data"
    }
   ],
   "source": [
    "data = np.random.poisson(10,10000)\n",
    "\n",
    "_ = plt.hist(data,bins=int(np.sqrt(len(data))),cumulative=True,density=True)\n",
    "_ = plt.xlabel('number of succeses')\n",
    "_ = plt.ylabel('probability')\n",
    "plt.show()"
   ]
  },
  {
   "cell_type": "markdown",
   "metadata": {},
   "source": [
    "### Normal PDF\n",
    "\n",
    "The normal distribution is also referred to as the Gaussian distribution. Be cautious, even though a distrubtion may appear normally distrubted at first, in many cases it is not. When in doubt, check the normal CDF."
   ]
  },
  {
   "cell_type": "code",
   "execution_count": 6,
   "metadata": {},
   "outputs": [
    {
     "data": {
      "image/png": "[encoded data removed]",
      "text/plain": [
       "<Figure size 432x288 with 1 Axes>"
      ]
     },
     "metadata": {},
     "output_type": "display_data"
    }
   ],
   "source": [
    "samples_std1 = np.random.normal(20,1,size=100000)\n",
    "samples_std3 = np.random.normal(20,3,size=100000)\n",
    "samples_std10 = np.random.normal(20,10,size=100000)\n",
    "\n",
    "_ = plt.hist(samples_std1,density=True,histtype='step',bins=100)\n",
    "_ = plt.hist(samples_std3,density=True,histtype='step',bins=100)\n",
    "_ = plt.hist(samples_std10,density=True,histtype='step',bins=100)\n",
    "_ = plt.legend(('std = 1', 'std = 3', 'std = 10'))\n",
    "plt.ylim(-0.01, 0.42)\n",
    "plt.show()"
   ]
  },
  {
   "cell_type": "markdown",
   "metadata": {},
   "source": [
    "### Normal CDF\n"
   ]
  },
  {
   "cell_type": "code",
   "execution_count": 97,
   "metadata": {},
   "outputs": [
    {
     "data": {
      "image/png": "[encoded data removed]",
      "text/plain": [
       "<Figure size 432x288 with 1 Axes>"
      ]
     },
     "metadata": {},
     "output_type": "display_data"
    }
   ],
   "source": [
    "samples_std1 = np.random.normal(20,1,size=100000)\n",
    "samples_std3 = np.random.normal(20,3,size=100000)\n",
    "samples_std10 = np.random.normal(20,10,size=100000)\n",
    "\n",
    "x_std1,y_std1 = ecdf(samples_std1)\n",
    "x_std3,y_std3 = ecdf(samples_std3)\n",
    "x_std10,y_std10 = ecdf(samples_std10)\n",
    "bins = int(np.sqrt(len(x_std1)))\n",
    "\n",
    "_ = plt.plot(x_std1,y_std1,marker='.',linestyle='none')\n",
    "_ = plt.plot(x_std3,y_std3,marker='.',linestyle='none')\n",
    "_ = plt.plot(x_std10,y_std10,marker='.',linestyle='none')\n",
    "_ = plt.legend(('std = 1', 'std = 3', 'std = 10'), loc='upper left')\n",
    "plt.show()"
   ]
  },
  {
   "cell_type": "markdown",
   "metadata": {},
   "source": [
    "To compare the CDF of a given distribution to that of a normally distributed CDF with the same mean and standard deviation, use the following technique."
   ]
  },
  {
   "cell_type": "code",
   "execution_count": 36,
   "metadata": {},
   "outputs": [
    {
     "data": {
      "image/png": "[encoded data removed]",
      "text/plain": [
       "<Figure size 432x288 with 1 Axes>"
      ]
     },
     "metadata": {},
     "output_type": "display_data"
    }
   ],
   "source": [
    "mu = np.mean(belmont)\n",
    "sigma = np.std(belmont)\n",
    "samples = np.random.normal(mu,sigma,size=10000)\n",
    "\n",
    "x_theor = np.sort(samples)\n",
    "y_theor = np.arange(1,len(samples)+1)/len(samples)\n",
    "x = np.sort(belmont)\n",
    "y = np.arange(1,len(belmont)+1)/len(belmont)\n",
    "\n",
    "_ = plt.plot(x_theor, y_theor)\n",
    "_ = plt.plot(x, y, marker='.', linestyle='none')\n",
    "_ = plt.xlabel('Belmont winning time (sec.)')\n",
    "_ = plt.ylabel('CDF')\n",
    "_ = plt.legend(('normal CDF','belmont'), loc='upper left')\n",
    "plt.show()"
   ]
  },
  {
   "cell_type": "markdown",
   "metadata": {},
   "source": [
    "As a fun extension, let's calculate the chances of a horse matching or beating the legendary Secretariat's record. In order to do this, we need to assume that the `belmont` data is normally distributed."
   ]
  },
  {
   "cell_type": "code",
   "execution_count": 37,
   "metadata": {},
   "outputs": [
    {
     "name": "stdout",
     "output_type": "stream",
     "text": [
      "Probability of beating Secretariat: 0.000638\n"
     ]
    }
   ],
   "source": [
    "mu = np.mean(belmont)\n",
    "sigma = np.std(belmont)\n",
    "samples = np.random.normal(mu,sigma,size=1000000)\n",
    "\n",
    "prob = sum(samples <= 144)/len(samples)\n",
    "print(f'Probability of beating Secretariat: {prob}')"
   ]
  },
  {
   "cell_type": "markdown",
   "metadata": {},
   "source": [
    "### Exponential Distribution\n",
    "\n",
    "If the timing of an event can be described by a Poisson process, then the tie between events is exponentially distributed. The exponential distribution has a single parameter, $\\tau$, that describes the typical interval time. \n",
    "\n",
    "The example below attempts to match actual data from the time between 'no-hitters' in MLB to an exponential distribution to verify."
   ]
  },
  {
   "cell_type": "code",
   "execution_count": 3,
   "metadata": {},
   "outputs": [
    {
     "data": {
      "image/png": "[encoded data removed]",
      "text/plain": [
       "<Figure size 432x288 with 1 Axes>"
      ]
     },
     "metadata": {},
     "output_type": "display_data"
    }
   ],
   "source": [
    "np.random.seed(42)\n",
    "tau = np.mean(nohitter_times)\n",
    "samples = np.random.exponential(tau, 100000)\n",
    "\n",
    "_ = plt.hist(samples,bins=50,density=True,histtype='step')\n",
    "_ = plt.xlabel('Games between no-hitters')\n",
    "_ = plt.ylabel('PDF')\n",
    "plt.show()"
   ]
  },
  {
   "cell_type": "markdown",
   "metadata": {},
   "source": [
    "Now let's plot the CDF and ECDF so we can verify our distribution. We will also compute theoreticals for $2\\tau$ and $\\frac{1}{2}\\tau$ to verify our intial parameter was optimal. "
   ]
  },
  {
   "cell_type": "code",
   "execution_count": 16,
   "metadata": {},
   "outputs": [
    {
     "data": {
      "image/png": "[encoded data removed]",
      "text/plain": [
       "<Figure size 432x288 with 1 Axes>"
      ]
     },
     "metadata": {},
     "output_type": "display_data"
    }
   ],
   "source": [
    "samples_double = np.random.exponential(2*tau,100000)\n",
    "samples_half = np.random.exponential(0.5*tau,100000)\n",
    "\n",
    "x,y = ecdf(nohitter_times)\n",
    "x_theor,y_theor = ecdf(samples)\n",
    "xdub_t,ydub_t = ecdf(samples_double)\n",
    "xhalf_t,yhalf_t = ecdf(samples_half)\n",
    "\n",
    "_ = plt.plot(x,y,marker='.',linestyle='none')\n",
    "_ = plt.plot(x_theor,y_theor)\n",
    "_ = plt.plot(xdub_t,ydub_t)\n",
    "_ = plt.plot(xhalf_t,yhalf_t)\n",
    "_ = plt.xlabel('Games between no-hitters')\n",
    "_ = plt.ylabel('CDF')\n",
    "_ = plt.legend((\n",
    "    'Actual Data','Theoretical','Double Theoretical','Half Theorectical')\n",
    "    ,loc='lower right')\n",
    "plt.xlim(-100, 5000)\n",
    "plt.show()"
   ]
  },
  {
   "cell_type": "markdown",
   "metadata": {},
   "source": [
    "## Linear Regression\n",
    "\n",
    "Regressions are functions that can be used to represent a given set of data. Often times a linear regression, a line with a slope and intercept, is sufficient. \n",
    "\n",
    "Once a regression has been fitted, several methods can be used to determine the quality of the 'fit'. Here we will use the least squares method which minimizes the sum of the squares of the residuals, where residuals are the distances between the data points and the regression.\n",
    "\n",
    "Numpy has a great function `np.polyfit()` which can also be used for linear regressions by setting the degree argument, `deg` equal to `1`. This function optimizes using RSS (residual sum of squares).\n",
    "\n",
    "In the following example we will look at literacy vs. fertility for women in the world."
   ]
  },
  {
   "cell_type": "code",
   "execution_count": 20,
   "metadata": {},
   "outputs": [
    {
     "data": {
      "image/png": "[encoded data removed]",
      "text/plain": [
       "<Figure size 432x288 with 1 Axes>"
      ]
     },
     "metadata": {},
     "output_type": "display_data"
    }
   ],
   "source": [
    "a,b = np.polyfit(illiteracy,fertility,1)\n",
    "x = np.array([0,100])\n",
    "y = a*x + b\n",
    "\n",
    "_ = plt.plot(illiteracy, fertility, marker='.', linestyle='none')\n",
    "_ = plt.plot(x, y)\n",
    "_ = plt.xlabel('percent illiterate')\n",
    "_ = plt.ylabel('fertility')\n",
    "_ = plt.legend(('data','regression'))\n",
    "plt.margins(0.02)\n",
    "plt.show()"
   ]
  },
  {
   "cell_type": "markdown",
   "metadata": {},
   "source": [
    "## Anscombe's quartet\n",
    "\n",
    "A word of caution on blindly performing parameter estimation. The four plots below all have the same parameters, but are clearly different.\n",
    "\n",
    "<p></p><img src=\"images/ans_ex.png\" width=\"500\"><p></p>"
   ]
  },
  {
   "cell_type": "markdown",
   "metadata": {},
   "source": [
    "## Bootstrapping\n",
    "\n",
    "Bootsrapping is the use of resampled data to perform statistical inference. This is useful in situations where running experiments to collect data a large number of times is not practical. "
   ]
  },
  {
   "cell_type": "markdown",
   "metadata": {},
   "source": [
    "### Bootstrap replicates\n",
    "\n",
    "Each resampled array is called a bootstrap sample and summary statistics from this resampled array is a boostrap replicate. Once again, numpy has a great function that makes resampling easy, `np.random.choice()`. \n",
    "\n",
    "The example below looks at annual rainfall data measured at the Sheffield Weather Station in the UK from 1883 to 2015."
   ]
  },
  {
   "cell_type": "code",
   "execution_count": 22,
   "metadata": {},
   "outputs": [
    {
     "data": {
      "image/png": "[encoded data removed]",
      "text/plain": [
       "<Figure size 432x288 with 1 Axes>"
      ]
     },
     "metadata": {},
     "output_type": "display_data"
    }
   ],
   "source": [
    "x, y = ecdf(rainfall)\n",
    "_ = plt.plot(x, y, marker='.')\n",
    "\n",
    "for i in range(50):\n",
    "    bs_sample = np.random.choice(rainfall, size=len(rainfall))\n",
    "    x, y = ecdf(bs_sample)\n",
    "    _ = plt.plot(x,y,marker='.',linestyle='none',color='gray',alpha=0.1)\n",
    "\n",
    "_ = plt.xlabel('yearly rainfall (mm)')\n",
    "_ = plt.ylabel('ECDF')\n",
    "_ = plt.legend(('actual','bootstrap'))\n",
    "plt.margins(0.02)\n",
    "plt.show()"
   ]
  },
  {
   "cell_type": "markdown",
   "metadata": {},
   "source": [
    "### Bootstrap confidence intervals\n",
    "\n",
    "The $p\\%$ confidence interval is defined as the interval where $p\\%$ of the observed values would lie if we repeated the measurements many times.\n",
    "\n",
    "Stated another way, the 95% confidence interval for the means is where 95% of the means lie. Again, numpy function `np.percentile()` makes this easy."
   ]
  },
  {
   "cell_type": "code",
   "execution_count": 25,
   "metadata": {},
   "outputs": [
    {
     "name": "stdout",
     "output_type": "stream",
     "text": [
      "95% CI: [ 572.4  1022.09]\n"
     ]
    }
   ],
   "source": [
    "bs_sample = np.random.choice(rainfall, size=len(rainfall))\n",
    "conf_int = np.percentile(bs_sample,[2.5,97.5])\n",
    "print(f'95% CI: {conf_int}')"
   ]
  },
  {
   "cell_type": "markdown",
   "metadata": {},
   "source": [
    "## Standard error of the mean (SEM)\n",
    "\n",
    "When replicating, it can be shown theoretically that under not-too-restrictive conditions, the value of the mean will always be Normally distributed. (This does not hold in general, just for the mean and a few other statistics.) The standard deviation of this distribution, called the standard error of the mean, or SEM, is given by the standard deviation of the data divided by the square root of the number of data points. I.e., for a data set, `data`:\n",
    "> `sem = np.std(data) / np.sqrt(len(data))`"
   ]
  },
  {
   "cell_type": "code",
   "execution_count": 24,
   "metadata": {},
   "outputs": [
    {
     "name": "stdout",
     "output_type": "stream",
     "text": [
      "SEM: 10.510549150506188\n"
     ]
    }
   ],
   "source": [
    "sem = np.std(rainfall)/np.sqrt(len(rainfall))\n",
    "print(f'SEM: {sem}')"
   ]
  },
  {
   "cell_type": "markdown",
   "metadata": {},
   "source": [
    "## Hypothesis Testing\n",
    "\n",
    "How do we assess how well our observed data are actually described by the model? This is where hypothesis testing comes in. Typically, you will formulate a hypothesis and then use the observed data to validate it. The hypothesis you are testing is referred to as the null hypothesis.\n",
    "\n",
    "A common method for testing a hypothesis that two distributions are identical is called permutation. Start by combining the two data sets `A` and `B`, then scramble the order and abritrarily assign them back to `A` and `B`, say the first half gets assigned to `A` and the second to `B`. We can create many permutations in this fashion and plot their ECDF alongside the ECDF for the original `A` and `B`. If the two distributions were identical the permuted data should overlap the observed data.\n",
    "\n",
    "Numpy function `np.random.permutation()` allows for easy permuting. \n",
    "\n",
    "The plot below shows an example where the distributions are not identical.\n",
    "\n",
    "<p></p><img src=\"images/perm_ex.png\" width=\"400\"><p></p>"
   ]
  },
  {
   "cell_type": "markdown",
   "metadata": {},
   "source": [
    "### Test statistics\n",
    "\n",
    "Instead of relying on a visual comparison, a test statistic such as the mean, standard deviation, etc. can be used for comparison to validate the null hypothesis. When performing a hypothesis test, your choice of test statistic should be pertinent to the question you are seeking to answer.\n",
    "\n",
    "More generally, it is a single number that can be computed from observed data and from data you simulate under the null hypothesis."
   ]
  },
  {
   "cell_type": "markdown",
   "metadata": {},
   "source": [
    "### p-value\n",
    "\n",
    "The p-value is the probability of obtaining a value of your test statistic that is at least as extreme as what was observed, under the assumption the null hypothesis is true. It is ***not*** the probability that the null hypothesis is true.\n",
    "\n",
    "Stated another way, the p-value is the probability of observing a test statistic equally or more extreme than the one you observed, given that the null hypothesis is true.\n",
    "\n",
    "When the p-value is small, it is often said that the data are *statisically, significantly different* than what we would observe under the null hypothesis. For this reason, hypothesis testing in this fashion is sometimes referred to as null hypothesis significance testing (NHST). \n",
    "\n",
    ">***Remember***, statistical significance `!=` practical significance.\n",
    "\n",
    "An example for interpreting p-values:<br>\n",
    ">Suppose that a vaccine study produced a p-value of 0.04. This p-value indicates that if the vaccine had no effect, you’d obtain the observed difference or more in 4% of studies due to random sampling error.\n",
    "\n",
    "There is a great writeup on how to correctly interpret p-values [here](http://blog.minitab.com/blog/adventures-in-statistics-2/how-to-correctly-interpret-p-values)."
   ]
  },
  {
   "cell_type": "markdown",
   "metadata": {},
   "source": [
    "### General hypothesis testing flow\n",
    "\n",
    "A generic format for the process of hypothesis testing is shown below:\n",
    "- clearly state the null hypothesis\n",
    "- define your test statistic\n",
    "- generate many sets of simulated data assuming the null hypothesis is true\n",
    "- compute the test statistic for each simulated data set\n",
    "- the p-value is the fraction of your simulated data sets for which the test statistic is at least as extreme as in the real data"
   ]
  },
  {
   "cell_type": "markdown",
   "metadata": {},
   "source": [
    "### One-sample bootsrap hypothesis test\n",
    "\n",
    "In some cases, you may only have one sample for comparison instead of an entire set of measurements. In this case you can shift the set of measurements such that it's mean matches the one sample. From there, you can bootstrap and compute the p-value. The following is a description of the process.\n",
    "\n",
    ">Another juvenile frog was studied, Frog C, and you want to see if Frog B and Frog C have similar impact forces. Unfortunately, you do not have Frog C's impact forces available, but you know they have a mean of 0.55 N. Because you don't have the original data, you cannot do a permutation test, and you cannot assess the hypothesis that the forces from Frog B and Frog C come from the same distribution. You will therefore test another, less restrictive hypothesis: The mean strike force of Frog B is equal to that of Frog C.\n",
    "\n",
    ">To set up the bootstrap hypothesis test, you will take the mean as our test statistic. Remember, your goal is to calculate the probability of getting a mean impact force less than or equal to what was observed for Frog B if the hypothesis that the true mean of Frog B's impact forces is equal to that of Frog C is true. You first translate all of the data of Frog B such that the mean is 0.55 N. This involves adding the mean force of Frog C and subtracting the mean force of Frog B from each measurement of Frog B. This leaves other properties of Frog B's distribution, such as the variance, unchanged."
   ]
  },
  {
   "cell_type": "markdown",
   "metadata": {},
   "source": [
    "## Hypothesis testing examples\n",
    "\n",
    "The following examples demonstrate hypothesis testing using different methods such as bootstrap replicates and permutations."
   ]
  },
  {
   "cell_type": "markdown",
   "metadata": {},
   "source": [
    "### The vote for the Civil Rights Act in 1964\n",
    "\n",
    "The Civil Rights Act of 1964 was one of the most important pieces of legislation ever passed in the USA. Excluding \"present\" and \"abstain\" votes, 153 House Democrats and 136 Republicans voted yea. However, 91 Democrats and 35 Republicans voted nay. Did party affiliation make a difference in the vote?\n",
    "\n",
    "To answer this question, you will evaluate the hypothesis that the party of a House member has no bearing on his or her vote. You will use the fraction of Democrats voting in favor as your test statistic and evaluate the probability of observing a fraction of Democrats voting in favor at least as small as the observed fraction of 153/244. (That's right, at least as small as. In 1964, it was the Democrats who were less progressive on civil rights issues.) To do this, permute the party labels of the House voters and then arbitrarily divide them into \"Democrats\" and \"Republicans\" and compute the fraction of Democrats voting yea."
   ]
  },
  {
   "cell_type": "code",
   "execution_count": 26,
   "metadata": {},
   "outputs": [
    {
     "name": "stdout",
     "output_type": "stream",
     "text": [
      "p-value = 0.0001\n"
     ]
    }
   ],
   "source": [
    "np.random.seed(42)\n",
    "\n",
    "# Construct arrays of data: dems, reps\n",
    "dems = np.array([True] * 153 + [False] * 91)\n",
    "reps = np.array([True] * 136 + [False] * 35)\n",
    "\n",
    "def frac_yea_dems(dems, reps):\n",
    "    \"\"\"Compute fraction of Democrat yea votes.\"\"\"\n",
    "    frac = np.sum(dems) / len(dems)\n",
    "    return frac\n",
    "\n",
    "def permutation_sample(data1, data2):\n",
    "    \"\"\"Generate a permutation sample from two data sets.\"\"\"\n",
    "\n",
    "    # Concatenate the data sets: data\n",
    "    data = np.concatenate((data1,data2))\n",
    "\n",
    "    # Permute the concatenated array: permuted_data\n",
    "    permuted_data = np.random.permutation(data)\n",
    "\n",
    "    # Split the permuted array into two: perm_sample_1, perm_sample_2\n",
    "    perm_sample_1 = permuted_data[:len(data1)]\n",
    "    perm_sample_2 = permuted_data[len(data1):]\n",
    "\n",
    "    return perm_sample_1, perm_sample_2\n",
    "\n",
    "def draw_perm_reps(data_1, data_2, func, size=1):\n",
    "    \"\"\"Generate multiple permutation replicates.\"\"\"\n",
    "\n",
    "    # Initialize array of replicates: perm_replicates\n",
    "    perm_replicates = np.empty(size)\n",
    "\n",
    "    for i in range(size):\n",
    "        # Generate permutation sample\n",
    "        perm_sample_1, perm_sample_2 = permutation_sample(data_1,data_2)\n",
    "\n",
    "        # Compute the test statistic\n",
    "        perm_replicates[i] = func(perm_sample_1,perm_sample_2)\n",
    "\n",
    "    return perm_replicates\n",
    "\n",
    "# Acquire permutation samples: perm_replicates\n",
    "perm_replicates = draw_perm_reps(dems, reps, frac_yea_dems, 10000)\n",
    "\n",
    "# Compute and print p-value: p\n",
    "p = np.sum(perm_replicates <= 153/244) / len(perm_replicates)\n",
    "print('p-value =', p)\n"
   ]
  },
  {
   "cell_type": "markdown",
   "metadata": {},
   "source": [
    "### A time-on-website analog\n",
    "\n",
    "It turns out that you already did a hypothesis test analogous to an A/B test where you are interested in how much time is spent on the website before and after an ad campaign. The frog tongue force (a continuous quantity like time on the website) is an analog. \"Before\" = Frog A and \"after\" = Frog B. Let's practice this again with something that is actually a before/after scenario.\n",
    "\n",
    "We return to the no-hitter data set. In 1920, Major League Baseball implemented important rule changes that ended the so-called dead ball era. Importantly, the pitcher was no longer allowed to spit on or scuff the ball, an activity that greatly favors pitchers. In this problem you will perform an A/B test to determine if these rule changes resulted in a slower rate of no-hitters (i.e., longer average time between no-hitters) using the difference in mean inter-no-hitter time as your test statistic. The inter-no-hitter times for the respective eras are stored in the arrays `nht_dead` and `nht_live`, where \"nht\" is meant to stand for \"no-hitter time.\""
   ]
  },
  {
   "cell_type": "code",
   "execution_count": 32,
   "metadata": {},
   "outputs": [
    {
     "name": "stdout",
     "output_type": "stream",
     "text": [
      "p-val = 0.0001\n"
     ]
    }
   ],
   "source": [
    "np.random.seed(42)\n",
    "\n",
    "def diff_of_means(data_1, data_2):\n",
    "    \"\"\"Difference in means of two arrays.\"\"\"\n",
    "    # The difference of means of data_1, data_2: diff\n",
    "    diff = np.mean(data_1) - np.mean(data_2)\n",
    "    return diff\n",
    "\n",
    "# Compute the observed difference in mean inter-no-hitter times: nht_diff_obs\n",
    "nht_diff_obs = diff_of_means(nht_dead,nht_live)\n",
    "\n",
    "# Acquire 10,000 permutation replicates of difference in mean no-hitter time: perm_replicates\n",
    "perm_replicates = draw_perm_reps(nht_dead,nht_live,diff_of_means,10000)\n",
    "\n",
    "# Compute and print the p-value: p\n",
    "p = np.sum(perm_replicates <= nht_diff_obs) / len(perm_replicates)\n",
    "print('p-val =',p)"
   ]
  },
  {
   "cell_type": "markdown",
   "metadata": {},
   "source": [
    "### Hypothesis test on Pearson correlation\n",
    "\n",
    "The observed correlation between female illiteracy and fertility may just be by chance; the fertility of a given country may actually be totally independent of its illiteracy. You will test this hypothesis. To do so, permute the illiteracy values but leave the fertility values fixed. This simulates the hypothesis that they are totally independent of each other. For each permutation, compute the Pearson correlation coefficient and assess how many of your permutation replicates have a Pearson correlation coefficient greater than the observed one."
   ]
  },
  {
   "cell_type": "code",
   "execution_count": 33,
   "metadata": {},
   "outputs": [
    {
     "name": "stdout",
     "output_type": "stream",
     "text": [
      "p-val = 0.0\n"
     ]
    }
   ],
   "source": [
    "np.random.seed(42)\n",
    "\n",
    "def pearson_r(x, y):\n",
    "    \"\"\"Compute Pearson correlation coefficient between two arrays.\"\"\"\n",
    "    # Compute correlation matrix: corr_mat\n",
    "    corr_mat = np.corrcoef(x,y)\n",
    "\n",
    "    # Return entry [0,1]\n",
    "    return corr_mat[0,1]\n",
    "\n",
    "# Compute observed correlation: r_obs\n",
    "r_obs = pearson_r(illiteracy,fertility)\n",
    "\n",
    "# Initialize permutation replicates: perm_replicates\n",
    "perm_replicates = np.empty(10000)\n",
    "\n",
    "# Draw replicates\n",
    "for i in range(10000):\n",
    "    # Permute illiteracy measurments: illiteracy_permuted\n",
    "    illiteracy_permuted = np.random.permutation(illiteracy)\n",
    "\n",
    "    # Compute Pearson correlation\n",
    "    perm_replicates[i] = pearson_r(illiteracy_permuted,fertility)\n",
    "\n",
    "# Compute p-value: p\n",
    "p = np.sum(perm_replicates >= r_obs) / len(perm_replicates)\n",
    "print('p-val =', p)"
   ]
  },
  {
   "cell_type": "markdown",
   "metadata": {},
   "source": [
    "### Do neonicotinoid insecticides have unintended consequences?\n",
    "\n",
    "You will investigate the effects of neonicotinoid insecticides on bee reproduction. These insecticides are very widely used in the United States to combat aphids and other pests that damage plants.\n",
    "\n",
    "In a recent study, Straub, et al. (Proc. Roy. Soc. B, 2016) investigated the effects of neonicotinoids on the sperm of pollinating bees. In this and the next exercise, you will study how the pesticide treatment affected the count of live sperm per half milliliter of semen.\n",
    "\n",
    "First, we will do EDA, as usual. Plot ECDFs of the alive sperm count for untreated bees (stored in the Numpy array `control`) and bees treated with pesticide (stored in the Numpy array `treated`)."
   ]
  },
  {
   "cell_type": "code",
   "execution_count": 35,
   "metadata": {},
   "outputs": [
    {
     "data": {
      "image/png": "[encoded data removed]",
      "text/plain": [
       "<Figure size 432x288 with 1 Axes>"
      ]
     },
     "metadata": {},
     "output_type": "display_data"
    }
   ],
   "source": [
    "# Compute x,y values for ECDFs\n",
    "x_control, y_control = ecdf(control)\n",
    "x_treated, y_treated = ecdf(treated)\n",
    "\n",
    "# Plot the ECDFs\n",
    "plt.plot(x_control, y_control, marker='.', linestyle='none')\n",
    "plt.plot(x_treated, y_treated, marker='.', linestyle='none')\n",
    "\n",
    "# Set the margins\n",
    "plt.margins(0.02)\n",
    "\n",
    "# Add a legend\n",
    "plt.legend(('control', 'treated'), loc='lower right')\n",
    "\n",
    "# Label axes and show plot\n",
    "plt.xlabel('millions of alive sperm per mL')\n",
    "plt.ylabel('ECDF')\n",
    "plt.show()"
   ]
  },
  {
   "cell_type": "code",
   "execution_count": 37,
   "metadata": {},
   "outputs": [
    {
     "name": "stdout",
     "output_type": "stream",
     "text": [
      "p-value = 0.0\n"
     ]
    }
   ],
   "source": [
    "np.random.seed(42)\n",
    "\n",
    "def draw_bs_reps(data, func, size=1):\n",
    "    \"\"\"Draw bootstrap replicates.\"\"\"\n",
    "\n",
    "    # Initialize array of replicates: bs_replicates\n",
    "    bs_replicates = np.empty(size)\n",
    "\n",
    "    # Generate replicates\n",
    "    for i in range(size):\n",
    "        bs_replicates[i] = bootstrap_replicate_1d(data,func)\n",
    "\n",
    "    return bs_replicates\n",
    "\n",
    "def bootstrap_replicate_1d(data, func):\n",
    "    return func(np.random.choice(data, size=len(data)))\n",
    "\n",
    "def diff_of_means(data_1, data_2):\n",
    "    \"\"\"Difference in means of two arrays.\"\"\"\n",
    "    # The difference of means of data_1, data_2: diff\n",
    "    diff = np.mean(data_1) - np.mean(data_2)\n",
    "    return diff\n",
    "\n",
    "# Compute the difference in mean sperm count: diff_means\n",
    "diff_means = diff_of_means(control,treated)\n",
    "\n",
    "# Compute mean of pooled data: mean_count\n",
    "mean_count = np.mean(np.concatenate((control,treated)))\n",
    "\n",
    "# Generate shifted data sets\n",
    "control_shifted = control - np.mean(control) + mean_count\n",
    "treated_shifted = treated - np.mean(treated) + mean_count\n",
    "\n",
    "# Generate bootstrap replicates\n",
    "bs_reps_control = draw_bs_reps(control_shifted,\n",
    "                       np.mean, size=10000)\n",
    "bs_reps_treated = draw_bs_reps(treated_shifted,\n",
    "                       np.mean, size=10000)\n",
    "\n",
    "# Get replicates of difference of means: bs_replicates\n",
    "bs_replicates = bs_reps_control - bs_reps_treated\n",
    "\n",
    "# Compute and print p-value: p\n",
    "p = np.sum(bs_replicates >= np.mean(control) - np.mean(treated)) \\\n",
    "            / len(bs_replicates)\n",
    "print('p-value =', p)"
   ]
  },
  {
   "cell_type": "markdown",
   "metadata": {},
   "source": [
    "### Darwin's finches, a full blown statistical analysis\n",
    "\n",
    "For your first foray into the Darwin finch data, you will study how the beak depth (the distance, top to bottom, of a closed beak) of the finch species *Geospiza scandens* has changed over time. The Grants have noticed some changes of beak geometry depending on the types of seeds available on the island, and they also noticed that there was some interbreeding with another major species on Daphne Major, *Geospiza fortis*. These effects can lead to changes in the species over time.\n",
    "\n",
    "In the next few problems, you will look at the beak depth of *G. scandens* on Daphne Major in 1975 and in 2012. To start with, let's plot all of the beak depth measurements in 1975 and 2012 in a bee swarm plot.\n",
    "\n",
    "The data are stored in a pandas DataFrame called `df` with columns `'year'` and `'beak_depth'`. The units of beak depth are millimeters (mm)."
   ]
  },
  {
   "cell_type": "code",
   "execution_count": 53,
   "metadata": {},
   "outputs": [],
   "source": [
    "df = pd.DataFrame({'beak_depth':beak_depth,'year':year})\n",
    "bd_1975 = df[df.year == 1975].beak_depth.values\n",
    "bd_2012 = df[df.year == 2012].beak_depth.values"
   ]
  },
  {
   "cell_type": "code",
   "execution_count": 45,
   "metadata": {},
   "outputs": [
    {
     "data": {
      "image/png": "[encoded data removed]",
      "text/plain": [
       "<Figure size 432x288 with 1 Axes>"
      ]
     },
     "metadata": {},
     "output_type": "display_data"
    }
   ],
   "source": [
    "# Create bee swarm plot\n",
    "_ = sns.swarmplot('year','beak_depth',data=df)\n",
    "\n",
    "# Label the axes\n",
    "_ = plt.xlabel('year')\n",
    "_ = plt.ylabel('beak depth (mm)')\n",
    "\n",
    "# Show the plot\n",
    "plt.show()"
   ]
  },
  {
   "cell_type": "markdown",
   "metadata": {},
   "source": [
    "It is kind of hard to see if there is a clear difference between the 1975 and 2012 data set. Eyeballing it, it appears as though the mean of the 2012 data set might be slightly higher, and it might have a bigger variance.\n",
    "\n",
    "While bee swarm plots are useful, we found that ECDFs are often even better when doing EDA. Plot the ECDFs for the 1975 and 2012 beak depth measurements on the same plot.\n",
    "\n",
    "For your convenience, the beak depths for the respective years has been stored in the NumPy arrays `bd_1975` and `bd_2012`."
   ]
  },
  {
   "cell_type": "code",
   "execution_count": 54,
   "metadata": {},
   "outputs": [
    {
     "data": {
      "image/png": "[encoded data removed]",
      "text/plain": [
       "<Figure size 432x288 with 1 Axes>"
      ]
     },
     "metadata": {},
     "output_type": "display_data"
    }
   ],
   "source": [
    "# Compute ECDFs\n",
    "x_1975, y_1975 = ecdf(bd_1975)\n",
    "x_2012, y_2012 = ecdf(bd_2012)\n",
    "\n",
    "# Plot the ECDFs\n",
    "_ = plt.plot(x_1975, y_1975, marker='.', linestyle='none')\n",
    "_ = plt.plot(x_2012, y_2012, marker='.', linestyle='none')\n",
    "\n",
    "# Set margins\n",
    "plt.margins(0.02)\n",
    "\n",
    "# Add axis labels and legend\n",
    "_ = plt.xlabel('beak depth (mm)')\n",
    "_ = plt.ylabel('ECDF')\n",
    "_ = plt.legend(('1975', '2012'), loc='lower right')\n",
    "\n",
    "# Show the plot\n",
    "plt.show()"
   ]
  },
  {
   "cell_type": "markdown",
   "metadata": {},
   "source": [
    "The differences are much clearer in the ECDF. The mean is larger in the 2012 data, and the variance does appear larger as well.\n",
    "\n",
    "Estimate the *difference* of the mean beak depth of the *G. scandens* samples from 1975 and 2012 and report a 95% confidence interval."
   ]
  },
  {
   "cell_type": "code",
   "execution_count": 56,
   "metadata": {},
   "outputs": [
    {
     "name": "stdout",
     "output_type": "stream",
     "text": [
      "difference of means = 0.22622047244094645 mm\n",
      "95% confidence interval = [0.05633521 0.39190544] mm\n"
     ]
    }
   ],
   "source": [
    "np.random.seed(42)\n",
    "\n",
    "def draw_bs_reps(data, func, size=1):\n",
    "    \"\"\"Draw bootstrap replicates.\"\"\"\n",
    "\n",
    "    # Initialize array of replicates: bs_replicates\n",
    "    bs_replicates = np.empty(size)\n",
    "\n",
    "    # Generate replicates\n",
    "    for i in range(size):\n",
    "        bs_replicates[i] = bootstrap_replicate_1d(data,func)\n",
    "\n",
    "    return bs_replicates\n",
    "\n",
    "def bootstrap_replicate_1d(data, func):\n",
    "    return func(np.random.choice(data, size=len(data)))\n",
    "\n",
    "def diff_of_means(data_1, data_2):\n",
    "    \"\"\"Difference in means of two arrays.\"\"\"\n",
    "    # The difference of means of data_1, data_2: diff\n",
    "    diff = np.mean(data_1) - np.mean(data_2)\n",
    "    return diff\n",
    "\n",
    "# Compute the difference of the sample means: mean_diff\n",
    "mean_diff = diff_of_means(bd_2012,bd_1975)\n",
    "\n",
    "# Get bootstrap replicates of means\n",
    "bs_replicates_1975 = draw_bs_reps(bd_1975,np.mean,size=10000)\n",
    "bs_replicates_2012 = draw_bs_reps(bd_2012,np.mean,size=10000)\n",
    "\n",
    "# Compute samples of difference of means: bs_diff_replicates\n",
    "bs_diff_replicates = bs_replicates_2012 - bs_replicates_1975\n",
    "\n",
    "# Compute 95% confidence interval: conf_int\n",
    "conf_int = np.percentile(bs_diff_replicates,[2.5,97.5])\n",
    "\n",
    "# Print the results\n",
    "print('difference of means =', mean_diff, 'mm')\n",
    "print('95% confidence interval =', conf_int, 'mm')"
   ]
  },
  {
   "cell_type": "markdown",
   "metadata": {},
   "source": [
    "Your plot of the ECDF and determination of the confidence interval make it pretty clear that the beaks of *G. scandens* on Daphne Major have gotten deeper. But is it possible that this effect is just due to random chance? In other words, what is the probability that we would get the observed difference in mean beak depth if the means were the same?\n",
    "\n",
    "Be careful! The hypothesis we are testing is not that the beak depths come from the same distribution. For that we could use a permutation test. The hypothesis is that the means are equal. To perform this hypothesis test, we need to shift the two data sets so that they have the same mean and then use bootstrap sampling to compute the difference of means."
   ]
  },
  {
   "cell_type": "code",
   "execution_count": 57,
   "metadata": {},
   "outputs": [
    {
     "name": "stdout",
     "output_type": "stream",
     "text": [
      "p = 0.0034\n"
     ]
    }
   ],
   "source": [
    "np.random.seed(42)\n",
    "\n",
    "def diff_of_means(data_1, data_2):\n",
    "    \"\"\"Difference in means of two arrays.\"\"\"\n",
    "    # The difference of means of data_1, data_2: diff\n",
    "    diff = np.mean(data_1) - np.mean(data_2)\n",
    "    return diff\n",
    "\n",
    "mean_diff = diff_of_means(bd_2012,bd_1975)\n",
    "\n",
    "def draw_bs_reps(data, func, size=1):\n",
    "    \"\"\"Draw bootstrap replicates.\"\"\"\n",
    "\n",
    "    # Initialize array of replicates: bs_replicates\n",
    "    bs_replicates = np.empty(size)\n",
    "\n",
    "    # Generate replicates\n",
    "    for i in range(size):\n",
    "        bs_replicates[i] = bootstrap_replicate_1d(data,func)\n",
    "\n",
    "    return bs_replicates\n",
    "\n",
    "def bootstrap_replicate_1d(data, func):\n",
    "    return func(np.random.choice(data, size=len(data)))\n",
    "\n",
    "# Compute mean of combined data set: combined_mean\n",
    "combined_mean = np.mean(np.concatenate((bd_1975, bd_2012)))\n",
    "\n",
    "# Shift the samples\n",
    "bd_1975_shifted = bd_1975 - np.mean(bd_1975) + combined_mean\n",
    "bd_2012_shifted = bd_2012 - np.mean(bd_2012) + combined_mean\n",
    "\n",
    "# Get bootstrap replicates of shifted data sets\n",
    "bs_replicates_1975 = draw_bs_reps(bd_1975_shifted,np.mean,size=10000)\n",
    "bs_replicates_2012 = draw_bs_reps(bd_2012_shifted,np.mean,size=10000)\n",
    "\n",
    "# Compute replicates of difference of means: bs_diff_replicates\n",
    "bs_diff_replicates = bs_replicates_2012 - bs_replicates_1975\n",
    "\n",
    "# Compute the p-value\n",
    "p = np.sum(bs_diff_replicates >= mean_diff) / len(bs_diff_replicates)\n",
    "\n",
    "# Print p-value\n",
    "print('p =', p)\n"
   ]
  },
  {
   "cell_type": "markdown",
   "metadata": {},
   "source": [
    "The beak length data are stored as `bl_1975` and `bl_2012`, again with units of millimeters (mm). You still have the beak depth data stored in `bd_1975` and `bd_2012`. Make scatter plots of beak depth (y-axis) versus beak length (x-axis) for the 1975 and 2012 specimens."
   ]
  },
  {
   "cell_type": "code",
   "execution_count": 60,
   "metadata": {},
   "outputs": [
    {
     "data": {
      "image/png": "[encoded data removed]",
      "text/plain": [
       "<Figure size 432x288 with 1 Axes>"
      ]
     },
     "metadata": {},
     "output_type": "display_data"
    }
   ],
   "source": [
    "# Make scatter plot of 1975 data\n",
    "_ = plt.plot(bl_1975, bd_1975, marker='.',\n",
    "             linestyle='none', color='blue', alpha=0.5)\n",
    "\n",
    "# Make scatter plot of 2012 data\n",
    "_ = plt.plot(bl_2012, bd_2012, marker='.',\n",
    "             linestyle='none', color='red', alpha=0.5)\n",
    "\n",
    "# Label axes and make legend\n",
    "_ = plt.xlabel('beak length (mm)')\n",
    "_ = plt.ylabel('beak depth (mm)')\n",
    "_ = plt.legend(('1975', '2012'), loc='upper left')\n",
    "\n",
    "# Show the plot\n",
    "plt.show()"
   ]
  },
  {
   "cell_type": "markdown",
   "metadata": {},
   "source": [
    "In looking at the plot, we see that beaks got deeper (the red points are higher up in the y-direction), but not really longer. If anything, they got a bit shorter, since the red dots are to the left of the blue dots. So, it does not look like the beaks kept the same shape; they became shorter and deeper.\n",
    "\n",
    "Perform a linear regression for both the 1975 and 2012 data. Then, perform pairs bootstrap estimates for the regression parameters. Report 95% confidence intervals on the slope and intercept of the regression line."
   ]
  },
  {
   "cell_type": "code",
   "execution_count": 79,
   "metadata": {},
   "outputs": [
    {
     "ename": "TypeError",
     "evalue": "only integer scalar arrays can be converted to a scalar index",
     "output_type": "error",
     "traceback": [
      "\u001b[0;31m---------------------------------------------------------------------------\u001b[0m",
      "\u001b[0;31mTypeError\u001b[0m                                 Traceback (most recent call last)",
      "\u001b[0;32m<ipython-input-79-b79381dc5a07>\u001b[0m in \u001b[0;36m<module>\u001b[0;34m()\u001b[0m\n\u001b[1;32m      4\u001b[0m \u001b[0;34m\u001b[0m\u001b[0m\n\u001b[1;32m      5\u001b[0m \u001b[0;31m# Perform pairs bootstrap for the linear regressions\u001b[0m\u001b[0;34m\u001b[0m\u001b[0;34m\u001b[0m\u001b[0m\n\u001b[0;32m----> 6\u001b[0;31m \u001b[0mbs_slope_reps_1975\u001b[0m\u001b[0;34m,\u001b[0m \u001b[0mbs_intercept_reps_1975\u001b[0m \u001b[0;34m=\u001b[0m         \u001b[0mdraw_bs_pairs_linreg\u001b[0m\u001b[0;34m(\u001b[0m\u001b[0mbl_1975\u001b[0m\u001b[0;34m,\u001b[0m\u001b[0mbd_1975\u001b[0m\u001b[0;34m,\u001b[0m\u001b[0msize\u001b[0m\u001b[0;34m=\u001b[0m\u001b[0;36m1000\u001b[0m\u001b[0;34m)\u001b[0m\u001b[0;34m\u001b[0m\u001b[0m\n\u001b[0m\u001b[1;32m      7\u001b[0m \u001b[0mbs_slope_reps_2012\u001b[0m\u001b[0;34m,\u001b[0m \u001b[0mbs_intercept_reps_2012\u001b[0m \u001b[0;34m=\u001b[0m         \u001b[0mdraw_bs_pairs_linreg\u001b[0m\u001b[0;34m(\u001b[0m\u001b[0mbl_2012\u001b[0m\u001b[0;34m,\u001b[0m\u001b[0mbd_2012\u001b[0m\u001b[0;34m,\u001b[0m\u001b[0msize\u001b[0m\u001b[0;34m=\u001b[0m\u001b[0;36m1000\u001b[0m\u001b[0;34m)\u001b[0m\u001b[0;34m\u001b[0m\u001b[0m\n\u001b[1;32m      8\u001b[0m \u001b[0;34m\u001b[0m\u001b[0m\n",
      "\u001b[0;32m<ipython-input-78-3e1932cfd7fe>\u001b[0m in \u001b[0;36mdraw_bs_pairs_linreg\u001b[0;34m(x, y, size)\u001b[0m\n\u001b[1;32m     84\u001b[0m     \u001b[0;32mfor\u001b[0m \u001b[0mi\u001b[0m \u001b[0;32min\u001b[0m \u001b[0mrange\u001b[0m\u001b[0;34m(\u001b[0m\u001b[0msize\u001b[0m\u001b[0;34m)\u001b[0m\u001b[0;34m:\u001b[0m\u001b[0;34m\u001b[0m\u001b[0m\n\u001b[1;32m     85\u001b[0m         \u001b[0mbs_inds\u001b[0m \u001b[0;34m=\u001b[0m \u001b[0mnp\u001b[0m\u001b[0;34m.\u001b[0m\u001b[0mrandom\u001b[0m\u001b[0;34m.\u001b[0m\u001b[0mchoice\u001b[0m\u001b[0;34m(\u001b[0m\u001b[0minds\u001b[0m\u001b[0;34m,\u001b[0m \u001b[0mlen\u001b[0m\u001b[0;34m(\u001b[0m\u001b[0minds\u001b[0m\u001b[0;34m)\u001b[0m\u001b[0;34m)\u001b[0m\u001b[0;34m\u001b[0m\u001b[0m\n\u001b[0;32m---> 86\u001b[0;31m         \u001b[0mbs_x\u001b[0m\u001b[0;34m,\u001b[0m \u001b[0mbs_y\u001b[0m \u001b[0;34m=\u001b[0m \u001b[0mx\u001b[0m\u001b[0;34m[\u001b[0m\u001b[0mbs_inds\u001b[0m\u001b[0;34m]\u001b[0m\u001b[0;34m,\u001b[0m \u001b[0my\u001b[0m\u001b[0;34m[\u001b[0m\u001b[0mbs_inds\u001b[0m\u001b[0;34m]\u001b[0m\u001b[0;34m\u001b[0m\u001b[0m\n\u001b[0m\u001b[1;32m     87\u001b[0m         \u001b[0mbs_slope_reps\u001b[0m\u001b[0;34m[\u001b[0m\u001b[0mi\u001b[0m\u001b[0;34m]\u001b[0m\u001b[0;34m,\u001b[0m \u001b[0mbs_intercept_reps\u001b[0m\u001b[0;34m[\u001b[0m\u001b[0mi\u001b[0m\u001b[0;34m]\u001b[0m \u001b[0;34m=\u001b[0m \u001b[0mnp\u001b[0m\u001b[0;34m.\u001b[0m\u001b[0mpolyfit\u001b[0m\u001b[0;34m(\u001b[0m\u001b[0mbs_x\u001b[0m\u001b[0;34m,\u001b[0m \u001b[0mbs_y\u001b[0m\u001b[0;34m,\u001b[0m \u001b[0;36m1\u001b[0m\u001b[0;34m)\u001b[0m\u001b[0;34m\u001b[0m\u001b[0m\n\u001b[1;32m     88\u001b[0m \u001b[0;34m\u001b[0m\u001b[0m\n",
      "\u001b[0;31mTypeError\u001b[0m: only integer scalar arrays can be converted to a scalar index"
     ]
    }
   ],
   "source": [
    "# Compute the linear regressions\n",
    "slope_1975, intercept_1975 = np.polyfit(bl_1975, bd_1975,1)\n",
    "slope_2012, intercept_2012 = np.polyfit(bl_2012, bd_2012,1)\n",
    "\n",
    "# Perform pairs bootstrap for the linear regressions\n",
    "bs_slope_reps_1975, bs_intercept_reps_1975 = \\\n",
    "        draw_bs_pairs_linreg(bl_1975,bd_1975,size=1000)\n",
    "bs_slope_reps_2012, bs_intercept_reps_2012 = \\\n",
    "        draw_bs_pairs_linreg(bl_2012,bd_2012,size=1000)\n",
    "\n",
    "# Compute confidence intervals of slopes\n",
    "slope_conf_int_1975 = np.percentile(bs_slope_reps_1975,[2.5,97.5])\n",
    "slope_conf_int_2012 = np.percentile(bs_slope_reps_2012,[2.5,97.5])\n",
    "intercept_conf_int_1975 = np.percentile(bs_intercept_reps_1975,[2.5,97.5])\n",
    "intercept_conf_int_2012 = np.percentile(bs_intercept_reps_2012,[2.5,97.5])\n",
    "\n",
    "# Print the results\n",
    "print('1975: slope =', slope_1975,\n",
    "      'conf int =', slope_conf_int_1975)\n",
    "print('1975: intercept =', intercept_1975,\n",
    "      'conf int =', intercept_conf_int_1975)\n",
    "print('2012: slope =', slope_2012,\n",
    "      'conf int =', slope_conf_int_2012)\n",
    "print('2012: intercept =', intercept_2012,\n",
    "      'conf int =', intercept_conf_int_2012)\n",
    "\n",
    "\n",
    "# need to clean up bl_1975 and bl_2012 to get this to work"
   ]
  },
  {
   "cell_type": "markdown",
   "metadata": {},
   "source": [
    "It looks like they have the same slope, but different intercepts.\n",
    "\n",
    "Now, you will display your linear regression results on the scatter plot, the code for which is already pre-written for you from your previous exercise. To do this, take the first 100 bootstrap samples (stored in `bs_slope_reps_1975`, `bs_intercept_reps_1975`, `bs_slope_reps_2012`, and `bs_intercept_reps_2012`) and plot the lines with `alpha=0.2` and `linewidth=0.5` keyword arguments to `plt.plot()`."
   ]
  },
  {
   "cell_type": "code",
   "execution_count": null,
   "metadata": {},
   "outputs": [],
   "source": [
    "# Make scatter plot of 1975 data\n",
    "_ = plt.plot(bl_1975, bd_1975, marker='.',\n",
    "             linestyle='none', color='blue', alpha=0.5)\n",
    "\n",
    "# Make scatter plot of 2012 data\n",
    "_ = plt.plot(bl_2012, bd_2012, marker='.',\n",
    "             linestyle='none', color='red', alpha=0.5)\n",
    "\n",
    "# Label axes and make legend\n",
    "_ = plt.xlabel('beak length (mm)')\n",
    "_ = plt.ylabel('beak depth (mm)')\n",
    "_ = plt.legend(('1975', '2012'), loc='upper left')\n",
    "\n",
    "# Generate x-values for bootstrap lines: x\n",
    "x = np.array([10, 17])\n",
    "\n",
    "# Plot the bootstrap lines\n",
    "for i in range(100):\n",
    "    plt.plot(x, bs_slope_reps_1975[i]*x + bs_intercept_reps_1975[i],\n",
    "             linewidth=0.5, alpha=0.2, color='blue')\n",
    "    plt.plot(x, bs_slope_reps_2012[i]*x + bs_intercept_reps_2012[i],\n",
    "             linewidth=0.5, alpha=0.2, color='red')\n",
    "\n",
    "# Draw the plot again\n",
    "plt.show()"
   ]
  },
  {
   "cell_type": "markdown",
   "metadata": {},
   "source": [
    "The linear regressions showed interesting information about the beak geometry. The slope was the same in 1975 and 2012, suggesting that for every millimeter gained in beak length, the birds gained about half a millimeter in depth in both years. However, if we are interested in the shape of the beak, we want to compare the *ratio* of beak length to beak depth. Let's make that comparison."
   ]
  },
  {
   "cell_type": "code",
   "execution_count": null,
   "metadata": {},
   "outputs": [],
   "source": [
    "# Compute length-to-depth ratios\n",
    "ratio_1975 = bl_1975/bd_1975\n",
    "ratio_2012 = bl_2012/bd_2012\n",
    "\n",
    "# Compute means\n",
    "mean_ratio_1975 = np.mean(ratio_1975)\n",
    "mean_ratio_2012 = np.mean(ratio_2012)\n",
    "\n",
    "# Generate bootstrap replicates of the means\n",
    "bs_replicates_1975 = draw_bs_reps(ratio_1975,np.mean,size=10000)\n",
    "bs_replicates_2012 = draw_bs_reps(ratio_2012,np.mean,size=10000)\n",
    "\n",
    "# Compute the 99% confidence intervals\n",
    "conf_int_1975 = np.percentile(bs_replicates_1975,[0.5,99.5])\n",
    "conf_int_2012 = np.percentile(bs_replicates_2012,[0.5,99.5])\n",
    "\n",
    "# Print the results\n",
    "print('1975: mean ratio =', mean_ratio_1975,\n",
    "      'conf int =', conf_int_1975)\n",
    "print('2012: mean ratio =', mean_ratio_2012,\n",
    "      'conf int =', conf_int_2012)"
   ]
  },
  {
   "cell_type": "markdown",
   "metadata": {},
   "source": [
    "We see the mean beak length to depth ratio was 1.58 in 1975 and 1.47 in 2012. The low end of the 1975 99% confidence interval was 1.56 mm and the high end of the 99% confidence interval in 2012 was 1.49 mm. In addition to these results, what would you say about the ratio of beak length to depth?\n",
    "\n",
    "Remember, the size of the effect is most important; the p-value is in this case, just the icing on the cake.\n",
    "\n",
    "The mean beak length-to-depth ratio decreased by about 0.1, or 7%, from 1975 to 2012. The 99% confidence intervals are not even close to overlapping, so this is a real change. The beak shape changed."
   ]
  },
  {
   "cell_type": "markdown",
   "metadata": {},
   "source": [
    "The array `bd_parent_scandens` contains the average beak depth (in mm) of two parents of the species *G. scandens*. The array `bd_offspring_scandens` contains the average beak depth of the offspring of the respective parents. The arrays `bd_parent_fortis` and `bd_offspring_fortis` contain the same information about measurements from *G. fortis* birds.\n",
    "\n",
    "Make a scatter plot of the average offspring beak depth (y-axis) versus average parental beak depth (x-axis) for both species. Use the `alpha=0.5` keyword argument to help you see overlapping points."
   ]
  },
  {
   "cell_type": "code",
   "execution_count": null,
   "metadata": {},
   "outputs": [],
   "source": [
    "# Make scatter plots\n",
    "_ = plt.plot(bd_parent_fortis, bd_offspring_fortis,\n",
    "             marker='.', linestyle='none', color='blue', alpha=0.5)\n",
    "_ = plt.plot(bd_parent_scandens, bd_offspring_scandens,\n",
    "             marker='.', linestyle='none', color='red', alpha=0.5)\n",
    "\n",
    "# Label axes\n",
    "_ = plt.xlabel('parental beak depth (mm)')\n",
    "_ = plt.ylabel('offspring beak depth (mm)')\n",
    "\n",
    "# Add legend\n",
    "_ = plt.legend(('G. fortis', 'G. scandens'), loc='lower right')\n",
    "\n",
    "# Show plot\n",
    "plt.show()"
   ]
  },
  {
   "cell_type": "markdown",
   "metadata": {},
   "source": [
    "It appears as though there is a stronger correlation in *G. fortis* than in *G. scandens*. This suggests that beak depth is more strongly inherited in *G. fortis*. We'll quantify this correlation next.\n",
    "\n",
    "In an effort to quantify the correlation between offspring and parent beak depths, we would like to compute statistics, such as the Pearson correlation coefficient, between parents and offspring. To get confidence intervals on this, we need to do a pairs bootstrap.\n",
    "\n",
    "You have already written a function to do pairs bootstrap to get estimates for parameters derived from linear regression. Your task in this exercise is to modify that function to make a new function with call signature `draw_bs_pairs(x, y, func, size=1)` that performs pairs bootstrap and computes a single statistic on the pairs samples defined by `func(bs_x, bs_y)`. In the next exercise, you will use `pearson_r` for func."
   ]
  },
  {
   "cell_type": "code",
   "execution_count": null,
   "metadata": {},
   "outputs": [],
   "source": [
    "# func in supporting data"
   ]
  },
  {
   "cell_type": "markdown",
   "metadata": {},
   "source": [
    "The Pearson correlation coefficient seems like a useful measure of how strongly the beak depth of parents are inherited by their offspring. Compute the Pearson correlation coefficient between parental and offspring beak depths for *G. scandens*. Do the same for *G. fortis*. Then, use the function you wrote in the last exercise to compute a 95% confidence interval using pairs bootstrap."
   ]
  },
  {
   "cell_type": "code",
   "execution_count": null,
   "metadata": {},
   "outputs": [],
   "source": [
    "# Compute the Pearson correlation coefficients\n",
    "r_scandens = pearson_r(bd_parent_scandens, bd_offspring_scandens)\n",
    "r_fortis = pearson_r(bd_parent_fortis, bd_offspring_fortis)\n",
    "\n",
    "# Acquire 1000 bootstrap replicates of Pearson r\n",
    "bs_replicates_scandens = draw_bs_pairs(bd_parent_scandens, bd_offspring_scandens, pearson_r, size=1000)\n",
    "\n",
    "bs_replicates_fortis = draw_bs_pairs(bd_parent_fortis, bd_offspring_fortis, pearson_r, size=1000)\n",
    "\n",
    "\n",
    "# Compute 95% confidence intervals\n",
    "conf_int_scandens = np.percentile(bs_replicates_scandens,[2.5,97.5])\n",
    "conf_int_fortis = np.percentile(bs_replicates_fortis,[2.5,97.5])\n",
    "\n",
    "# Print results\n",
    "print('G. scandens:', r_scandens, conf_int_scandens)\n",
    "print('G. fortis:', r_fortis, conf_int_fortis)"
   ]
  },
  {
   "cell_type": "markdown",
   "metadata": {},
   "source": [
    "It is clear from the confidence intervals that beak depth of the offspring of *G. fortis* parents is more strongly correlated with their offspring than their *G. scandens* counterparts.\n",
    "\n",
    "Remember that the Pearson correlation coefficient is the ratio of the covariance to the geometric mean of the variances of the two data sets. This is a measure of the correlation between parents and offspring, but might not be the best estimate of heritability. If we stop and think, it makes more sense to define heritability as the ratio of the covariance between parent and offspring to the variance of the parents alone. In this exercise, you will estimate the heritability and perform a pairs bootstrap calculation to get the 95% confidence interval.\n",
    "\n",
    "This exercise highlights a very important point. Statistical inference (and data analysis in general) is not a plug-n-chug enterprise. You need to think carefully about the questions you are seeking to answer with your data and analyze them appropriately. If you are interested in how heritable traits are, the quantity we defined as the heritability is more apt than the off-the-shelf statistic, the Pearson correlation coefficient."
   ]
  },
  {
   "cell_type": "code",
   "execution_count": null,
   "metadata": {},
   "outputs": [],
   "source": [
    "def heritability(parents, offspring):\n",
    "    \"\"\"Compute the heritability from parent and offspring samples.\"\"\"\n",
    "    covariance_matrix = np.cov(parents, offspring)\n",
    "    return covariance_matrix[1,0] / covariance_matrix[0,0]\n",
    "\n",
    "# Compute the heritability\n",
    "heritability_scandens = heritability(bd_parent_scandens,bd_offspring_scandens)\n",
    "heritability_fortis = heritability(bd_parent_fortis,bd_offspring_fortis)\n",
    "\n",
    "# Acquire 1000 bootstrap replicates of heritability\n",
    "replicates_scandens = draw_bs_pairs(\n",
    "        bd_parent_scandens,bd_offspring_scandens, heritability, size=1000)\n",
    "        \n",
    "replicates_fortis = draw_bs_pairs(\n",
    "        bd_parent_fortis,bd_offspring_fortis, heritability, size=1000)\n",
    "\n",
    "\n",
    "# Compute 95% confidence intervals\n",
    "conf_int_scandens = np.percentile(replicates_scandens,[2.5,97.5])\n",
    "conf_int_fortis = np.percentile(replicates_fortis,[2.5,97.5])\n",
    "\n",
    "# Print results\n",
    "print('G. scandens:', heritability_scandens, conf_int_scandens)\n",
    "print('G. fortis:', heritability_fortis, conf_int_fortis)"
   ]
  },
  {
   "cell_type": "markdown",
   "metadata": {},
   "source": [
    "Here again, we see that *G. fortis* has stronger heritability than *G. scandens*. This suggests that the traits of *G. fortis* may be strongly incorporated into *G. scandens* by introgressive hybridization.\n",
    "\n",
    "The heritability of beak depth in *G. scandens* seems low. It could be that this observed heritability was just achieved by chance and beak depth is actually not really heritable in the species. You will test that hypothesis here. To do this, you will do a pairs permutation test."
   ]
  },
  {
   "cell_type": "code",
   "execution_count": null,
   "metadata": {},
   "outputs": [],
   "source": [
    "# Initialize array of replicates: perm_replicates\n",
    "perm_replicates = np.empty(10000)\n",
    "\n",
    "# Draw replicates\n",
    "for i in range(10000):\n",
    "    # Permute parent beak depths\n",
    "    bd_parent_permuted = np.random.permutation(bd_parent_scandens)\n",
    "    perm_replicates[i] = heritability(bd_parent_permuted,bd_offspring_scandens)\n",
    "\n",
    "# Compute p-value: p\n",
    "p = np.sum(perm_replicates >= heritability_scandens) / len(perm_replicates)\n",
    "\n",
    "# Print the p-value\n",
    "print('p-val =', p)"
   ]
  },
  {
   "cell_type": "markdown",
   "metadata": {},
   "source": [
    "You get a p-value of zero, which means that none of the 10,000 permutation pairs replicates you drew had a heritability high enough to match that which was observed. This strongly suggests that beak depth is heritable in *G. scandens*, just not as much as in *G. fortis*. If you like, you can plot a histogram of the heritability replicates to get a feel for how extreme of a value of heritability you might expect by chance."
   ]
  },
  {
   "cell_type": "markdown",
   "metadata": {},
   "source": [
    "## To Do\n",
    "\n",
    "1. scrape data locations from [datacamp website for this course](https://www.datacamp.com/courses/statistical-thinking-in-python-part-2)\n",
    "1. store data in local folder\n",
    "1. import all the data cleanly\n",
    "1. re-run this finch analysis"
   ]
  },
  {
   "cell_type": "code",
   "execution_count": null,
   "metadata": {},
   "outputs": [],
   "source": []
  },
  {
   "cell_type": "code",
   "execution_count": null,
   "metadata": {},
   "outputs": [],
   "source": []
  },
  {
   "cell_type": "code",
   "execution_count": null,
   "metadata": {},
   "outputs": [],
   "source": []
  },
  {
   "cell_type": "markdown",
   "metadata": {},
   "source": [
    "## END: Supporting data"
   ]
  },
  {
   "cell_type": "code",
   "execution_count": 80,
   "metadata": {},
   "outputs": [],
   "source": [
    "# RUN ME\n",
    "import pandas as pd\n",
    "import numpy as np\n",
    "import matplotlib.pyplot as plt\n",
    "import seaborn as sns\n",
    "sns.set()\n",
    "\n",
    "def ecdf(data):\n",
    "    n = len(data)\n",
    "    x = np.sort(data)\n",
    "    y = np.arange(1,n+1)/n\n",
    "    return x,y\n",
    "\n",
    "def diff_of_means(data_1, data_2):\n",
    "    \"\"\"Difference in means of two arrays.\"\"\"\n",
    "    # The difference of means of data_1, data_2: diff\n",
    "    diff = np.mean(data_1) - np.mean(data_2)\n",
    "    return diff\n",
    "\n",
    "def pearson_r(x, y):\n",
    "    \"\"\"Compute Pearson correlation coefficient between two arrays.\"\"\"\n",
    "    # Compute correlation matrix: corr_mat\n",
    "    corr_mat = np.corrcoef(x,y)\n",
    "\n",
    "    # Return entry [0,1]\n",
    "    return corr_mat[0,1]\n",
    "\n",
    "def draw_bs_reps(data, func, size=1):\n",
    "    \"\"\"Draw bootstrap replicates.\"\"\"\n",
    "\n",
    "    # Initialize array of replicates: bs_replicates\n",
    "    bs_replicates = np.empty(size)\n",
    "\n",
    "    # Generate replicates\n",
    "    for i in range(size):\n",
    "        bs_replicates[i] = bootstrap_replicate_1d(data,func)\n",
    "\n",
    "    return bs_replicates\n",
    "\n",
    "def bootstrap_replicate_1d(data, func):\n",
    "    return func(np.random.choice(data, size=len(data)))\n",
    "\n",
    "def permutation_sample(data1, data2):\n",
    "    \"\"\"Generate a permutation sample from two data sets.\"\"\"\n",
    "\n",
    "    # Concatenate the data sets: data\n",
    "    data = np.concatenate((data1,data2))\n",
    "\n",
    "    # Permute the concatenated array: permuted_data\n",
    "    permuted_data = np.random.permutation(data)\n",
    "\n",
    "    # Split the permuted array into two: perm_sample_1, perm_sample_2\n",
    "    perm_sample_1 = permuted_data[:len(data1)]\n",
    "    perm_sample_2 = permuted_data[len(data1):]\n",
    "\n",
    "    return perm_sample_1, perm_sample_2\n",
    "\n",
    "def draw_perm_reps(data_1, data_2, func, size=1):\n",
    "    \"\"\"Generate multiple permutation replicates.\"\"\"\n",
    "\n",
    "    # Initialize array of replicates: perm_replicates\n",
    "    perm_replicates = np.empty(size)\n",
    "\n",
    "    for i in range(size):\n",
    "        # Generate permutation sample\n",
    "        perm_sample_1, perm_sample_2 = permutation_sample(data_1,data_2)\n",
    "\n",
    "        # Compute the test statistic\n",
    "        perm_replicates[i] = func(perm_sample_1,perm_sample_2)\n",
    "\n",
    "    return perm_replicates\n",
    "\n",
    "def draw_bs_pairs_linreg(x, y, size=1):\n",
    "    \"\"\"Perform pairs bootstrap for linear regression.\"\"\"\n",
    "\n",
    "    # Set up array of indices to sample from\n",
    "    inds = np.arange(len(x))\n",
    "\n",
    "    # Initialize samples\n",
    "    bs_slope_reps = np.empty(size)\n",
    "    bs_intercept_reps = np.empty(size)\n",
    "\n",
    "    # Take samples\n",
    "    for i in range(size):\n",
    "        bs_inds = np.random.choice(inds, len(inds))\n",
    "        bs_x, bs_y = x[bs_inds], y[bs_inds]\n",
    "        bs_slope_reps[i], bs_intercept_reps[i] = np.polyfit(bs_x, bs_y, 1)\n",
    "\n",
    "    return bs_slope_reps, bs_intercept_reps\n",
    "\n",
    "def draw_bs_pairs(x, y, func, size=1):\n",
    "    \"\"\"Perform pairs bootstrap for linear regression.\"\"\"\n",
    "\n",
    "    # Set up array of indices to sample from: inds\n",
    "    inds = np.arange(len(x))\n",
    "\n",
    "    # Initialize replicates\n",
    "    bs_slope_reps = np.empty(size)\n",
    "    bs_intercept_reps = np.empty(size)\n",
    "\n",
    "    # Generate replicates\n",
    "    for i in range(size):\n",
    "        bs_inds = np.random.choice(inds,len(inds))\n",
    "        bs_x, bs_y = func(bs_x,bs_y)\n",
    "        bs_replicates[i] = bs_y - bs_x\n",
    "\n",
    "    return bs_replicates\n",
    "\n",
    "petal_length = [\n",
    "    4.7, 4.5, 4.9, 4.0, 4.6, 4.5, 4.7, 3.3, 4.6, 3.9, 3.5, 4.2, 4.0,\n",
    "    4.7, 3.6, 4.4, 4.5, 4.1, 4.5, 3.9, 4.8, 4.0, 4.9, 4.7, 4.3, 4.4,\n",
    "    4.8, 5.0, 4.5, 3.5, 3.8, 3.7, 3.9, 5.1, 4.5, 4.5, 4.7, 4.4, 4.1,\n",
    "    4.0, 4.4, 4.6, 4.0, 3.3, 4.2, 4.2, 4.2, 4.3, 3.0, 4.1]\n",
    "petal_width = [\n",
    "    1.4, 1.5, 1.5, 1.3, 1.5, 1.3, 1.6, 1.0, 1.3, 1.4, 1.0, 1.5, 1.0,\n",
    "    1.4, 1.3, 1.4, 1.5, 1.0, 1.5, 1.1, 1.8, 1.3, 1.5, 1.2, 1.3, 1.4,\n",
    "    1.4, 1.7, 1.5, 1.0, 1.1, 1.0, 1.2, 1.6, 1.5, 1.6, 1.5, 1.3, 1.3,\n",
    "    1.3, 1.2, 1.4, 1.2, 1.0, 1.3, 1.2, 1.3, 1.3, 1.1, 1.3]\n",
    "belmont = [\n",
    "    148.5, 146.6, 148.5, 150.7, 150.4, 150.8, 151.5, 147.5,\n",
    "    149.6, 148.4, 147.8, 148.7, 147.5, 148.2, 149.7, 146.5,\n",
    "    151.1, 147.8, 149.1, 148.8, 148.9, 152.2, 146.8, 149.9,\n",
    "    146.1, 148.1, 147.2, 146.0, 146.4, 148.2, 149.8, 147.0,\n",
    "    147.2, 147.8, 148.2, 149.0, 149.8, 148.6, 146.8, 149.6,\n",
    "    149.0, 148.2, 149.2, 148.0, 150.4, 148.8, 147.2, 148.8,\n",
    "    149.6, 148.4, 148.4, 150.2, 148.8, 149.2, 149.2, 148.4,\n",
    "    150.2, 146.6, 149.8, 149.0, 150.8, 148.6, 150.2, 149.0,\n",
    "    148.6, 150.2, 148.2, 149.4, 150.8, 150.2, 152.2, 148.2,\n",
    "    149.2, 151.0, 149.6, 149.6, 149.4, 148.6, 150.0, 150.6,\n",
    "    149.2, 152.6, 152.8, 149.6, 151.6, 152.8, 153.2, 152.4]\n",
    "nohitter_times = [\n",
    "    843, 1613, 1101,  215,  684,  814,  278,  324,  161,  219,  545,\n",
    "    715,  966,  624,   29,  450,  107,   20,   91, 1325,  124, 1468,\n",
    "    104, 1309,  429,   62, 1878, 1104,  123,  251,   93,  188,  983,\n",
    "    166,   96,  702,   23,  524,   26,  299,   59,   39,   12,    2,\n",
    "    308, 1114,  813,  887,  645, 2088,   42, 2090,   11,  886, 1665,\n",
    "    1084, 2900, 2432,  750, 4021, 1070, 1765, 1322,   26,  548, 1525,\n",
    "    77, 2181, 2752,  127, 2147,  211,   41, 1575,  151,  479,  697,\n",
    "    557, 2267,  542,  392,   73,  603,  233,  255,  528,  397, 1529,\n",
    "    1023, 1194,  462,  583,   37,  943,  996,  480, 1497,  717,  224,\n",
    "    219, 1531,  498,   44,  288,  267,  600,   52,  269, 1086,  386,\n",
    "    176, 2199,  216,   54,  675, 1243,  463,  650,  171,  327,  110,\n",
    "    774,  509,    8,  197,  136,   12, 1124,   64,  380,  811,  232,\n",
    "    192,  731,  715,  226,  605,  539, 1491,  323,  240,  179,  702,\n",
    "    156,   82, 1397,  354,  778,  603, 1001,  385,  986,  203,  149,\n",
    "    576,  445,  180, 1403,  252,  675, 1351, 2983, 1568,   45,  899,\n",
    "    3260, 1025,   31,  100, 2055, 4043,   79,  238, 3931, 2351,  595,\n",
    "    110,  215,    0,  563,  206,  660,  242,  577,  179,  157,  192,\n",
    "    192, 1848,  792, 1693,   55,  388,  225, 1134, 1172, 1555,   31,\n",
    "    1582, 1044,  378, 1687, 2915,  280,  765, 2819,  511, 1521,  745,\n",
    "    2491,  580, 2072, 6450,  578,  745, 1075, 1103, 1549, 1520,  138,\n",
    "    1202,  296,  277,  351,  391,  950,  459,   62, 1056, 1128,  139,\n",
    "    420,   87,   71,  814,  603, 1349,  162, 1027,  783,  326,  101,\n",
    "    876,  381,  905,  156,  419,  239,  119,  129,  467]\n",
    "illiteracy = [\n",
    "     9.5,  49.2,   1. ,  11.2,   9.8,  60. ,  50.2,  51.2,   0.6,\n",
    "     1. ,   8.5,   6.1,   9.8,   1. ,  42.2,  77.2,  18.7,  22.8,\n",
    "     8.5,  43.9,   1. ,   1. ,   1.5,  10.8,  11.9,   3.4,   0.4,\n",
    "     3.1,   6.6,  33.7,  40.4,   2.3,  17.2,   0.7,  36.1,   1. ,\n",
    "    33.2,  55.9,  30.8,  87.4,  15.4,  54.6,   5.1,   1.1,  10.2,\n",
    "    19.8,   0. ,  40.7,  57.2,  59.9,   3.1,  55.7,  22.8,  10.9,\n",
    "    34.7,  32.2,  43. ,   1.3,   1. ,   0.5,  78.4,  34.2,  84.9,\n",
    "    29.1,  31.3,  18.3,  81.8,  39. ,  11.2,  67. ,   4.1,   0.2,\n",
    "    78.1,   1. ,   7.1,   1. ,  29. ,   1.1,  11.7,  73.6,  33.9,\n",
    "    14. ,   0.3,   1. ,   0.8,  71.9,  40.1,   1. ,   2.1,   3.8,\n",
    "    16.5,   4.1,   0.5,  44.4,  46.3,  18.7,   6.5,  36.8,  18.6,\n",
    "    11.1,  22.1,  71.1,   1. ,   0. ,   0.9,   0.7,  45.5,   8.4,\n",
    "     0. ,   3.8,   8.5,   2. ,   1. ,  58.9,   0.3,   1. ,  14. ,\n",
    "    47. ,   4.1,   2.2,   7.2,   0.3,   1.5,  50.5,   1.3,   0.6,\n",
    "    19.1,   6.9,   9.2,   2.2,   0.2,  12.3,   4.9,   4.6,   0.3,\n",
    "    16.5,  65.7,  63.5,  16.8,   0.2,   1.8,   9.6,  15.2,  14.4,\n",
    "     3.3,  10.6,  61.3,  10.9,  32.2,   9.3,  11.6,  20.7,   6.5,\n",
    "     6.7,   3.5,   1. ,   1.6,  20.5,   1.5,  16.7,   2. ,   0.9]\n",
    "fertility = [\n",
    "    1.769,  2.682,  2.077,  2.132,  1.827,  3.872,  2.288,  5.173,\n",
    "    1.393,  1.262,  2.156,  3.026,  2.033,  1.324,  2.816,  5.211,\n",
    "    2.1  ,  1.781,  1.822,  5.908,  1.881,  1.852,  1.39 ,  2.281,\n",
    "    2.505,  1.224,  1.361,  1.468,  2.404,  5.52 ,  4.058,  2.223,\n",
    "    4.859,  1.267,  2.342,  1.579,  6.254,  2.334,  3.961,  6.505,\n",
    "    2.53 ,  2.823,  2.498,  2.248,  2.508,  3.04 ,  1.854,  4.22 ,\n",
    "    5.1  ,  4.967,  1.325,  4.514,  3.173,  2.308,  4.62 ,  4.541,\n",
    "    5.637,  1.926,  1.747,  2.294,  5.841,  5.455,  7.069,  2.859,\n",
    "    4.018,  2.513,  5.405,  5.737,  3.363,  4.89 ,  1.385,  1.505,\n",
    "    6.081,  1.784,  1.378,  1.45 ,  1.841,  1.37 ,  2.612,  5.329,\n",
    "    5.33 ,  3.371,  1.281,  1.871,  2.153,  5.378,  4.45 ,  1.46 ,\n",
    "    1.436,  1.612,  3.19 ,  2.752,  3.35 ,  4.01 ,  4.166,  2.642,\n",
    "    2.977,  3.415,  2.295,  3.019,  2.683,  5.165,  1.849,  1.836,\n",
    "    2.518,  2.43 ,  4.528,  1.263,  1.885,  1.943,  1.899,  1.442,\n",
    "    1.953,  4.697,  1.582,  2.025,  1.841,  5.011,  1.212,  1.502,\n",
    "    2.516,  1.367,  2.089,  4.388,  1.854,  1.748,  2.978,  2.152,\n",
    "    2.362,  1.988,  1.426,  3.29 ,  3.264,  1.436,  1.393,  2.822,\n",
    "    4.969,  5.659,  3.24 ,  1.693,  1.647,  2.36 ,  1.792,  3.45 ,\n",
    "    1.516,  2.233,  2.563,  5.283,  3.885,  0.966,  2.373,  2.663,\n",
    "    1.251,  2.052,  3.371,  2.093,  2.   ,  3.883,  3.852,  3.718,\n",
    "    1.732,  3.928]\n",
    "rainfall = [\n",
    "    875.5,   648.2,   788.1,   940.3,   491.1,   743.5,   730.1,\n",
    "    686.5,   878.8,   865.6,   654.9,   831.5,   798.1,   681.8,\n",
    "    743.8,   689.1,   752.1,   837.2,   710.6,   749.2,   967.1,\n",
    "    701.2,   619. ,   747.6,   803.4,   645.6,   804.1,   787.4,\n",
    "    646.8,   997.1,   774. ,   734.5,   835. ,   840.7,   659.6,\n",
    "    828.3,   909.7,   856.9,   578.3,   904.2,   883.9,   740.1,\n",
    "    773.9,   741.4,   866.8,   871.1,   712.5,   919.2,   927.9,\n",
    "    809.4,   633.8,   626.8,   871.3,   774.3,   898.8,   789.6,\n",
    "    936.3,   765.4,   882.1,   681.1,   661.3,   847.9,   683.9,\n",
    "    985.7,   771.1,   736.6,   713.2,   774.5,   937.7,   694.5,\n",
    "    598.2,   983.8,   700.2,   901.3,   733.5,   964.4,   609.3,\n",
    "    1035.2,   718. ,   688.6,   736.8,   643.3,  1038.5,   969.,\n",
    "    802.7,   876.6,   944.7,   786.6,   770.4,   808.6,   761.3,\n",
    "    774.2,   559.3,   674.2,   883.6,   823.9,   960.4,   877.8,\n",
    "    940.6,   831.8,   906.2,   866.5,   674.1,   998.1,   789.3,\n",
    "    915. ,   737.1,   763. ,   666.7,   824.5,   913.8,   905.1,\n",
    "    667.8,   747.4,   784.7,   925.4,   880.2,  1086.9,   764.4,\n",
    "    1050.1,   595.2,   855.2,   726.9,   785.2,   948.8,  970.6,\n",
    "    896. ,   618.4,   572.4,  1146.4,   728.2,   864.2,   793.  ]\n",
    "nht_dead = [\n",
    "    -1,  894,   10,  130,    1,  934,   29,    6,  485,  254,  372,\n",
    "      81,  191,  355,  180,  286,   47,  269,  361,  173,  246,  492,\n",
    "     462, 1319,   58,  297,   31, 2970,  640,  237,  434,  570,   77,\n",
    "     271,  563, 3365,   89,    0,  379,  221,  479,  367,  628,  843,\n",
    "    1613, 1101,  215,  684,  814,  278,  324,  161,  219,  545,  715,\n",
    "     966,  624,   29,  450,  107,   20,   91, 1325,  124, 1468,  104,\n",
    "    1309,  429,   62, 1878, 1104,  123,  251,   93,  188,  983,  166,\n",
    "      96,  702,   23,  524,   26,  299,   59,   39,   12,    2,  308,\n",
    "    1114,  813,  887]\n",
    "nht_live = [\n",
    "    645, 2088,   42, 2090,   11,  886, 1665, 1084, 2900, 2432,  750,\n",
    "    4021, 1070, 1765, 1322,   26,  548, 1525,   77, 2181, 2752,  127,\n",
    "    2147,  211,   41, 1575,  151,  479,  697,  557, 2267,  542,  392,\n",
    "      73,  603,  233,  255,  528,  397, 1529, 1023, 1194,  462,  583,\n",
    "      37,  943,  996,  480, 1497,  717,  224,  219, 1531,  498,   44,\n",
    "     288,  267,  600,   52,  269, 1086,  386,  176, 2199,  216,   54,\n",
    "     675, 1243,  463,  650,  171,  327,  110,  774,  509,    8,  197,\n",
    "     136,   12, 1124,   64,  380,  811,  232,  192,  731,  715,  226,\n",
    "     605,  539, 1491,  323,  240,  179,  702,  156,   82, 1397,  354,\n",
    "     778,  603, 1001,  385,  986,  203,  149,  576,  445,  180, 1403,\n",
    "     252,  675, 1351, 2983, 1568,   45,  899, 3260, 1025,   31,  100,\n",
    "    2055, 4043,   79,  238, 3931, 2351,  595,  110,  215,    0,  563,\n",
    "     206,  660,  242,  577,  179,  157,  192,  192, 1848,  792, 1693,\n",
    "      55,  388,  225, 1134, 1172, 1555,   31, 1582, 1044,  378, 1687,\n",
    "    2915,  280,  765, 2819,  511, 1521,  745, 2491,  580, 2072, 6450,\n",
    "     578,  745, 1075, 1103, 1549, 1520,  138, 1202,  296,  277,  351,\n",
    "     391,  950,  459,   62, 1056, 1128,  139,  420,   87,   71,  814,\n",
    "     603, 1349,  162, 1027,  783,  326,  101,  876,  381,  905,  156,\n",
    "     419,  239,  119,  129,  467]\n",
    "control = [\n",
    "    4.159234,   4.408002,   0.172812,   3.498278,   3.104912,\n",
    "      5.164174,   6.615262,   4.633066,   0.170408,   2.65    ,\n",
    "      0.0875  ,   1.997148,   6.92668 ,   4.574932,   3.896466,\n",
    "      5.209814,   3.70625 ,   0.      ,   4.62545 ,   3.01444 ,\n",
    "      0.732652,   0.4     ,   6.518382,   5.225   ,   6.218742,\n",
    "      6.840358,   1.211308,   0.368252,   3.59937 ,   4.212158,\n",
    "      6.052364,   2.115532,   6.60413 ,   5.26074 ,   6.05695 ,\n",
    "      6.481172,   3.171522,   3.057228,   0.218808,   5.215112,\n",
    "      4.465168,   2.28909 ,   3.732572,   2.17087 ,   1.834326,\n",
    "      6.074862,   5.841978,   8.524892,   4.698492,   2.965624,\n",
    "      2.324206,   3.409412,   4.830726,   0.1     ,   0.      ,\n",
    "      4.101432,   3.478162,   1.009688,   4.999296,   4.32196 ,\n",
    "      0.299592,   3.606032,   7.54026 ,   4.284024,   0.057494,\n",
    "      6.036668,   2.924084,   4.150144,   1.256926,   4.666502,\n",
    "      4.806594,   2.52478 ,   2.027654,   2.52283 ,   4.735598,\n",
    "      2.033236,   0.      ,   6.177294,   2.601834,   3.544408,\n",
    "      3.6045  ,   5.520346,   4.80698 ,   3.002478,   3.559816,\n",
    "      7.075844,  10.      ,   0.139772,   6.17171 ,   3.201232,\n",
    "      8.459546,   0.17857 ,   7.088276,   5.496662,   5.415086,\n",
    "      1.932282,   3.02838 ,   7.47996 ,   1.86259 ,   7.838498,\n",
    "      2.242718,   3.292958,   6.363644,   4.386898,   8.47533 ,\n",
    "      4.156304,   1.463956,   4.533628,   5.573922,   1.29454 ,\n",
    "      7.547504,   3.92466 ,   5.820258,   4.118522,   4.125   ,\n",
    "      2.286698,   0.591882,   1.273124,   0.      ,   0.      ,\n",
    "      0.      ,  12.22502 ,   7.601604,   5.56798 ,   1.679914,\n",
    "      8.77096 ,   5.823942,   0.258374,   0.      ,   5.899236,\n",
    "      5.486354,   2.053148,   3.25541 ,   2.72564 ,   3.364066,\n",
    "      2.43427 ,   5.282548,   3.963666,   0.24851 ,   0.347916,\n",
    "      4.046862,   5.461436,   4.066104,   0.      ,   0.065    ]\n",
    "treated = [\n",
    "    1.342686,  1.058476,  3.793784,  0.40428 ,  4.528388,  2.142966,\n",
    "      3.937742,  0.1375  ,  6.919164,  0.      ,  3.597812,  5.196538,\n",
    "      2.78955 ,  2.3229  ,  1.090636,  5.323916,  1.021618,  0.931836,\n",
    "      2.78    ,  0.412202,  1.180934,  2.8674  ,  0.      ,  0.064354,\n",
    "      3.008348,  0.876634,  0.      ,  4.971712,  7.280658,  4.79732 ,\n",
    "      2.084956,  3.251514,  1.9405  ,  1.566192,  0.58894 ,  5.219658,\n",
    "      0.977976,  3.124584,  1.297564,  1.433328,  4.24337 ,  0.880964,\n",
    "      2.376566,  3.763658,  1.918426,  3.74    ,  3.841726,  4.69964 ,\n",
    "      4.386876,  0.      ,  1.127432,  1.845452,  0.690314,  4.185602,\n",
    "      2.284732,  7.237594,  2.185148,  2.799124,  3.43218 ,  0.63354 ,\n",
    "      1.142496,  0.586   ,  2.372858,  1.80032 ,  3.329306,  4.028804,\n",
    "      3.474156,  7.508752,  2.032824,  1.336556,  1.906496,  1.396046,\n",
    "      2.488104,  4.759114,  1.07853 ,  3.19927 ,  3.814252,  4.275962,\n",
    "      2.817056,  0.552198,  3.27194 ,  5.11525 ,  2.064628,  0.      ,\n",
    "      3.34101 ,  6.177322,  0.      ,  3.66415 ,  2.352582,  1.531696 ]\n",
    "beak_depth = [\n",
    "    8.4 ,   8.8 ,   8.4 ,   8.  ,   7.9 ,   8.9 ,   8.6 ,   8.5 ,\n",
    "      8.9 ,   9.1 ,   8.6 ,   9.8 ,   8.2 ,   9.  ,   9.7 ,   8.6 ,\n",
    "      8.2 ,   9.  ,   8.4 ,   8.6 ,   8.9 ,   9.1 ,   8.3 ,   8.7 ,\n",
    "      9.6 ,   8.5 ,   9.1 ,   9.  ,   9.2 ,   9.9 ,   8.6 ,   9.2 ,\n",
    "      8.4 ,   8.9 ,   8.5 ,  10.4 ,   9.6 ,   9.1 ,   9.3 ,   9.3 ,\n",
    "      8.8 ,   8.3 ,   8.8 ,   9.1 ,  10.1 ,   8.9 ,   9.2 ,   8.5 ,\n",
    "     10.2 ,  10.1 ,   9.2 ,   9.7 ,   9.1 ,   8.5 ,   8.2 ,   9.  ,\n",
    "      9.3 ,   8.  ,   9.1 ,   8.1 ,   8.3 ,   8.7 ,   8.8 ,   8.6 ,\n",
    "      8.7 ,   8.  ,   8.8 ,   9.  ,   9.1 ,   9.74,   9.1 ,   9.8 ,\n",
    "     10.4 ,   8.3 ,   9.44,   9.04,   9.  ,   9.05,   9.65,   9.45,\n",
    "      8.65,   9.45,   9.45,   9.05,   8.75,   9.45,   8.35,   9.4 ,\n",
    "      8.9 ,   9.5 ,  11.  ,   8.7 ,   8.4 ,   9.1 ,   8.7 ,  10.2 ,\n",
    "      9.6 ,   8.85,   8.8 ,   9.5 ,   9.2 ,   9.  ,   9.8 ,   9.3 ,\n",
    "      9.  ,  10.2 ,   7.7 ,   9.  ,   9.5 ,   9.4 ,   8.  ,   8.9 ,\n",
    "      9.4 ,   9.5 ,   8.  ,  10.  ,   8.95,   8.2 ,   8.8 ,   9.2 ,\n",
    "      9.4 ,   9.5 ,   8.1 ,   9.5 ,   8.4 ,   9.3 ,   9.3 ,   9.6 ,\n",
    "      9.2 ,  10.  ,   8.9 ,  10.5 ,   8.9 ,   8.6 ,   8.8 ,   9.15,\n",
    "      9.5 ,   9.1 ,  10.2 ,   8.4 ,  10.  ,  10.2 ,   9.3 ,  10.8 ,\n",
    "      8.3 ,   7.8 ,   9.8 ,   7.9 ,   8.9 ,   7.7 ,   8.9 ,   9.4 ,\n",
    "      9.4 ,   8.5 ,   8.5 ,   9.6 ,  10.2 ,   8.8 ,   9.5 ,   9.3 ,\n",
    "      9.  ,   9.2 ,   8.7 ,   9.  ,   9.1 ,   8.7 ,   9.4 ,   9.8 ,\n",
    "      8.6 ,  10.6 ,   9.  ,   9.5 ,   8.1 ,   9.3 ,   9.6 ,   8.5 ,\n",
    "      8.2 ,   8.  ,   9.5 ,   9.7 ,   9.9 ,   9.1 ,   9.5 ,   9.8 ,\n",
    "      8.4 ,   8.3 ,   9.6 ,   9.4 ,  10.  ,   8.9 ,   9.1 ,   9.8 ,\n",
    "      9.3 ,   9.9 ,   8.9 ,   8.5 ,  10.6 ,   9.3 ,   8.9 ,   8.9 ,\n",
    "      9.7 ,   9.8 ,  10.5 ,   8.4 ,  10.  ,   9.  ,   8.7 ,   8.8 ,\n",
    "      8.4 ,   9.3 ,   9.8 ,   8.9 ,   9.8 ,   9.1 ]\n",
    "year = [\n",
    "    1975, 1975, 1975, 1975, 1975, 1975, 1975, 1975, 1975, 1975, 1975,\n",
    "      1975, 1975, 1975, 1975, 1975, 1975, 1975, 1975, 1975, 1975, 1975,\n",
    "      1975, 1975, 1975, 1975, 1975, 1975, 1975, 1975, 1975, 1975, 1975,\n",
    "      1975, 1975, 1975, 1975, 1975, 1975, 1975, 1975, 1975, 1975, 1975,\n",
    "      1975, 1975, 1975, 1975, 1975, 1975, 1975, 1975, 1975, 1975, 1975,\n",
    "      1975, 1975, 1975, 1975, 1975, 1975, 1975, 1975, 1975, 1975, 1975,\n",
    "      1975, 1975, 1975, 1975, 1975, 1975, 1975, 1975, 1975, 1975, 1975,\n",
    "      1975, 1975, 1975, 1975, 1975, 1975, 1975, 1975, 1975, 1975, 2012,\n",
    "      2012, 2012, 2012, 2012, 2012, 2012, 2012, 2012, 2012, 2012, 2012,\n",
    "      2012, 2012, 2012, 2012, 2012, 2012, 2012, 2012, 2012, 2012, 2012,\n",
    "      2012, 2012, 2012, 2012, 2012, 2012, 2012, 2012, 2012, 2012, 2012,\n",
    "      2012, 2012, 2012, 2012, 2012, 2012, 2012, 2012, 2012, 2012, 2012,\n",
    "      2012, 2012, 2012, 2012, 2012, 2012, 2012, 2012, 2012, 2012, 2012,\n",
    "      2012, 2012, 2012, 2012, 2012, 2012, 2012, 2012, 2012, 2012, 2012,\n",
    "      2012, 2012, 2012, 2012, 2012, 2012, 2012, 2012, 2012, 2012, 2012,\n",
    "      2012, 2012, 2012, 2012, 2012, 2012, 2012, 2012, 2012, 2012, 2012,\n",
    "      2012, 2012, 2012, 2012, 2012, 2012, 2012, 2012, 2012, 2012, 2012,\n",
    "      2012, 2012, 2012, 2012, 2012, 2012, 2012, 2012, 2012, 2012, 2012,\n",
    "      2012, 2012, 2012, 2012, 2012, 2012, 2012, 2012, 2012, 2012, 2012,\n",
    "      2012, 2012, 2012, 2012, 2012]\n",
    "bl_1975 = [\n",
    "    13.9 ,  14.  ,  12.9 ,  13.5 ,  12.9 ,  14.6 ,  13.  ,  14.2 ,\n",
    "      14.  ,  14.2 ,  13.1 ,  15.1 ,  13.5 ,  14.4 ,  14.9 ,  12.9 ,\n",
    "      13.  ,  14.9 ,  14.  ,  13.8 ,  13.  ,  14.75,  13.7 ,  13.8 ,\n",
    "      14.  ,  14.6 ,  15.2 ,  13.5 ,  15.1 ,  15.  ,  12.8 ,  14.9 ,\n",
    "      15.3 ,  13.4 ,  14.2 ,  15.1 ,  15.1 ,  14.  ,  13.6 ,  14.  ,\n",
    "      14.  ,  13.9 ,  14.  ,  14.9 ,  15.6 ,  13.8 ,  14.4 ,  12.8 ,\n",
    "      14.2 ,  13.4 ,  14.  ,  14.8 ,  14.2 ,  13.5 ,  13.4 ,  14.6 ,\n",
    "      13.5 ,  13.7 ,  13.9 ,  13.1 ,  13.4 ,  13.8 ,  13.6 ,  14.  ,\n",
    "      13.5 ,  12.8 ,  14.  ,  13.4 ,  14.9 ,  15.54,  14.63,  14.73,\n",
    "      15.73,  14.83,  15.94,  15.14,  14.23,  14.15,  14.35,  14.95,\n",
    "      13.95,  14.05,  14.55,  14.05,  14.45,  15.05,  13.25]\n",
    "bl_2012 = [\n",
    "    14.3 ,  12.5 ,  13.7 ,  13.8 ,  12.  ,  13.  ,  13.  ,  13.6 ,\n",
    "      12.8 ,  13.6 ,  12.95,  13.1 ,  13.4 ,  13.9 ,  12.3 ,  14.  ,\n",
    "      12.5 ,  12.3 ,  13.9 ,  13.1 ,  12.5 ,  13.9 ,  13.7 ,  12.  ,\n",
    "      14.4 ,  13.5 ,  13.8 ,  13.  ,  14.9 ,  12.5 ,  12.3 ,  12.8 ,\n",
    "      13.4 ,  13.8 ,  13.5 ,  13.5 ,  13.4 ,  12.3 ,  14.35,  13.2 ,\n",
    "      13.8 ,  14.6 ,  14.3 ,  13.8 ,  13.6 ,  12.9 ,  13.  ,  13.5 ,\n",
    "      13.2 ,  13.7 ,  13.1 ,  13.2 ,  12.6 ,  13.  ,  13.9 ,  13.2 ,\n",
    "      15.  ,  13.37,  11.4 ,  13.8 ,  13.  ,  13.  ,  13.1 ,  12.8 ,\n",
    "      13.3 ,  13.5 ,  12.4 ,  13.1 ,  14.  ,  13.5 ,  11.8 ,  13.7 ,\n",
    "      13.2 ,  12.2 ,  13.  ,  13.1 ,  14.7 ,  13.7 ,  13.5 ,  13.3 ,\n",
    "      14.1 ,  12.5 ,  13.7 ,  14.6 ,  14.1 ,  12.9 ,  13.9 ,  13.4 ,\n",
    "      13.  ,  12.7 ,  12.1 ,  14.  ,  14.9 ,  13.9 ,  12.9 ,  14.6 ,\n",
    "      14.  ,  13.  ,  12.7 ,  14.  ,  14.1 ,  14.1 ,  13.  ,  13.5 ,\n",
    "      13.4 ,  13.9 ,  13.1 ,  12.9 ,  14.  ,  14.  ,  14.1 ,  14.7 ,\n",
    "      13.4 ,  13.8 ,  13.4 ,  13.8 ,  12.4 ,  14.1 ,  12.9 ,  13.9 ,\n",
    "      14.3 ,  13.2 ,  14.2 ,  13.  ,  14.6 ,  13.1 ,  15.2 ]\n",
    "bd_parent_scandens = [\n",
    "      8.3318,   8.4035,   8.5317,   8.7202,   8.7089,   8.7541,\n",
    "         8.773 ,   8.8107,   8.7919,   8.8069,   8.6523,   8.6146,\n",
    "         8.6938,   8.7127,   8.7466,   8.7504,   8.7805,   8.7428,\n",
    "         8.7164,   8.8032,   8.8258,   8.856 ,   8.9012,   8.9125,\n",
    "         8.8635,   8.8258,   8.8522,   8.8974,   8.9427,   8.9879,\n",
    "         8.9615,   8.9238,   8.9351,   9.0143,   9.0558,   9.0596,\n",
    "         8.9917,   8.905 ,   8.9314,   8.9465,   8.9879,   8.9804,\n",
    "         9.0219,   9.052 ,   9.0407,   9.0407,   8.9955,   8.9992,\n",
    "         8.9992,   9.0747,   9.0747,   9.5385,   9.4781,   9.4517,\n",
    "         9.3537,   9.2707,   9.1199,   9.1689,   9.1425,   9.135 ,\n",
    "         9.1011,   9.1727,   9.2217,   9.2255,   9.2821,   9.3235,\n",
    "         9.3198,   9.3198,   9.3198,   9.3273,   9.3725,   9.3989,\n",
    "         9.4253,   9.4593,   9.4442,   9.4291,   9.2632,   9.2293,\n",
    "         9.1878,   9.1425,   9.1275,   9.1802,   9.1765,   9.2481,\n",
    "         9.2481,   9.1991,   9.1689,   9.1765,   9.2406,   9.3198,\n",
    "         9.3235,   9.1991,   9.2971,   9.2443,   9.316 ,   9.2934,\n",
    "         9.3914,   9.3989,   9.5121,   9.6176,   9.5535,   9.4668,\n",
    "         9.3725,   9.3348,   9.3763,   9.3839,   9.4216,   9.4065,\n",
    "         9.3348,   9.4442,   9.4367,   9.5083,   9.448 ,   9.4781,\n",
    "         9.595 ,   9.6101,   9.5686,   9.6365,   9.7119,   9.8213,\n",
    "         9.825 ,   9.7609,   9.6516,   9.5988,   9.546 ,   9.6516,\n",
    "         9.7572,   9.8854,  10.0023,   9.3914]\n",
    "bd_offspring_scandens = [\n",
    "      8.419 ,   9.2468,   8.1532,   8.0089,   8.2215,   8.3734,\n",
    "         8.5025,   8.6392,   8.7684,   8.8139,   8.7911,   8.9051,\n",
    "         8.9203,   8.8747,   8.943 ,   9.0038,   8.981 ,   9.0949,\n",
    "         9.2696,   9.1633,   9.1785,   9.1937,   9.2772,   9.0722,\n",
    "         8.9658,   8.9658,   8.5025,   8.4949,   8.4949,   8.5633,\n",
    "         8.6013,   8.6468,   8.1532,   8.3734,   8.662 ,   8.6924,\n",
    "         8.7456,   8.8367,   8.8595,   8.9658,   8.9582,   8.8671,\n",
    "         8.8671,   8.943 ,   9.0646,   9.1405,   9.2089,   9.2848,\n",
    "         9.3759,   9.4899,   9.4519,   8.1228,   8.2595,   8.3127,\n",
    "         8.4949,   8.6013,   8.4646,   8.5329,   8.7532,   8.8823,\n",
    "         9.0342,   8.6392,   8.6772,   8.6316,   8.7532,   8.8291,\n",
    "         8.8975,   8.9734,   9.0494,   9.1253,   9.1253,   9.1253,\n",
    "         9.1785,   9.2848,   9.4595,   9.3608,   9.2089,   9.2544,\n",
    "         9.3684,   9.3684,   9.2316,   9.1709,   9.2316,   9.0342,\n",
    "         8.8899,   8.8291,   8.981 ,   8.8975,  10.4089,  10.1886,\n",
    "         9.7633,   9.7329,   9.6114,   9.5051,   9.5127,   9.3684,\n",
    "         9.6266,   9.5354,  10.0215,  10.0215,   9.6266,   9.6038,\n",
    "         9.4063,   9.2316,   9.338 ,   9.262 ,   9.262 ,   9.4063,\n",
    "         9.4367,   9.0342,   8.943 ,   8.9203,   8.7835,   8.7835,\n",
    "         9.057 ,   8.9354,   8.8975,   8.8139,   8.8671,   9.0873,\n",
    "         9.2848,   9.2392,   9.2924,   9.4063,   9.3152,   9.4899,\n",
    "         9.5962,   9.6873,   9.5203,   9.6646]\n",
    "bd_parent_fortis = [\n",
    "     10.1  ,   9.55 ,   9.4  ,  10.25 ,  10.125,   9.7  ,   9.05 ,\n",
    "         7.4  ,   9.   ,   8.65 ,   9.625,   9.9  ,   9.55 ,   9.05 ,\n",
    "         8.35 ,  10.1  ,  10.1  ,   9.9  ,  10.225,  10.   ,  10.55 ,\n",
    "        10.45 ,   9.2  ,  10.2  ,   8.95 ,  10.05 ,  10.2  ,   9.5  ,\n",
    "         9.925,   9.95 ,  10.05 ,   8.75 ,   9.2  ,  10.15 ,   9.8  ,\n",
    "        10.7  ,  10.5  ,   9.55 ,  10.55 ,  10.475,   8.65 ,  10.7  ,\n",
    "         9.1  ,   9.4  ,  10.3  ,   9.65 ,   9.5  ,   9.7  ,  10.525,\n",
    "         9.95 ,  10.1  ,   9.75 ,  10.05 ,   9.9  ,  10.   ,   9.1  ,\n",
    "         9.45 ,   9.25 ,   9.5  ,  10.   ,  10.525,   9.9  ,  10.4  ,\n",
    "         8.95 ,   9.4  ,  10.95 ,  10.75 ,  10.1  ,   8.05 ,   9.1  ,\n",
    "         9.55 ,   9.05 ,  10.2  ,  10.   ,  10.55 ,  10.75 ,   8.175,\n",
    "         9.7  ,   8.8  ,  10.75 ,   9.3  ,   9.7  ,   9.6  ,   9.75 ,\n",
    "         9.6  ,  10.45 ,  11.   ,  10.85 ,  10.15 ,  10.35 ,  10.4  ,\n",
    "         9.95 ,   9.1  ,  10.1  ,   9.85 ,   9.625,   9.475,   9.   ,\n",
    "         9.25 ,   9.1  ,   9.25 ,   9.2  ,   9.95 ,   8.65 ,   9.8  ,\n",
    "         9.4  ,   9.   ,   8.55 ,   8.75 ,   9.65 ,   8.95 ,   9.15 ,\n",
    "         9.85 ,  10.225,   9.825,  10.   ,   9.425,  10.4  ,   9.875,\n",
    "         8.95 ,   8.9  ,   9.35 ,  10.425,  10.   ,  10.175,   9.875,\n",
    "         9.875,   9.15 ,   9.45 ,   9.025,   9.7  ,   9.7  ,  10.05 ,\n",
    "        10.3  ,   9.6  ,  10.   ,   9.8  ,  10.05 ,   8.75 ,  10.55 ,\n",
    "         9.7  ,  10.   ,   9.85 ,   9.8  ,   9.175,   9.65 ,   9.55 ,\n",
    "         9.9  ,  11.55 ,  11.3  ,  10.4  ,  10.8  ,   9.8  ,  10.45 ,\n",
    "        10.   ,  10.75 ,   9.35 ,  10.75 ,   9.175,   9.65 ,   8.8  ,\n",
    "        10.55 ,  10.675,   9.95 ,   9.55 ,   8.825,   9.7  ,   9.85 ,\n",
    "         9.8  ,   9.55 ,   9.275,  10.325,   9.15 ,   9.35 ,   9.15 ,\n",
    "         9.65 ,  10.575,   9.975,   9.55 ,   9.2  ,   9.925,   9.2  ,\n",
    "         9.3  ,   8.775,   9.325,   9.175,   9.325,   8.975,   9.7  ,\n",
    "         9.5  ,  10.225,  10.025,   8.2  ,   8.2  ,   9.55 ,   9.05 ,\n",
    "         9.6  ,   9.6  ,  10.15 ,   9.875,  10.485,  11.485,  10.985,\n",
    "         9.7  ,   9.65 ,   9.35 ,  10.05 ,  10.1  ,   9.9  ,   8.95 ,\n",
    "         9.3  ,   9.95 ,   9.45 ,   9.5  ,   8.45 ,   8.8  ,   8.525,\n",
    "         9.375,  10.2  ,   7.625,   8.375,   9.25 ,   9.4  ,  10.55 ,\n",
    "         8.9  ,   8.8  ,   9.   ,   8.575,   8.575,   9.6  ,   9.375,\n",
    "         9.6  ,   9.95 ,   9.6  ,  10.2  ,   9.85 ,   9.625,   9.025,\n",
    "        10.375,  10.25 ,   9.3  ,   9.5  ,   9.55 ,   8.55 ,   9.05 ,\n",
    "         9.9  ,   9.8  ,   9.75 ,  10.25 ,   9.1  ,   9.65 ,  10.3  ,\n",
    "         8.9  ,   9.95 ,   9.5  ,   9.775,   9.425,   7.75 ,   7.55 ,\n",
    "         9.1  ,   9.6  ,   9.575,   8.95 ,   9.65 ,   9.65 ,   9.65 ,\n",
    "         9.525,   9.85 ,   9.05 ,   9.3  ,   8.9  ,   9.45 ,  10.   ,\n",
    "         9.85 ,   9.25 ,  10.1  ,   9.125,   9.65 ,   9.1  ,   8.05 ,\n",
    "         7.4  ,   8.85 ,   9.075,   9.   ,   9.7  ,   8.7  ,   9.45 ,\n",
    "         9.7  ,   8.35 ,   8.85 ,   9.7  ,   9.45 ,  10.3  ,  10.   ,\n",
    "        10.45 ,   9.45 ,   8.5  ,   8.3  ,  10.   ,   9.225,   9.75 ,\n",
    "         9.15 ,   9.55 ,   9.   ,   9.275,   9.35 ,   8.95 ,   9.875,\n",
    "         8.45 ,   8.6  ,   9.7  ,   8.55 ,   9.05 ,   9.6  ,   8.65 ,\n",
    "         9.2  ,   8.95 ,   9.6  ,   9.15 ,   9.4  ,   8.95 ,   9.95 ,\n",
    "        10.55 ,   9.7  ,   8.85 ,   8.8  ,  10.   ,   9.05 ,   8.2  ,\n",
    "         8.1  ,   7.25 ,   8.3  ,   9.15 ,   8.6  ,   9.5  ,   8.05 ,\n",
    "         9.425,   9.3  ,   9.8  ,   9.3  ,   9.85 ,   9.5  ,   8.65 ,\n",
    "         9.825,   9.   ,  10.45 ,   9.1  ,   9.55 ,   9.05 ,  10.   ,\n",
    "         9.35 ,   8.375,   8.3  ,   8.8  ,  10.1  ,   9.5  ,   9.75 ,\n",
    "        10.1  ,   9.575,   9.425,   9.65 ,   8.725,   9.025,   8.5  ,\n",
    "         8.95 ,   9.3  ,   8.85 ,   8.95 ,   9.8  ,   9.5  ,   8.65 ,\n",
    "         9.1  ,   9.4  ,   8.475,   9.35 ,   7.95 ,   9.35 ,   8.575,\n",
    "         9.05 ,   8.175,   9.85 ,   7.85 ,   9.85 ,  10.1  ,   9.35 ,\n",
    "         8.85 ,   8.75 ,   9.625,   9.25 ,   9.55 ,  10.325,   8.55 ,\n",
    "         9.675,   9.15 ,   9.   ,   9.65 ,   8.6  ,   8.8  ,   9.   ,\n",
    "         9.95 ,   8.4  ,   9.35 ,  10.3  ,   9.05 ,   9.975,   9.975,\n",
    "         8.65 ,   8.725,   8.2  ,   7.85 ,   8.775,   8.5  ,   9.4  ]\n",
    "bd_offspring_fortis = [\n",
    "     10.7 ,   9.78,   9.48,   9.6 ,  10.27,   9.5 ,   9.  ,   7.46,\n",
    "         7.65,   8.63,   9.81,   9.4 ,   9.48,   8.75,   7.6 ,  10.  ,\n",
    "        10.09,   9.74,   9.64,   8.49,  10.15,  10.28,   9.2 ,  10.01,\n",
    "         9.03,   9.94,  10.5 ,   9.7 ,  10.02,  10.04,   9.43,   8.1 ,\n",
    "         9.5 ,   9.9 ,   9.48,  10.18,  10.16,   9.08,  10.39,   9.9 ,\n",
    "         8.4 ,  10.6 ,   8.75,   9.46,   9.6 ,   9.6 ,   9.95,  10.05,\n",
    "        10.16,  10.1 ,   9.83,   9.46,   9.7 ,   9.82,  10.34,   8.02,\n",
    "         9.65,   9.87,   9.  ,  11.14,   9.25,   8.14,  10.23,   8.7 ,\n",
    "         9.8 ,  10.54,  11.19,   9.85,   8.1 ,   9.3 ,   9.34,   9.19,\n",
    "         9.52,   9.36,   8.8 ,   8.6 ,   8.  ,   8.5 ,   8.3 ,  10.38,\n",
    "         8.54,   8.94,  10.  ,   9.76,   9.45,   9.89,  10.9 ,   9.91,\n",
    "         9.39,   9.86,   9.74,   9.9 ,   9.09,   9.69,  10.24,   8.9 ,\n",
    "         9.67,   8.93,   9.3 ,   8.67,   9.15,   9.23,   9.59,   9.03,\n",
    "         9.58,   8.97,   8.57,   8.47,   8.71,   9.21,   9.13,   8.5 ,\n",
    "         9.58,   9.21,   9.6 ,   9.32,   8.7 ,  10.46,   9.29,   9.24,\n",
    "         9.45,   9.35,  10.19,   9.91,   9.18,   9.89,   9.6 ,  10.3 ,\n",
    "         9.45,   8.79,   9.2 ,   8.8 ,   9.69,  10.61,   9.6 ,   9.9 ,\n",
    "         9.26,  10.2 ,   8.79,   9.28,   8.83,   9.76,  10.2 ,   9.43,\n",
    "         9.4 ,   9.9 ,   9.5 ,   8.95,   9.98,   9.72,   9.86,  11.1 ,\n",
    "         9.14,  10.49,   9.75,  10.35,   9.73,   9.83,   8.69,   9.58,\n",
    "         8.42,   9.25,  10.12,   9.31,   9.99,   8.59,   8.74,   8.79,\n",
    "         9.6 ,   9.52,   8.93,  10.23,   9.35,   9.35,   9.09,   9.04,\n",
    "         9.75,  10.5 ,   9.09,   9.05,   9.54,   9.3 ,   9.06,   8.7 ,\n",
    "         9.32,   8.4 ,   8.67,   8.6 ,   9.53,   9.77,   9.65,   9.43,\n",
    "         8.35,   8.26,   9.5 ,   8.6 ,   9.57,   9.14,  10.79,   8.91,\n",
    "         9.93,  10.7 ,   9.3 ,   9.93,   9.51,   9.44,  10.05,  10.13,\n",
    "         9.24,   8.21,   8.9 ,   9.34,   8.77,   9.4 ,   8.82,   8.83,\n",
    "         8.6 ,   9.5 ,  10.2 ,   8.09,   9.07,   9.29,   9.1 ,  10.19,\n",
    "         9.25,   8.98,   9.02,   8.6 ,   8.25,   8.7 ,   9.9 ,   9.65,\n",
    "         9.45,   9.38,  10.4 ,   9.96,   9.46,   8.26,  10.05,   8.92,\n",
    "         9.5 ,   9.43,   8.97,   8.44,   8.92,  10.3 ,   8.4 ,   9.37,\n",
    "         9.91,  10.  ,   9.21,   9.95,   8.84,   9.82,   9.5 ,  10.29,\n",
    "         8.4 ,   8.31,   9.29,   8.86,   9.4 ,   9.62,   8.62,   8.3 ,\n",
    "         9.8 ,   8.48,   9.61,   9.5 ,   9.37,   8.74,   9.31,   9.5 ,\n",
    "         9.49,   9.74,   9.2 ,   9.24,   9.7 ,   9.64,   9.2 ,   7.5 ,\n",
    "         7.5 ,   8.7 ,   8.31,   9.  ,   9.74,   9.31,  10.5 ,   9.3 ,\n",
    "         8.12,   9.34,   9.72,   9.  ,   9.65,   9.9 ,  10.  ,  10.1 ,\n",
    "         8.  ,   9.07,   9.75,   9.33,   8.11,   9.36,   9.74,   9.9 ,\n",
    "         9.23,   9.7 ,   8.2 ,   9.35,   9.49,   9.34,   8.87,   9.03,\n",
    "         9.07,   9.43,   8.2 ,   9.19,   9.  ,   9.2 ,   9.06,   9.81,\n",
    "         8.89,   9.4 ,  10.45,   9.64,   9.03,   8.71,   9.91,   8.33,\n",
    "         8.2 ,   7.83,   7.14,   8.91,   9.18,   8.8 ,   9.9 ,   7.73,\n",
    "         9.25,   8.7 ,   9.5 ,   9.3 ,   9.05,  10.18,   8.85,   9.24,\n",
    "         9.15,   9.98,   8.77,   9.8 ,   8.65,  10.  ,   8.81,   8.01,\n",
    "         7.9 ,   9.41,  10.18,   9.55,   9.08,   8.4 ,   9.75,   8.9 ,\n",
    "         9.07,   9.35,   8.9 ,   8.19,   8.65,   9.19,   8.9 ,   9.28,\n",
    "        10.58,   9.  ,   9.4 ,   8.91,   9.93,  10.  ,   9.37,   7.4 ,\n",
    "         9.  ,   8.8 ,   9.18,   8.3 ,  10.08,   7.9 ,   9.96,  10.4 ,\n",
    "         9.65,   8.8 ,   8.65,   9.7 ,   9.23,   9.43,   9.93,   8.47,\n",
    "         9.55,   9.28,   8.85,   8.9 ,   8.75,   8.63,   9.  ,   9.43,\n",
    "         8.28,   9.23,  10.4 ,   9.  ,   9.8 ,   9.77,   8.97,   8.37,\n",
    "         7.7 ,   7.9 ,   9.5 ,   8.2 ,   8.8 ]"
   ]
  },
  {
   "cell_type": "code",
   "execution_count": null,
   "metadata": {},
   "outputs": [],
   "source": []
  }
 ],
 "metadata": {
  "kernelspec": {
   "display_name": "Python 3",
   "language": "python",
   "name": "python3"
  },
  "language_info": {
   "codemirror_mode": {
    "name": "ipython",
    "version": 3
   },
   "file_extension": ".py",
   "mimetype": "text/x-python",
   "name": "python",
   "nbconvert_exporter": "python",
   "pygments_lexer": "ipython3",
   "version": "3.6.5"
  }
 },
 "nbformat": 4,
 "nbformat_minor": 2
}
