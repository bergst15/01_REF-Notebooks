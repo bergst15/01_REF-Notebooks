{
 "cells": [
  {
   "cell_type": "markdown",
   "metadata": {},
   "source": [
    "# Statistics Reference Notebook"
   ]
  },
  {
   "cell_type": "markdown",
   "metadata": {},
   "source": [
    "## Definitions\n",
    "\n",
    "- Discrete random variables:\n",
    "    - random variables that can only take on discrete values (coin toss)\n",
    "- Continuous random variables:\n",
    "    - random variables that can take on an infinite number of values (masses of rocks)\n",
    "- Probability distributions:\n",
    "    - a mathematical description of outcomes\n",
    "- Cumulative density function:\n",
    "    - the probability of observing any specific value, $x$, *or* any value less than $x$, hence 'cumulative'\n",
    "- Probability density function:\n",
    "    - for continuous random variables, probability of observing any specific value $x$\n",
    "    - note that this is the derivative of the CDF\n",
    "    - EX: exponential, gamma, pareto, normal, etc.\n",
    "- Probability mass function: \n",
    "    - the set of probabilities of discrete outcomes\n",
    "    - similar to PDF, but for discrete random variables, \n",
    "    - EX: binomial, hypergeometric, Poisson, geometric, etc."
   ]
  },
  {
   "cell_type": "markdown",
   "metadata": {},
   "source": [
    "## Summary Statistics\n",
    "\n",
    "When using `df.describe()` a statistical summary of the DataFrame is returned. \n",
    "<br>\n",
    "\n",
    "- Count:\n",
    "    - When used against a Series, returns a scalar integer of the number of non-null values\n",
    "    - When used against a DataFrame, returns a list of scalar integers as for Series \n",
    "- Mean:\n",
    "    - Computes the average, susceptible to influence from outliers\n",
    "- Median:\n",
    "    - The middle value of a dataset, immune to influence from outliers\n",
    "- Standard Deviation:\n",
    "    - Computes the standard deviation, a measure of the 'spread' of the data \n",
    "- Minimum:\n",
    "    - Computes the minimum. When used on a string, returns the first alphabetical \n",
    "- Maximum:\n",
    "    - Computes the maximum. When used on a string, returns the last alphabetical "
   ]
  },
  {
   "cell_type": "markdown",
   "metadata": {},
   "source": [
    "## Quantiles, Quartiles, Percentiles\n",
    "\n",
    "Percentiles and quartiles are examples of quantiles.\n",
    "\n",
    "A note on quantiles: the qth quantile of a dataset splits the data into two sets. One with the fraction q of smaller observations and one with larger observations.\n",
    "\n",
    "- 25%, first quartile:\n",
    "    - Computes the first quartile\n",
    "- 50%, median / second quartile:\n",
    "    - Computes the median\n",
    "- 75%, third quartile:\n",
    "    - Computes the third quartile\n",
    "    \n",
    "|   quartile   |   quantile    |   percentile   |\n",
    "|--------------|---------------|----------------|\n",
    "| 0 quartile   |  0   quantile |  0 percentile  |\n",
    "| 1 quartile   | 0.25 quantile | 25 percentile  |\n",
    "| 2 quartile   | 0.50 quantile | 50 percentile  |\n",
    "| 3 quartile   | 0.75 quantile | 75 percentile  |\n",
    "| 4 quartile   |  1 quantile   | 100 percentile |"
   ]
  },
  {
   "cell_type": "markdown",
   "metadata": {},
   "source": [
    "## Variance and Standard Deviation\n",
    "\n",
    "The variance and standard deviation quantify the 'spread' of the data. These are easily computable with numpy functions `np.var()` and `np.std()`."
   ]
  },
  {
   "cell_type": "code",
   "execution_count": 33,
   "metadata": {},
   "outputs": [
    {
     "name": "stdout",
     "output_type": "stream",
     "text": [
      "variance: \t\t0.21640000000000004\n",
      "standard deviation: \t0.4651881339845203\n"
     ]
    }
   ],
   "source": [
    "# works\n",
    "variance = np.var(petal_length)\n",
    "print(f'variance: \\t\\t{variance}')\n",
    "std = np.std(petal_length)\n",
    "print(f'standard deviation: \\t{std}')"
   ]
  },
  {
   "cell_type": "markdown",
   "metadata": {},
   "source": [
    "## Covariance and Pearson Coefficient\n",
    "\n",
    "Covariance is a measure of how two quantities vary *together*. If x is high when y is high, then x and y are positively correlated. If x is high when y is low (or vice-versa), then x and y are negatively correlated.\n",
    "\n",
    "<p></p><img src=\"images/covar.png\" width=\"350\"><p></p>\n",
    "\n",
    "The Pearson correlation coefficient is a dimensionless version of the covariance obtained by dividing the covariance by the standard deviation of both x and y.\n",
    "\n",
    "$$ \\rho = \\frac{cov(x,y)}{\\sigma_x\\sigma_y } = \\frac{\\textrm{variability due to codependence}}{\\textrm{independent variability}} $$\n",
    "\n",
    "Here is an example showing different pearson coefficients:\n",
    "\n",
    "<p></p><img src=\"images/pearco.png\"><p></p>"
   ]
  },
  {
   "cell_type": "markdown",
   "metadata": {},
   "source": [
    "Covariance can be computed using the numpy function `np.cov()`. This function returns a covariance matrix identifying the self variance (`[0,0]` or `[1,1]`) and covariance (`[0,1]` or `[1,0]`). "
   ]
  },
  {
   "cell_type": "code",
   "execution_count": 29,
   "metadata": {},
   "outputs": [
    {
     "name": "stdout",
     "output_type": "stream",
     "text": [
      "covariance matrix: \n",
      "[[0.22081633 0.07310204]\n",
      " [0.07310204 0.03910612]]\n",
      "petal covariance: \n",
      "  0.07310204081632653\n"
     ]
    }
   ],
   "source": [
    "# works\n",
    "cov_mat = np.cov(petal_length, petal_width)\n",
    "print(f'covariance matrix: \\n{cov_mat}')\n",
    "petal_cov = covariance_matrix[0,1]\n",
    "print(f'petal covariance: \\n  {petal_cov}')"
   ]
  },
  {
   "cell_type": "markdown",
   "metadata": {},
   "source": [
    "The Pearson coefficient is often easier to interpret than the covariance and can be computed using the numpy function `np.corrcoef()`. This function returns a matrix similar to the covariance matrix. Here, the values at `[0,0]` and `[1,1]` must equal `1` as this is the variance with itself. The value at `[0,1]` is what we are interested in."
   ]
  },
  {
   "cell_type": "code",
   "execution_count": 30,
   "metadata": {},
   "outputs": [
    {
     "name": "stdout",
     "output_type": "stream",
     "text": [
      "Pearson coefficient: 0.7866680885228169\n"
     ]
    }
   ],
   "source": [
    "# works\n",
    "corr_mat = np.corrcoef(petal_length,petal_width)\n",
    "r = corr_mat[0,1]\n",
    "print(f'Pearson coefficient: {r}')"
   ]
  },
  {
   "cell_type": "markdown",
   "metadata": {},
   "source": [
    "## Z-Scores\n",
    "\n",
    "Using the zscore function, you can apply a `.transform()` method after grouping to apply a function to groups of data independently. The z-score is also useful to find outliers: a z-score value of +/- 3 is generally considered to be an outlier."
   ]
  },
  {
   "cell_type": "code",
   "execution_count": null,
   "metadata": {},
   "outputs": [],
   "source": [
    "# no working data\n",
    "from scipy.stats import zscore\n",
    "df.groupby('region')['life','fertility'].transform(zscore)"
   ]
  },
  {
   "cell_type": "markdown",
   "metadata": {},
   "source": [
    "## Histograms\n",
    "\n",
    "Histograms are useful for visualizing the distribution of data for a given measurement."
   ]
  },
  {
   "cell_type": "code",
   "execution_count": 61,
   "metadata": {},
   "outputs": [
    {
     "data": {
      "image/png": "[encoded data removed]",
      "text/plain": [
       "<Figure size 432x288 with 1 Axes>"
      ]
     },
     "metadata": {},
     "output_type": "display_data"
    }
   ],
   "source": [
    "np.random.seed(45)\n",
    "samples = np.random.binomial(100,0.5,1000000)\n",
    "\n",
    "_ = plt.hist(samples,bins=50)\n",
    "plt.xlabel('sample value')\n",
    "plt.ylabel('count')\n",
    "plt.show()"
   ]
  },
  {
   "cell_type": "markdown",
   "metadata": {},
   "source": [
    "### Bins\n",
    "\n",
    "Bins can make a significant difference on the representation of the data, this is referred to as 'binning bias'. The default number of bins in `matplotlib.pyplot` is 10.\n",
    "\n",
    "The 'square root rule' is a commonly used rule of thumb for choosing the number of bins: choose the number of bins to be the square root of the number of samples."
   ]
  },
  {
   "cell_type": "code",
   "execution_count": 69,
   "metadata": {},
   "outputs": [
    {
     "data": {
      "image/png": "[encoded data removed]",
      "text/plain": [
       "<Figure size 432x288 with 1 Axes>"
      ]
     },
     "metadata": {},
     "output_type": "display_data"
    }
   ],
   "source": [
    "np.random.seed(30)\n",
    "samples = np.random.binomial(100,0.5,1000000)\n",
    "\n",
    "_ = plt.hist(samples,bins=15,alpha=0.5)\n",
    "_ = plt.hist(samples,bins=30,alpha=0.5)\n",
    "_ = plt.hist(samples,bins=100,alpha=0.5)\n",
    "plt.xlabel('sample value')\n",
    "plt.ylabel('count')\n",
    "plt.legend(('15 bins','30 bins','100 bins'))\n",
    "plt.show()"
   ]
  },
  {
   "cell_type": "markdown",
   "metadata": {},
   "source": [
    "## Bee swarm plots\n",
    "\n",
    "In order to avoid binning bias, a bee swarm plot can be used to show the data 'as is'. Note that bee swarm plots can lose their value when the number of data points grows too large. In that case you can use a box plot or an ECDF."
   ]
  },
  {
   "cell_type": "code",
   "execution_count": null,
   "metadata": {},
   "outputs": [],
   "source": [
    "# no working data\n",
    "_ = sns.swarmplot(x='species',y='petal length (cm)',data=df)\n",
    "_ = plt.xlabel('species')\n",
    "_ = plt.ylabel('petal length (cm)')\n",
    "plt.show()"
   ]
  },
  {
   "cell_type": "markdown",
   "metadata": {},
   "source": [
    "<p></p><img src=\"images/bee_swarm.png\"><p></p>"
   ]
  },
  {
   "cell_type": "markdown",
   "metadata": {},
   "source": [
    "## Empirical cumulative distribution function (ECDF)\n",
    "\n",
    "The x-axis is the sorted data, the y-axis is a set of evenly spaced data points from 0 to 1. You can also plot multiple ECDFs to compare to each other by calling `plt.plot()` multiple times. A function to calculate the ECDF is given below, followed by an example."
   ]
  },
  {
   "cell_type": "code",
   "execution_count": 70,
   "metadata": {},
   "outputs": [],
   "source": [
    "def ecdf(data):\n",
    "    n = len(data)\n",
    "    x = np.sort(data)\n",
    "    y = np.arange(1,n+1)/n\n",
    "    return x,y"
   ]
  },
  {
   "cell_type": "code",
   "execution_count": null,
   "metadata": {},
   "outputs": [],
   "source": [
    "# no working data\n",
    "x = np.sort(df_swing['dem_share'])\n",
    "y = np.arrange(1, len(x)+1)/len(x)\n",
    "\n",
    "_ = plt.plot(x, y, marker='.', linestyle='none')\n",
    "_ = plt.xlabel('percent of vote for Obama')\n",
    "_ = plt.ylabel('ECDF')\n",
    "plt.margins(0.02) # padding\n",
    "plt.show()"
   ]
  },
  {
   "cell_type": "markdown",
   "metadata": {},
   "source": [
    "<p></p><img src=\"images/ecdf1.png\"><p></p>\n",
    "\n",
    "This plot can be read as: <br>\n",
    ">20% of counties had 36% or less vote for Obama"
   ]
  },
  {
   "cell_type": "markdown",
   "metadata": {},
   "source": [
    "## Box Plots\n",
    "\n",
    "Box plots are useful for summarizing a large amount of data by it's percentiles. Here is a summary of it's features:\n",
    "- the center of the box represents the median (50th percentile)\n",
    "- the upper end of the box represents the 75th percentile\n",
    "- the lower end of the box represents the 25th percentile\n",
    "- the total height of the box contains the middle 50% of the data and is called the interquartile range (IQR)\n",
    "- the whiskers extend 1.5 * IQR or to the extent of the data, whichever is less extreme\n",
    "- all data beyond the whiskers are plotted as points and referred to as outliers\n",
    "- data points > 2.0 * IQR are generally accepted as outliers\n",
    "\n",
    "<p></p><img src=\"images/box_plot.png\"><p></p>\n"
   ]
  },
  {
   "cell_type": "code",
   "execution_count": null,
   "metadata": {},
   "outputs": [],
   "source": [
    "# no working data\n",
    "_ = sns.boxplot(x='species',y='petal length (cm)',data=df)\n",
    "plt.xlabel('species')\n",
    "plt.ylabel('petal length (cm)')\n",
    "plt.show()"
   ]
  },
  {
   "cell_type": "markdown",
   "metadata": {},
   "source": [
    "## Data Simulation\n",
    "\n",
    "Hacker statistics uses simulated repeated measurements to compute probabilities as opposed to classical pen and paper statistics. This is similar to a numerical solution versus an analytical one.\n",
    "\n",
    "As an example, a binomial distribution with a probability of 50% was used to simulate 100 coin tosses 10,000 times returning an array with the number of successes for each iteration.\n",
    "\n",
    "**Remember**, *if you can simulate a story, you can get it's distribution.*"
   ]
  },
  {
   "cell_type": "code",
   "execution_count": 12,
   "metadata": {},
   "outputs": [
    {
     "data": {
      "image/png": "[encoded data removed]",
      "text/plain": [
       "<Figure size 432x288 with 1 Axes>"
      ]
     },
     "metadata": {},
     "output_type": "display_data"
    }
   ],
   "source": [
    "data = np.random.binomial(n=100,p=0.5,size=10000)\n",
    "x = np.sort(data)\n",
    "y = np.arange(1,len(data)+1)/len(data)\n",
    "\n",
    "_ = plt.plot(x,y,marker='.',linestyle='none')\n",
    "plt.show()"
   ]
  },
  {
   "cell_type": "markdown",
   "metadata": {},
   "source": [
    "### Plotting the binomial PMF\n",
    "\n",
    "Here we will use a histogram for simplicity."
   ]
  },
  {
   "cell_type": "code",
   "execution_count": 26,
   "metadata": {},
   "outputs": [
    {
     "data": {
      "image/png": "[encoded data removed]",
      "text/plain": [
       "<Figure size 432x288 with 1 Axes>"
      ]
     },
     "metadata": {},
     "output_type": "display_data"
    }
   ],
   "source": [
    "data = np.random.binomial(n=100,p=0.05,size=10000)\n",
    "# this bin setup allows centering on integers\n",
    "bins = np.arange(0, max(data)+1.5) - 0.5\n",
    "\n",
    "_ = plt.hist(data,bins=bins,density=True)\n",
    "_ = plt.xlabel('number of successes')\n",
    "_ = plt.ylabel('probability')\n",
    "plt.show()"
   ]
  },
  {
   "cell_type": "markdown",
   "metadata": {},
   "source": [
    "### Plotting the Poisson CDF \n",
    "\n",
    "The timing of one event is completely independent from the timing of any other event. Examples would be meteor strikes and hits on a website - these can be described as an average per day, but predicting the time that any one will occur is independent of the last one.\n",
    "\n",
    "A more detailed explanation: <br>\n",
    "The Poisson distribution is a limit of the Binomial distribution for rare events. Say we do a Bernoulli trial every minute for an hour, each with a success probability of 0.1. We would do 60 trials, and the number of successes is Binomially distributed, so we would expect to get about 6 successes. This is similar to Poisson, where we get on average 6 hits on a website per hour. So, the Poisson distribution with arrival rate equal to $np$ approximates a Binomial distribution for $n$ Bernoulli trials with probability $p$ of success (with $n$ large and $p$ small)."
   ]
  },
  {
   "cell_type": "code",
   "execution_count": 30,
   "metadata": {},
   "outputs": [
    {
     "data": {
      "image/png": "[encoded data removed]",
      "text/plain": [
       "<Figure size 432x288 with 1 Axes>"
      ]
     },
     "metadata": {},
     "output_type": "display_data"
    }
   ],
   "source": [
    "data = np.random.poisson(10,10000)\n",
    "\n",
    "_ = plt.hist(data,bins=int(np.sqrt(len(data))),cumulative=True,density=True)\n",
    "_ = plt.xlabel('number of succeses')\n",
    "_ = plt.ylabel('probability')\n",
    "plt.show()"
   ]
  },
  {
   "cell_type": "markdown",
   "metadata": {},
   "source": [
    "### Plotting the normal PDF\n",
    "\n",
    "The normal distribution is also referred to as the Gaussian distribution. Be cautious, even though a distrubtion may appear normally distrubted at first, in many cases it is not. When in doubt, check the normal CDF."
   ]
  },
  {
   "cell_type": "code",
   "execution_count": 6,
   "metadata": {},
   "outputs": [
    {
     "data": {
      "image/png": "[encoded data removed]",
      "text/plain": [
       "<Figure size 432x288 with 1 Axes>"
      ]
     },
     "metadata": {},
     "output_type": "display_data"
    }
   ],
   "source": [
    "samples_std1 = np.random.normal(20,1,size=100000)\n",
    "samples_std3 = np.random.normal(20,3,size=100000)\n",
    "samples_std10 = np.random.normal(20,10,size=100000)\n",
    "\n",
    "_ = plt.hist(samples_std1,density=True,histtype='step',bins=100)\n",
    "_ = plt.hist(samples_std3,density=True,histtype='step',bins=100)\n",
    "_ = plt.hist(samples_std10,density=True,histtype='step',bins=100)\n",
    "_ = plt.legend(('std = 1', 'std = 3', 'std = 10'))\n",
    "plt.ylim(-0.01, 0.42)\n",
    "plt.show()"
   ]
  },
  {
   "cell_type": "markdown",
   "metadata": {},
   "source": [
    "### Plotting the normal CDF\n"
   ]
  },
  {
   "cell_type": "code",
   "execution_count": 97,
   "metadata": {},
   "outputs": [
    {
     "data": {
      "image/png": "[encoded data removed]",
      "text/plain": [
       "<Figure size 432x288 with 1 Axes>"
      ]
     },
     "metadata": {},
     "output_type": "display_data"
    }
   ],
   "source": [
    "samples_std1 = np.random.normal(20,1,size=100000)\n",
    "samples_std3 = np.random.normal(20,3,size=100000)\n",
    "samples_std10 = np.random.normal(20,10,size=100000)\n",
    "\n",
    "x_std1,y_std1 = ecdf(samples_std1)\n",
    "x_std3,y_std3 = ecdf(samples_std3)\n",
    "x_std10,y_std10 = ecdf(samples_std10)\n",
    "bins = int(np.sqrt(len(x_std1)))\n",
    "\n",
    "_ = plt.plot(x_std1,y_std1,marker='.',linestyle='none')\n",
    "_ = plt.plot(x_std3,y_std3,marker='.',linestyle='none')\n",
    "_ = plt.plot(x_std10,y_std10,marker='.',linestyle='none')\n",
    "_ = plt.legend(('std = 1', 'std = 3', 'std = 10'), loc='upper left')\n",
    "plt.show()"
   ]
  },
  {
   "cell_type": "markdown",
   "metadata": {},
   "source": [
    "To compare the CDF of a given distribution to that of a normally distributed CDF with the same mean and standard deviation, use the following technique."
   ]
  },
  {
   "cell_type": "code",
   "execution_count": 36,
   "metadata": {},
   "outputs": [
    {
     "data": {
      "image/png": "[encoded data removed]",
      "text/plain": [
       "<Figure size 432x288 with 1 Axes>"
      ]
     },
     "metadata": {},
     "output_type": "display_data"
    }
   ],
   "source": [
    "mu = np.mean(belmont)\n",
    "sigma = np.std(belmont)\n",
    "samples = np.random.normal(mu,sigma,size=10000)\n",
    "\n",
    "x_theor = np.sort(samples)\n",
    "y_theor = np.arange(1,len(samples)+1)/len(samples)\n",
    "x = np.sort(belmont)\n",
    "y = np.arange(1,len(belmont)+1)/len(belmont)\n",
    "\n",
    "_ = plt.plot(x_theor, y_theor)\n",
    "_ = plt.plot(x, y, marker='.', linestyle='none')\n",
    "_ = plt.xlabel('Belmont winning time (sec.)')\n",
    "_ = plt.ylabel('CDF')\n",
    "_ = plt.legend(('normal CDF','belmont'), loc='upper left')\n",
    "plt.show()"
   ]
  },
  {
   "cell_type": "markdown",
   "metadata": {},
   "source": [
    "As a fun extension, let's calculate the chances of a horse matching or beating the legendary Secretariat's record. In order to do this, we need to assume that the `belmont` data is normally distributed."
   ]
  },
  {
   "cell_type": "code",
   "execution_count": 37,
   "metadata": {},
   "outputs": [
    {
     "name": "stdout",
     "output_type": "stream",
     "text": [
      "Probability of beating Secretariat: 0.000638\n"
     ]
    }
   ],
   "source": [
    "mu = np.mean(belmont)\n",
    "sigma = np.std(belmont)\n",
    "samples = np.random.normal(mu,sigma,size=1000000)\n",
    "\n",
    "prob = sum(samples <= 144)/len(samples)\n",
    "print(f'Probability of beating Secretariat: {prob}')"
   ]
  },
  {
   "cell_type": "markdown",
   "metadata": {},
   "source": [
    "### Plotting the exponential distribution"
   ]
  },
  {
   "cell_type": "code",
   "execution_count": 45,
   "metadata": {},
   "outputs": [
    {
     "data": {
      "image/png": "[encoded data removed]",
      "text/plain": [
       "<Figure size 432x288 with 1 Axes>"
      ]
     },
     "metadata": {},
     "output_type": "display_data"
    }
   ],
   "source": [
    "samples = np.random.exponential(2,size=100000)\n",
    "\n",
    "_ = plt.hist(\n",
    "    samples,\n",
    "    bins=int(np.sqrt(len(samples))),\n",
    "    density=True,\n",
    "    histtype='step')\n",
    "plt.xlabel('waiting time')\n",
    "plt.ylabel('proability')\n",
    "plt.show()"
   ]
  },
  {
   "cell_type": "code",
   "execution_count": null,
   "metadata": {},
   "outputs": [],
   "source": []
  },
  {
   "cell_type": "code",
   "execution_count": null,
   "metadata": {},
   "outputs": [],
   "source": []
  },
  {
   "cell_type": "markdown",
   "metadata": {},
   "source": [
    "## END: Supporting data"
   ]
  },
  {
   "cell_type": "code",
   "execution_count": 73,
   "metadata": {},
   "outputs": [],
   "source": [
    "# RUN ME\n",
    "import numpy as np\n",
    "import matplotlib.pyplot as plt\n",
    "import seaborn as sns\n",
    "sns.set()\n",
    "\n",
    "def ecdf(data):\n",
    "    n = len(data)\n",
    "    x = np.sort(data)\n",
    "    y = np.arange(1,n+1)/n\n",
    "    return x,y\n",
    "\n",
    "petal_length = [\n",
    "    4.7, 4.5, 4.9, 4.0, 4.6, 4.5, 4.7, 3.3, 4.6, 3.9, 3.5, 4.2, 4.0,\n",
    "    4.7, 3.6, 4.4, 4.5, 4.1, 4.5, 3.9, 4.8, 4.0, 4.9, 4.7, 4.3, 4.4,\n",
    "    4.8, 5.0, 4.5, 3.5, 3.8, 3.7, 3.9, 5.1, 4.5, 4.5, 4.7, 4.4, 4.1,\n",
    "    4.0, 4.4, 4.6, 4.0, 3.3, 4.2, 4.2, 4.2, 4.3, 3.0, 4.1]\n",
    "petal_width = [\n",
    "    1.4, 1.5, 1.5, 1.3, 1.5, 1.3, 1.6, 1.0, 1.3, 1.4, 1.0, 1.5, 1.0,\n",
    "    1.4, 1.3, 1.4, 1.5, 1.0, 1.5, 1.1, 1.8, 1.3, 1.5, 1.2, 1.3, 1.4,\n",
    "    1.4, 1.7, 1.5, 1.0, 1.1, 1.0, 1.2, 1.6, 1.5, 1.6, 1.5, 1.3, 1.3,\n",
    "    1.3, 1.2, 1.4, 1.2, 1.0, 1.3, 1.2, 1.3, 1.3, 1.1, 1.3]\n",
    "belmont = [\n",
    "    148.5, 146.6, 148.5, 150.7, 150.4, 150.8, 151.5, 147.5,\n",
    "    149.6, 148.4, 147.8, 148.7, 147.5, 148.2, 149.7, 146.5,\n",
    "    151.1, 147.8, 149.1, 148.8, 148.9, 152.2, 146.8, 149.9,\n",
    "    146.1, 148.1, 147.2, 146.0, 146.4, 148.2, 149.8, 147.0,\n",
    "    147.2, 147.8, 148.2, 149.0, 149.8, 148.6, 146.8, 149.6,\n",
    "    149.0, 148.2, 149.2, 148.0, 150.4, 148.8, 147.2, 148.8,\n",
    "    149.6, 148.4, 148.4, 150.2, 148.8, 149.2, 149.2, 148.4,\n",
    "    150.2, 146.6, 149.8, 149.0, 150.8, 148.6, 150.2, 149.0,\n",
    "    148.6, 150.2, 148.2, 149.4, 150.8, 150.2, 152.2, 148.2,\n",
    "    149.2, 151.0, 149.6, 149.6, 149.4, 148.6, 150.0, 150.6,\n",
    "    149.2, 152.6, 152.8, 149.6, 151.6, 152.8, 153.2, 152.4 \n",
    "]"
   ]
  },
  {
   "cell_type": "code",
   "execution_count": null,
   "metadata": {},
   "outputs": [],
   "source": []
  }
 ],
 "metadata": {
  "kernelspec": {
   "display_name": "Python 3",
   "language": "python",
   "name": "python3"
  },
  "language_info": {
   "codemirror_mode": {
    "name": "ipython",
    "version": 3
   },
   "file_extension": ".py",
   "mimetype": "text/x-python",
   "name": "python",
   "nbconvert_exporter": "python",
   "pygments_lexer": "ipython3",
   "version": "3.6.5"
  }
 },
 "nbformat": 4,
 "nbformat_minor": 2
}
